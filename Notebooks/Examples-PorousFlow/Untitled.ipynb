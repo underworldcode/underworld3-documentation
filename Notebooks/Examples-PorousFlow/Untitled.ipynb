{
 "cells": [
  {
   "cell_type": "code",
   "execution_count": 4,
   "id": "6cbdff09-48ab-47ad-845f-f34d3501f789",
   "metadata": {
    "execution": {
     "iopub.execute_input": "2024-05-09T02:32:29.463479Z",
     "iopub.status.busy": "2024-05-09T02:32:29.463070Z",
     "iopub.status.idle": "2024-05-09T02:32:29.614504Z",
     "shell.execute_reply": "2024-05-09T02:32:29.614120Z",
     "shell.execute_reply.started": "2024-05-09T02:32:29.463445Z"
    }
   },
   "outputs": [],
   "source": [
    "import pytest\n",
    "import sympy\n",
    "import underworld3 as uw\n",
    "\n",
    "# These are tested by test_001_meshes.py\n",
    "\n",
    "structured_quad_box = uw.meshing.StructuredQuadBox(elementRes=(3,) * 2)\n",
    "\n",
    "unstructured_quad_box_irregular = uw.meshing.UnstructuredSimplexBox(\n",
    "    cellSize=0.2, regular=False, qdegree=2, refinement=1\n",
    ")\n",
    "unstructured_quad_box_regular = uw.meshing.UnstructuredSimplexBox(\n",
    "    cellSize=0.2, regular=True, qdegree=2, refinement=2\n",
    ")\n",
    "\n",
    "unstructured_quad_box_irregular_3D = uw.meshing.UnstructuredSimplexBox(\n",
    "    minCoords=(0.0, 0.0, 0.0),\n",
    "    maxCoords=(1.0, 1.0, 1.0),\n",
    "    cellSize=0.25,\n",
    "    regular=False,\n",
    "    qdegree=2,\n",
    ")\n",
    "\n",
    "# Maybe lower and upper would work better for the names of the box mesh boundaries too.\n",
    "\n",
    "\n",
    "def test_stokes_boxmesh(mesh):\n",
    "    print(f\"Mesh - Coordinates: {mesh.CoordinateSystem.type}\")\n",
    "    mesh.dm.view()\n",
    "\n",
    "    if mesh.dim == 2:\n",
    "        x, y = mesh.X\n",
    "    else:\n",
    "        x, y, z = mesh.X\n",
    "\n",
    "    u = uw.discretisation.MeshVariable(\n",
    "        r\"U\", mesh, mesh.dim, vtype=uw.VarType.VECTOR, degree=2, varsymbol=R\"{\\mathbf{u}}\",\n",
    "    )\n",
    "    p = uw.discretisation.MeshVariable(\n",
    "        r\"P\", mesh, 1, vtype=uw.VarType.SCALAR, degree=1,  varsymbol=R\"{\\mathbf{p}}\",\n",
    "    )\n",
    "\n",
    "    stokes = uw.systems.Stokes(mesh, velocityField=u, pressureField=p)\n",
    "    stokes.constitutive_model = uw.constitutive_models.ViscoElasticPlasticFlowModel\n",
    "    stokes.constitutive_model.Parameters.shear_viscosity_0 = 1\n",
    "    stokes.constitutive_model.Parameters.shear_modulus = 1\n",
    "    stokes.constitutive_model.Parameters.dt_elastic = sympy.sympify(1) / 10\n",
    "    \n",
    "\n",
    "    stokes.petsc_options[\"snes_type\"] = \"newtonls\"\n",
    "    stokes.petsc_options[\"ksp_type\"] = \"fgmres\"\n",
    "\n",
    "    stokes.petsc_options[\"snes_type\"] = \"newtonls\"\n",
    "    stokes.petsc_options[\"ksp_type\"] = \"fgmres\"\n",
    "    stokes.petsc_options[\"ksp_monitor\"] = None\n",
    "    stokes.petsc_options[\"snes_monitor\"] = None\n",
    "    stokes.tolerance = 1.0e-3\n",
    "\n",
    "    # stokes.petsc_options.setValue(\"fieldsplit_velocity_pc_type\", \"mg\")\n",
    "    stokes.petsc_options.setValue(\"fieldsplit_velocity_pc_mg_type\", \"kaskade\")\n",
    "    stokes.petsc_options.setValue(\"fieldsplit_velocity_pc_mg_cycle_type\", \"w\")\n",
    "\n",
    "    stokes.petsc_options[\"fieldsplit_velocity_mg_coarse_pc_type\"] = \"svd\"\n",
    "    stokes.petsc_options[f\"fieldsplit_velocity_ksp_type\"] = \"fcg\"\n",
    "    stokes.petsc_options[f\"fieldsplit_velocity_mg_levels_ksp_type\"] = \"chebyshev\"\n",
    "    stokes.petsc_options[f\"fieldsplit_velocity_mg_levels_ksp_max_it\"] = 7\n",
    "    stokes.petsc_options[f\"fieldsplit_velocity_mg_levels_ksp_converged_maxits\"] = None\n",
    "\n",
    "    stokes.petsc_options.setValue(\"fieldsplit_pressure_pc_type\", \"gamg\")\n",
    "    stokes.petsc_options.setValue(\"fieldsplit_pressure_pc_mg_type\", \"multiplicative\")\n",
    "    stokes.petsc_options.setValue(\"fieldsplit_pressure_pc_mg_cycle_type\", \"v\")\n",
    "\n",
    "    if mesh.dim == 2:\n",
    "        stokes.bodyforce = 1.0e6 * sympy.Matrix([0, x])\n",
    "\n",
    "        stokes.add_dirichlet_bc((0.0, 0.0), \"Bottom\")\n",
    "        stokes.add_dirichlet_bc((0.0, 0.0), \"Top\", 0)\n",
    "\n",
    "        stokes.add_dirichlet_bc((0.0, sympy.oo), \"Left\")\n",
    "        stokes.add_dirichlet_bc((0.0, sympy.oo), \"Right\")\n",
    "    else:\n",
    "        stokes.bodyforce = 1.0e6 * sympy.Matrix([0, x, 0])\n",
    "\n",
    "        stokes.add_dirichlet_bc((0.0, 0.0, 0.0), \"Bottom\")\n",
    "        stokes.add_dirichlet_bc((0.0, 0.0, 0.0), \"Top\")\n",
    "\n",
    "        stokes.add_dirichlet_bc((0.0, sympy.oo, sympy.oo), \"Left\")\n",
    "        stokes.add_dirichlet_bc((0.0, sympy.oo, sympy.oo), \"Right\")\n",
    "\n",
    "        stokes.add_dirichlet_bc((sympy.oo, 0.0, sympy.oo), \"Front\")\n",
    "        stokes.add_dirichlet_bc((sympy.oo, 0.0, sympy.oo), \"Back\")\n",
    "\n",
    "    stokes.solve(verbose=True)\n",
    "\n",
    "    print(f\"Mesh dimensions {mesh.dim}\", flush=True)\n",
    "    stokes.view()\n",
    "\n",
    "    assert stokes.snes.getConvergedReason() > 0\n",
    "\n",
    "\n",
    "    return stokes.constitutive_model.viscosity\n",
    "\n",
    "\n",
    "## Note this one fails because the corner boundary condition is not applied\n",
    "## correctly when the regular simplex mesh is used.\n",
    "## Mark as xfail for now\n",
    "\n",
    "\n",
    "def test_stokes_boxmesh_bc_failure(mesh):\n",
    "    # mesh = unstructured_quad_box_regular\n",
    "\n",
    "    print(f\"Mesh - Coordinates: {mesh.CoordinateSystem.type}\")\n",
    "    mesh.dm.view()\n",
    "\n",
    "    if mesh.dim == 2:\n",
    "        x, y = mesh.X\n",
    "    else:\n",
    "        x, y, z = mesh.X\n",
    "\n",
    "    u = uw.discretisation.MeshVariable(\n",
    "        r\"mathbf{u}\", mesh, mesh.dim, vtype=uw.VarType.VECTOR, degree=2\n",
    "    )\n",
    "    p = uw.discretisation.MeshVariable(\n",
    "        r\"mathbf{p}\", mesh, 1, vtype=uw.VarType.SCALAR, degree=1\n",
    "    )\n",
    "\n",
    "    stokes = uw.systems.Stokes(mesh, velocityField=u, pressureField=p)\n",
    "    stokes.constitutive_model = uw.constitutive_models.ViscoElasticPlasticFlowModel\n",
    "    stokes.constitutive_model.Parameters.shear_viscosity_0 = 1\n",
    "\n",
    "    stokes.petsc_options[\"snes_type\"] = \"newtonls\"\n",
    "    stokes.petsc_options[\"ksp_type\"] = \"fgmres\"\n",
    "\n",
    "    stokes.petsc_options[\"snes_monitor\"] = None\n",
    "    stokes.petsc_options[\"ksp_monitor\"] = None\n",
    "\n",
    "    # stokes.petsc_options.setValue(\"fieldsplit_velocity_pc_type\", \"mg\")\n",
    "    stokes.petsc_options.setValue(\"fieldsplit_velocity_pc_mg_type\", \"kaskade\")\n",
    "    stokes.petsc_options.setValue(\"fieldsplit_velocity_pc_mg_cycle_type\", \"w\")\n",
    "\n",
    "    stokes.petsc_options[\"fieldsplit_velocity_mg_coarse_pc_type\"] = \"svd\"\n",
    "    stokes.petsc_options[f\"fieldsplit_velocity_ksp_type\"] = \"fcg\"\n",
    "    stokes.petsc_options[f\"fieldsplit_velocity_mg_levels_ksp_type\"] = \"chebyshev\"\n",
    "    stokes.petsc_options[f\"fieldsplit_velocity_mg_levels_ksp_max_it\"] = 7\n",
    "    stokes.petsc_options[f\"fieldsplit_velocity_mg_levels_ksp_converged_maxits\"] = None\n",
    "\n",
    "    stokes.petsc_options.setValue(\"fieldsplit_pressure_pc_type\", \"gamg\")\n",
    "    stokes.petsc_options.setValue(\"fieldsplit_pressure_pc_mg_type\", \"additive\")\n",
    "    stokes.petsc_options.setValue(\"fieldsplit_pressure_pc_mg_cycle_type\", \"v\")\n",
    "\n",
    "    if mesh.dim == 2:\n",
    "        stokes.bodyforce = 1.0e6 * sympy.Matrix([0, x])\n",
    "\n",
    "        stokes.add_dirichlet_bc((0.0, 0.0), \"Bottom\")\n",
    "        stokes.add_dirichlet_bc((0.0, 0.0), \"Top\", 0)\n",
    "\n",
    "        stokes.add_dirichlet_bc((0.0, sympy.oo), \"Left\")\n",
    "        stokes.add_dirichlet_bc((0.0, sympy.oo), \"Right\")\n",
    "    else:\n",
    "        stokes.bodyforce = 1.0e6 * sympy.Matrix([0, x, 0])\n",
    "\n",
    "        stokes.add_dirichlet_bc((0.0, 0.0, 0.0), \"Bottom\")\n",
    "        stokes.add_dirichlet_bc((0.0, 0.0, 0.0), \"Top\")\n",
    "\n",
    "        stokes.add_dirichlet_bc((0.0, sympy.oo, sympy.oo), \"Left\")\n",
    "        stokes.add_dirichlet_bc((0.0, sympy.oo, sympy.oo), \"Right\")\n",
    "\n",
    "        stokes.add_dirichlet_bc((sympy.oo, 0.0, sympy.oo), \"Front\")\n",
    "        stokes.add_dirichlet_bc((sympy.oo, 0.0, sympy.oo), \"Back\")\n",
    "\n",
    "    stokes.solve()\n",
    "\n",
    "    print(f\"Mesh dimensions {mesh.dim}\", flush=True)\n",
    "    stokes.dm.ds.view()\n",
    "\n",
    "    assert stokes.snes.getConvergedReason() > 0\n",
    "\n",
    "    return stokes.stokes.constitutive_model.viscosity\n",
    "\n"
   ]
  },
  {
   "cell_type": "code",
   "execution_count": 6,
   "id": "8218a958-e1bc-42f2-85f1-1552bd3ca51c",
   "metadata": {
    "execution": {
     "iopub.execute_input": "2024-05-09T05:13:35.325700Z",
     "iopub.status.busy": "2024-05-09T05:13:35.325265Z",
     "iopub.status.idle": "2024-05-09T05:13:35.335260Z",
     "shell.execute_reply": "2024-05-09T05:13:35.334578Z",
     "shell.execute_reply.started": "2024-05-09T05:13:35.325662Z"
    }
   },
   "outputs": [],
   "source": [
    "sympy.core.cache.clear_cache()"
   ]
  },
  {
   "cell_type": "code",
   "execution_count": 5,
   "id": "34d98673-7f2b-4d9b-a17a-db71d8a36e1e",
   "metadata": {
    "execution": {
     "iopub.execute_input": "2024-05-09T02:32:29.876733Z",
     "iopub.status.busy": "2024-05-09T02:32:29.876290Z",
     "iopub.status.idle": "2024-05-09T02:32:30.900484Z",
     "shell.execute_reply": "2024-05-09T02:32:30.900213Z",
     "shell.execute_reply.started": "2024-05-09T02:32:29.876698Z"
    }
   },
   "outputs": [
    {
     "name": "stdout",
     "output_type": "stream",
     "text": [
      "Mesh - Coordinates: Cartesian 2D\n",
      "DM Object: uw_.meshes/uw_structuredQuadBox_minC(0.0, 0.0)_maxC(1.0, 1.0).msh 1 MPI process\n",
      "  type: plex\n",
      "uw_.meshes/uw_structuredQuadBox_minC(0.0, 0.0)_maxC(1.0, 1.0).msh in 2 dimensions:\n",
      "  Number of 0-cells per rank: 16\n",
      "  Number of 1-cells per rank: 24\n",
      "  Number of 2-cells per rank: 9\n",
      "Labels:\n",
      "  depth: 3 strata with value/size (0 (16), 1 (24), 2 (9))\n",
      "  All_Boundaries: 1 strata with value/size (1001 (12))\n",
      "  Bottom: 1 strata with value/size (11 (5))\n",
      "  Elements: 1 strata with value/size (99999 (13))\n",
      "  Left: 1 strata with value/size (14 (5))\n",
      "  Right: 1 strata with value/size (13 (5))\n",
      "  Top: 1 strata with value/size (12 (5))\n",
      "  celltype: 3 strata with value/size (0 (16), 1 (24), 4 (9))\n",
      "  UW_Boundaries: 5 strata with value/size (11 (5), 12 (5), 13 (5), 14 (5), 1001 (12))\n",
      "Processing JIT    0 / Matrix([[0, -1000000.0*N.x]])\n",
      "Processing JIT    1 / Matrix([[-{ { \\,\\!\\,\\!\\,\\!\\,\\!\\,\\! } {\\mathbf{p}} }(N.x, N.y) + 2*{ { \\,\\!\\,\\!\\,\\!\\,\\!\\,\\! } {\\mathbf{u}} }_{ 0,0}(N.x, N.y)/11, { { \\,\\!\\,\\!\\,\\!\\,\\!\\,\\! } {\\mathbf{u}} }_{ 0,1}(N.x, N.y)/11 + { { \\,\\!\\,\\!\\,\\!\\,\\!\\,\\! } {\\mathbf{u}} }_{ 1,0}(N.x, N.y)/11], [{ { \\,\\!\\,\\!\\,\\!\\,\\!\\,\\! } {\\mathbf{u}} }_{ 0,1}(N.x, N.y)/11 + { { \\,\\!\\,\\!\\,\\!\\,\\!\\,\\! } {\\mathbf{u}} }_{ 1,0}(N.x, N.y)/11, -{ { \\,\\!\\,\\!\\,\\!\\,\\!\\,\\! } {\\mathbf{p}} }(N.x, N.y) + 2*{ { \\,\\!\\,\\!\\,\\!\\,\\!\\,\\! } {\\mathbf{u}} }_{ 1,1}(N.x, N.y)/11]])\n",
      "Processing JIT    2 / Matrix([[{ { \\,\\!\\,\\!\\,\\!\\,\\!\\,\\! } {\\mathbf{u}} }_{ 0,0}(N.x, N.y) + { { \\,\\!\\,\\!\\,\\!\\,\\!\\,\\! } {\\mathbf{u}} }_{ 1,1}(N.x, N.y)]])\n",
      "Processing JIT    3 / Matrix([[0], [0]])\n",
      "Processing JIT    4 / Matrix([[0], [0]])\n",
      "Processing JIT    5 / Matrix([[0], [oo]])\n",
      "Processing JIT    6 / Matrix([[0], [oo]])\n",
      "Processing JIT    7 / Matrix([[0, 0], [0, 0]])\n",
      "Processing JIT    8 / Matrix([[0, 0, 0, 0], [0, 0, 0, 0]])\n",
      "Processing JIT    9 / Matrix([[0, 0], [0, 0], [0, 0], [0, 0]])\n",
      "Processing JIT   10 / Matrix([[2/11, 0, 0, 1/11], [0, 0, 1/11, 0], [0, 1/11, 0, 0], [1/11, 0, 0, 2/11]])\n",
      "Processing JIT   11 / Matrix([[0], [0]])\n",
      "Processing JIT   12 / Matrix([[0, 0], [0, 0]])\n",
      "Processing JIT   13 / Matrix([[-1, 0], [0, -1]])\n",
      "Processing JIT   14 / Matrix([[0, 0], [0, 0], [0, 0], [0, 0]])\n",
      "Processing JIT   15 / Matrix([[0], [0]])\n",
      "Processing JIT   16 / Matrix([[1], [0], [0], [1]])\n",
      "Processing JIT   17 / Matrix([[11]])\n",
      "Location of compiled module: /tmp/fn_ptr_ext_4180435461440873239\n",
      "FYTRM Equation count - 18\n",
      "FYTRM       3    residuals: 0:3\n",
      "FYTRM       4   boundaries: 3:7\n",
      "FYTRM      11    jacobians: 7:18\n",
      "FYTRM       0 boundary_res: 18:18\n",
      "FYTRM       0 boundary_jac: 18:18\n",
      "Weak form (DS)\n",
      "Weak Form System with 2 fields\n",
      "  residual_f0\n",
      "(0, 1) FYTRM_petsc_eqn_2\n",
      "(0, 0) FYTRM_petsc_eqn_0\n",
      "  residual_f1\n",
      "(0, 0) FYTRM_petsc_eqn_1\n",
      "  jacobian_g0\n",
      "(0, 1) FYTRM_petsc_eqn_15\n",
      "(1, 0) FYTRM_petsc_eqn_15\n",
      "(0, 0) FYTRM_petsc_eqn_12\n",
      "  jacobian_g1\n",
      "(0, 1) FYTRM_petsc_eqn_12\n",
      "(1, 0) FYTRM_petsc_eqn_16\n",
      "(0, 0) FYTRM_petsc_eqn_8\n",
      "  jacobian_g2\n",
      "(0, 1) FYTRM_petsc_eqn_13\n",
      "(0, 0) FYTRM_petsc_eqn_14\n",
      "  jacobian_g3\n",
      "(0, 1) FYTRM_petsc_eqn_14\n",
      "(0, 0) FYTRM_petsc_eqn_10\n",
      "  jacobian_preconditioner_g0\n",
      "(0, 1) FYTRM_petsc_eqn_15\n",
      "(1, 1) FYTRM_petsc_eqn_17\n",
      "(1, 0) FYTRM_petsc_eqn_15\n",
      "(0, 0) FYTRM_petsc_eqn_12\n",
      "  jacobian_preconditioner_g1\n",
      "(0, 1) FYTRM_petsc_eqn_12\n",
      "(1, 0) FYTRM_petsc_eqn_16\n",
      "(0, 0) FYTRM_petsc_eqn_8\n",
      "  jacobian_preconditioner_g2\n",
      "(0, 1) FYTRM_petsc_eqn_13\n",
      "(0, 0) FYTRM_petsc_eqn_14\n",
      "  jacobian_preconditioner_g3\n",
      "(0, 1) FYTRM_petsc_eqn_14\n",
      "(0, 0) FYTRM_petsc_eqn_10\n",
      "=============\n",
      "Weak form(s) (Natural Boundaries)\n",
      "SNES solve - picard = 0\n",
      "  0 SNES Function norm 1.009751519120e+05\n",
      "    Residual norms for  solve.\n",
      "    0 KSP Residual norm 1.009751519120e+05\n",
      "    1 KSP Residual norm 1.326081822266e+01\n",
      "  1 SNES Function norm 1.326081822266e+01\n",
      "SNES post-solve - bcs\n",
      "Mesh dimensions 2\n"
     ]
    },
    {
     "data": {
      "text/markdown": [
       "**Class**: <class 'underworld3.systems.solvers.SNES_Stokes'>"
      ],
      "text/plain": [
       "<IPython.core.display.Markdown object>"
      ]
     },
     "metadata": {},
     "output_type": "display_data"
    },
    {
     "data": {
      "text/markdown": [
       "**Saddle point system solver**"
      ],
      "text/plain": [
       "<IPython.core.display.Markdown object>"
      ]
     },
     "metadata": {},
     "output_type": "display_data"
    },
    {
     "data": {
      "text/markdown": [
       "Primary problem: "
      ],
      "text/plain": [
       "<IPython.core.display.Markdown object>"
      ]
     },
     "metadata": {},
     "output_type": "display_data"
    },
    {
     "data": {
      "text/latex": [
       "$\\tiny \\quad \\nabla \\cdot \\color{Blue}\\left[\\begin{matrix}2 {\\eta_{\\mathrm{eff}}} { { \\,\\!\\,\\!\\,\\!\\,\\!\\,\\! } {\\mathbf{u}} }_{ 0,0}(\\mathbf{x}) - { { \\,\\!\\,\\!\\,\\!\\,\\!\\,\\! } {\\mathbf{p}} }(\\mathbf{x}) & {\\eta_{\\mathrm{eff}}} \\left({ { \\,\\!\\,\\!\\,\\!\\,\\!\\,\\! } {\\mathbf{u}} }_{ 0,1}(\\mathbf{x}) + { { \\,\\!\\,\\!\\,\\!\\,\\!\\,\\! } {\\mathbf{u}} }_{ 1,0}(\\mathbf{x})\\right)\\\\{\\eta_{\\mathrm{eff}}} \\left({ { \\,\\!\\,\\!\\,\\!\\,\\!\\,\\! } {\\mathbf{u}} }_{ 0,1}(\\mathbf{x}) + { { \\,\\!\\,\\!\\,\\!\\,\\!\\,\\! } {\\mathbf{u}} }_{ 1,0}(\\mathbf{x})\\right) & 2 {\\eta_{\\mathrm{eff}}} { { \\,\\!\\,\\!\\,\\!\\,\\!\\,\\! } {\\mathbf{u}} }_{ 1,1}(\\mathbf{x}) - { { \\,\\!\\,\\!\\,\\!\\,\\!\\,\\! } {\\mathbf{p}} }(\\mathbf{x})\\end{matrix}\\right]$ + "
      ],
      "text/plain": [
       "<IPython.core.display.Latex object>"
      ]
     },
     "metadata": {},
     "output_type": "display_data"
    },
    {
     "data": {
      "text/latex": [
       "$\\tiny \\phantom{ \\quad \\nabla \\cdot} \\color{DarkRed}\\left[\\begin{matrix}0 & - 1000000.0 \\mathrm{x}\\end{matrix}\\right]\\color{Black} = 0 $"
      ],
      "text/plain": [
       "<IPython.core.display.Latex object>"
      ]
     },
     "metadata": {},
     "output_type": "display_data"
    },
    {
     "data": {
      "text/markdown": [
       "Constraint: "
      ],
      "text/plain": [
       "<IPython.core.display.Markdown object>"
      ]
     },
     "metadata": {},
     "output_type": "display_data"
    },
    {
     "data": {
      "text/latex": [
       "$\\tiny \\phantom{ \\quad \\nabla \\cdot} \\left[\\begin{matrix}{ { \\,\\!\\,\\!\\,\\!\\,\\!\\,\\! } {\\mathbf{u}} }_{ 0,0}(\\mathbf{x}) + { { \\,\\!\\,\\!\\,\\!\\,\\!\\,\\! } {\\mathbf{u}} }_{ 1,1}(\\mathbf{x})\\end{matrix}\\right] = 0 $"
      ],
      "text/plain": [
       "<IPython.core.display.Latex object>"
      ]
     },
     "metadata": {},
     "output_type": "display_data"
    },
    {
     "data": {
      "text/markdown": [
       "*Where:*"
      ],
      "text/plain": [
       "<IPython.core.display.Markdown object>"
      ]
     },
     "metadata": {},
     "output_type": "display_data"
    },
    {
     "data": {
      "text/latex": [
       "$\\quad$$\\displaystyle \\uplambda$$=$$\\displaystyle 0$"
      ],
      "text/plain": [
       "<IPython.core.display.Latex object>"
      ]
     },
     "metadata": {},
     "output_type": "display_data"
    },
    {
     "data": {
      "text/latex": [
       "$\\quad$$\\displaystyle {\\eta_{\\mathrm{eff}}}$$=$$\\displaystyle \\frac{{\\Delta t_{e}} {\\eta} {\\mu}}{{\\Delta t_{e}} {\\mu} + {\\eta}}$"
      ],
      "text/plain": [
       "<IPython.core.display.Latex object>"
      ]
     },
     "metadata": {},
     "output_type": "display_data"
    },
    {
     "data": {
      "text/latex": [
       "$\\quad\\quad$$\\displaystyle {\\Delta t_{e}}$$=$$\\displaystyle \\frac{1}{10}$"
      ],
      "text/plain": [
       "<IPython.core.display.Latex object>"
      ]
     },
     "metadata": {},
     "output_type": "display_data"
    },
    {
     "data": {
      "text/latex": [
       "$\\quad\\quad$$\\displaystyle {\\eta}$$=$$\\displaystyle 1$"
      ],
      "text/plain": [
       "<IPython.core.display.Latex object>"
      ]
     },
     "metadata": {},
     "output_type": "display_data"
    },
    {
     "data": {
      "text/latex": [
       "$\\quad\\quad$$\\displaystyle {\\mu}$$=$$\\displaystyle 1$"
      ],
      "text/plain": [
       "<IPython.core.display.Latex object>"
      ]
     },
     "metadata": {},
     "output_type": "display_data"
    },
    {
     "data": {
      "text/markdown": [
       "This solver is formulated in 2 dimensions"
      ],
      "text/plain": [
       "<IPython.core.display.Markdown object>"
      ]
     },
     "metadata": {},
     "output_type": "display_data"
    }
   ],
   "source": [
    "eta_eff = test_stokes_boxmesh(structured_quad_box)"
   ]
  },
  {
   "cell_type": "code",
   "execution_count": null,
   "id": "c9c9bb37-47f3-423b-86fa-376203b03f2a",
   "metadata": {
    "execution": {
     "iopub.status.busy": "2024-05-09T02:31:40.028268Z",
     "iopub.status.idle": "2024-05-09T02:31:40.028415Z",
     "shell.execute_reply": "2024-05-09T02:31:40.028331Z",
     "shell.execute_reply.started": "2024-05-09T02:31:40.028325Z"
    }
   },
   "outputs": [],
   "source": [
    "eta_eff"
   ]
  },
  {
   "cell_type": "code",
   "execution_count": null,
   "id": "24359d79-c069-42ff-923c-8872ce6dce96",
   "metadata": {
    "execution": {
     "iopub.status.busy": "2024-05-09T02:31:40.029065Z",
     "iopub.status.idle": "2024-05-09T02:31:40.029335Z",
     "shell.execute_reply": "2024-05-09T02:31:40.029275Z",
     "shell.execute_reply.started": "2024-05-09T02:31:40.029270Z"
    }
   },
   "outputs": [],
   "source": [
    "eta_eff.sub_all(keep_constants=False)"
   ]
  },
  {
   "cell_type": "code",
   "execution_count": null,
   "id": "ee999c64-bdbf-4d2f-a6ed-f2a3f38055a5",
   "metadata": {
    "scrolled": true
   },
   "outputs": [],
   "source": [
    "\n"
   ]
  },
  {
   "cell_type": "code",
   "execution_count": null,
   "id": "63e2bb85-7572-4b10-b368-65a3a0d322a1",
   "metadata": {},
   "outputs": [],
   "source": []
  },
  {
   "cell_type": "code",
   "execution_count": null,
   "id": "dd56363d-648d-4a82-abde-b195eff43e2f",
   "metadata": {
    "execution": {
     "iopub.status.busy": "2024-05-09T02:31:40.030162Z",
     "iopub.status.idle": "2024-05-09T02:31:40.030259Z",
     "shell.execute_reply": "2024-05-09T02:31:40.030209Z",
     "shell.execute_reply.started": "2024-05-09T02:31:40.030205Z"
    }
   },
   "outputs": [],
   "source": [
    "import matplotlib.pyplot as plt\n",
    "\n",
    "%matplotlib inline\n",
    "\n",
    "fig = plt.figure()\n",
    "ax1 = fig.add_subplot(111, xlabel=\"Pressure\", ylabel=\"Depth\")\n",
    "ax1.plot(pressure_interp, ycoords, linewidth=3, label=\"Numerical solution\")\n",
    "ax1.plot(pressure_interp_0, ycoords, linewidth=3, label=\"Numerical solution (no G)\")\n",
    "ax1.plot(\n",
    "    pressure_analytic, ycoords, linewidth=3, linestyle=\"--\", label=\"Analytic solution\"\n",
    ")\n",
    "\n",
    "ax1.plot(\n",
    "    pressure_analytic_noG,\n",
    "    ycoords,\n",
    "    linewidth=3,\n",
    "    linestyle=\"--\",\n",
    "    label=\"Analytic (no gravity)\",\n",
    ")\n",
    "\n",
    "ax1.grid(\"on\")\n",
    "ax1.legend()"
   ]
  },
  {
   "cell_type": "code",
   "execution_count": null,
   "id": "a709b446-b676-4ab5-b144-f257e5a633dd",
   "metadata": {
    "execution": {
     "iopub.status.busy": "2024-05-09T02:31:40.030811Z",
     "iopub.status.idle": "2024-05-09T02:31:40.030958Z",
     "shell.execute_reply": "2024-05-09T02:31:40.030865Z",
     "shell.execute_reply.started": "2024-05-09T02:31:40.030861Z"
    }
   },
   "outputs": [],
   "source": [
    "pressure_interp, pressure_analytic, pressure_interp_0, pressure_analytic_noG, ycoords =  test_Darcy_boxmesh_G_and_noG(meshSimplex_box_irregular)\n",
    "\n"
   ]
  },
  {
   "cell_type": "code",
   "execution_count": null,
   "id": "032e7263-df41-41f9-8292-acb5d5a506ce",
   "metadata": {
    "execution": {
     "iopub.status.busy": "2024-05-09T02:31:40.031671Z",
     "iopub.status.idle": "2024-05-09T02:31:40.031768Z",
     "shell.execute_reply": "2024-05-09T02:31:40.031717Z",
     "shell.execute_reply.started": "2024-05-09T02:31:40.031713Z"
    }
   },
   "outputs": [],
   "source": [
    "import matplotlib.pyplot as plt\n",
    "\n",
    "%matplotlib inline\n",
    "\n",
    "fig = plt.figure()\n",
    "ax1 = fig.add_subplot(111, xlabel=\"Pressure\", ylabel=\"Depth\")\n",
    "ax1.plot(pressure_interp, ycoords, linewidth=3, label=\"Numerical solution\")\n",
    "ax1.plot(pressure_interp_0, ycoords, linewidth=3, label=\"Numerical solution (no G)\")\n",
    "ax1.plot(\n",
    "    pressure_analytic, ycoords, linewidth=3, linestyle=\"--\", label=\"Analytic solution\"\n",
    ")\n",
    "\n",
    "ax1.plot(\n",
    "    pressure_analytic_noG,\n",
    "    ycoords,\n",
    "    linewidth=3,\n",
    "    linestyle=\"--\",\n",
    "    label=\"Analytic (no gravity)\",\n",
    ")\n",
    "\n",
    "ax1.grid(\"on\")\n",
    "ax1.legend()"
   ]
  },
  {
   "cell_type": "code",
   "execution_count": null,
   "id": "3a32c45c-e216-43c6-a87d-1827eef6d34e",
   "metadata": {},
   "outputs": [],
   "source": [
    "sympy.core.cache."
   ]
  }
 ],
 "metadata": {
  "kernelspec": {
   "display_name": "Python 3 (ipykernel)",
   "language": "python",
   "name": "python3"
  },
  "language_info": {
   "codemirror_mode": {
    "name": "ipython",
    "version": 3
   },
   "file_extension": ".py",
   "mimetype": "text/x-python",
   "name": "python",
   "nbconvert_exporter": "python",
   "pygments_lexer": "ipython3",
   "version": "3.11.8"
  }
 },
 "nbformat": 4,
 "nbformat_minor": 5
}
