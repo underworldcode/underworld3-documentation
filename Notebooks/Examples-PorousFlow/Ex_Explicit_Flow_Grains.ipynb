{
 "cells": [
  {
   "cell_type": "markdown",
   "id": "6184c1bf",
   "metadata": {},
   "source": [
    "# Navier Stokes test: flow around a circular inclusion (2D)\n",
    "\n",
    "No slip conditions\n",
    "\n",
    "Note ...\n",
    "\n",
    "\n"
   ]
  },
  {
   "cell_type": "code",
   "execution_count": 1,
   "id": "04881f97",
   "metadata": {},
   "outputs": [
    {
     "name": "stderr",
     "output_type": "stream",
     "text": [
      "[esdhcp-137.anu.edu.au:83131] shmem: mmap: an error occurred while determining whether or not /var/folders/tx/95gr762j29z4tt5d1dnqlgth0000gn/T//ompi.esdhcp-137.501/jf.0/380502016/sm_segment.esdhcp-137.501.16ae0000.0 could be created.\n"
     ]
    }
   ],
   "source": [
    "import os\n",
    "\n",
    "os.environ[\"UW_TIMING_ENABLE\"] = \"1\"\n",
    "\n",
    "import petsc4py\n",
    "import underworld3 as uw\n",
    "from underworld3 import timing\n",
    "\n",
    "import nest_asyncio\n",
    "nest_asyncio.apply()\n",
    "\n",
    "import numpy as np\n",
    "import sympy\n",
    "\n",
    "# import psutil\n",
    "# pid = os.getpid()\n",
    "# python_process = psutil.Process(pid)\n",
    "# print(f\"Memory usage = {python_process.memory_info().rss//1000000} Mb\", flush=True)"
   ]
  },
  {
   "cell_type": "code",
   "execution_count": 2,
   "id": "475b3e07",
   "metadata": {},
   "outputs": [],
   "source": [
    "# Parameters that define the notebook\n",
    "# These can be set when launching the script as\n",
    "# mpirun python3 scriptname -uw_resolution=0.1 etc\n",
    "\n",
    "resolution = uw.options.getInt(\"model_resolution\", default=20)\n",
    "refinement = uw.options.getInt(\"model_refinement\", default=0)\n",
    "model = uw.options.getInt(\"model_number\", default=1)\n",
    "maxsteps = uw.options.getInt(\"max_steps\", default=201)\n",
    "restart_step = uw.options.getInt(\"restart_step\", default=-1)"
   ]
  },
  {
   "cell_type": "code",
   "execution_count": 3,
   "id": "87f5fbba",
   "metadata": {},
   "outputs": [],
   "source": [
    "outdir = f\"output/output_res_{resolution}\"\n",
    "os.makedirs(\".meshes\", exist_ok=True)\n",
    "os.makedirs(f\"{outdir}\", exist_ok=True)"
   ]
  },
  {
   "cell_type": "code",
   "execution_count": 4,
   "id": "7f540b21-7665-4673-9eeb-88303e2293d2",
   "metadata": {
    "lines_to_next_cell": 0
   },
   "outputs": [],
   "source": [
    "width = 4.0\n",
    "height = 1.0\n",
    "resolution = 14\n",
    "expt_name = \"Expt_3\"\n",
    "\n",
    "csize = 1.0 / resolution\n",
    "csize_circle = 0.66 * csize\n",
    "res = csize_circle\n",
    "\n",
    "width = 4.0\n",
    "height = 1.0\n",
    "\n",
    "rows = 5\n",
    "columns = int((width-1)*rows)\n",
    "radius_0 = 0.075\n",
    "variation = 0.075\n",
    "\n",
    "U0 = 1.0"
   ]
  },
  {
   "cell_type": "code",
   "execution_count": null,
   "id": "de419d5f-4b8a-4163-86b2-b95d2a7ecc2c",
   "metadata": {
    "lines_to_next_cell": 2
   },
   "outputs": [],
   "source": []
  },
  {
   "cell_type": "code",
   "execution_count": 5,
   "id": "9073de64-c27f-411b-8d78-4d4b53bd1a5b",
   "metadata": {
    "lines_to_next_cell": 2
   },
   "outputs": [
    {
     "name": "stdout",
     "output_type": "stream",
     "text": [
      "DM Object: uw_.meshes/ns_pipe_flow_14.msh 1 MPI process\n",
      "  type: plex\n",
      "uw_.meshes/ns_pipe_flow_14.msh in 2 dimensions:\n",
      "  Number of 0-cells per rank: 2362\n",
      "  Number of 1-cells per rank: 6320\n",
      "  Number of 2-cells per rank: 3884\n",
      "Labels:\n",
      "  depth: 3 strata with value/size (0 (2362), 1 (6320), 2 (3884))\n",
      "  All_Boundaries: 1 strata with value/size (1001 (988))\n",
      "  Elements: 1 strata with value/size (666666 (5258))\n",
      "  bottom: 1 strata with value/size (1 (111))\n",
      "  celltype: 3 strata with value/size (0 (2362), 1 (6320), 3 (3884))\n",
      "  inclusion: 1 strata with value/size (5 (1396))\n",
      "  left: 1 strata with value/size (3 (27))\n",
      "  right: 1 strata with value/size (2 (27))\n",
      "  top: 1 strata with value/size (4 (111))\n",
      "  Null_Boundary: 1 strata with value/size (666 (2362))\n",
      "  UW_Boundaries: 7 strata with value/size (1 (111), 2 (27), 3 (27), 4 (111), 5 (1396), 1001 (988), 666 (2362))\n"
     ]
    }
   ],
   "source": [
    "## Pure gmsh version\n",
    "\n",
    "import pygmsh\n",
    "from enum import Enum\n",
    "\n",
    "## NOTE: stop using pygmsh, then we can just define boundary labels ourselves and not second guess pygmsh\n",
    "\n",
    "class boundaries(Enum):\n",
    "    bottom = 1\n",
    "    right = 2\n",
    "    left  = 3\n",
    "    top = 4\n",
    "    inclusion = 5\n",
    "    All_Boundaries = 1001 \n",
    "\n",
    "# Mesh a 2D pipe with a circular hole\n",
    "\n",
    "## Restore inflow samples to inflow points\n",
    "def pipemesh_return_coords_to_bounds(coords):\n",
    "    lefty_troublemakers = coords[:, 0] < 0.0\n",
    "    coords[lefty_troublemakers, 0] = 0.0001\n",
    "\n",
    "    return coords\n",
    "\n",
    "if uw.mpi.rank == 0:\n",
    "    import gmsh\n",
    "    \n",
    "    gmsh.initialize()\n",
    "    gmsh.option.setNumber(\"General.Verbosity\", 1)\n",
    "    gmsh.model.add(\"Domain\")\n",
    "    \n",
    "    inclusions = []\n",
    "    inclusion_curves = []\n",
    "\n",
    "    # Repeatable random numbers \n",
    "    rrand = np.random.default_rng(66666)\n",
    "    \n",
    "    dy = 1.0/(rows+0.5)\n",
    "    dx = dy*1.2\n",
    "    \n",
    "    for row in range(0,rows):\n",
    "        for col in range(0,columns):\n",
    "    \n",
    "            y = dy*(row+0.75) \n",
    "            x = 0.25 + dx * col + ( row%2 ) * 0.5 * dx\n",
    "            r = radius_0  +  variation * (rrand.random()-0.5)\n",
    "    \n",
    "            i_points = [\n",
    "                gmsh.model.occ.add_point(x,y,0.0,   meshSize=csize_circle),\n",
    "                gmsh.model.occ.add_point(x,y+r,0.0, meshSize=csize_circle),\n",
    "                gmsh.model.occ.add_point(x-r,y,0.0, meshSize=csize_circle),\n",
    "                gmsh.model.occ.add_point(x,y-r,0.0, meshSize=csize_circle),\n",
    "                gmsh.model.occ.add_point(x+r,y,0.0, meshSize=csize_circle)\n",
    "            ]\n",
    "            \n",
    "            i_quarter_circles = [\n",
    "                gmsh.model.occ.add_circle_arc(i_points[1], i_points[0], i_points[2]),\n",
    "                gmsh.model.occ.add_circle_arc(i_points[2], i_points[0], i_points[3]),\n",
    "                gmsh.model.occ.add_circle_arc(i_points[3], i_points[0], i_points[4]),\n",
    "                gmsh.model.occ.add_circle_arc(i_points[4], i_points[0], i_points[1]),\n",
    "            ]\n",
    "           \n",
    "            inclusion_loop = gmsh.model.occ.add_curve_loop(i_quarter_circles)\n",
    "            inclusion = gmsh.model.occ.add_plane_surface([inclusion_loop])            \n",
    "    \n",
    "            inclusions.append((2,inclusion))\n",
    "            inclusion_curves.append(i_quarter_circles[0])\n",
    "            inclusion_curves.append(i_quarter_circles[1])\n",
    "            inclusion_curves.append(i_quarter_circles[2])\n",
    "            inclusion_curves.append(i_quarter_circles[3])\n",
    "    \n",
    "            gmsh.model.occ.synchronize()\n",
    "    \n",
    "    corner_points = []\n",
    "    corner_points.append(gmsh.model.occ.add_point(0.0, 0.0, 0.0,  csize))\n",
    "    corner_points.append(gmsh.model.occ.add_point(width, 0.0, 0.0, csize))\n",
    "    corner_points.append(gmsh.model.occ.add_point(width, 1.0, 0.0,  csize))\n",
    "    corner_points.append(gmsh.model.occ.add_point(0.0, 1.0, 0.0, csize))\n",
    "    \n",
    "    bottom = gmsh.model.occ.add_line(corner_points[0], corner_points[1])\n",
    "    right = gmsh.model.occ.add_line(corner_points[1], corner_points[2])\n",
    "    top = gmsh.model.occ.add_line(corner_points[2], corner_points[3])\n",
    "    left =  gmsh.model.occ.add_line(corner_points[3], corner_points[0])\n",
    "    \n",
    "    # gmsh.model.occ.synchronize()\n",
    "    \n",
    "    domain_loop = gmsh.model.occ.add_curve_loop((bottom, right, top, left))\n",
    "    gmsh.model.occ.add_plane_surface([domain_loop])\n",
    "    \n",
    "    gmsh.model.occ.synchronize()\n",
    "    \n",
    "    # The ordering of the boundaries is scrambled in the \n",
    "    # occ.cut stage, save the bb and match the boundaries afterwards.\n",
    "    \n",
    "    brtl_bboxes = [ \n",
    "               gmsh.model.get_bounding_box(1,bottom),\n",
    "               gmsh.model.get_bounding_box(1,right),\n",
    "               gmsh.model.get_bounding_box(1,top),\n",
    "               gmsh.model.get_bounding_box(1,left) \n",
    "            ]\n",
    "    \n",
    "    brtl_indices = [bottom, right, top, left]\n",
    "     \n",
    "    domain_cut, index = gmsh.model.occ.cut([(2,domain_loop)], inclusions)\n",
    "    domain = domain_cut[0]\n",
    "    gmsh.model.occ.synchronize()\n",
    "\n",
    "    ## There is surely a better way !\n",
    "  \n",
    "    brtl_indices = [bottom, right, top, left]\n",
    "    brtl_map = [\n",
    "        brtl_bboxes.index(gmsh.model.occ.get_bounding_box(1,bottom)), \n",
    "        brtl_bboxes.index(gmsh.model.occ.get_bounding_box(1,right)),\n",
    "        brtl_bboxes.index(gmsh.model.occ.get_bounding_box(1,top)), \n",
    "        brtl_bboxes.index(gmsh.model.occ.get_bounding_box(1,left))\n",
    "    ]\n",
    "    \n",
    "    new_bottom = brtl_indices[brtl_map.index(0)]\n",
    "    new_right  = brtl_indices[brtl_map.index(1)]\n",
    "    new_top    = brtl_indices[brtl_map.index(2)]\n",
    "    new_left   = brtl_indices[brtl_map.index(3)]\n",
    "      \n",
    "    gmsh.model.addPhysicalGroup(1, [new_bottom], boundaries.bottom.value, name=boundaries.bottom.name)\n",
    "    gmsh.model.addPhysicalGroup(1, [new_right], boundaries.right.value, name=boundaries.right.name)\n",
    "    gmsh.model.addPhysicalGroup(1, [new_top], boundaries.top.value, name=boundaries.top.name)\n",
    "    gmsh.model.addPhysicalGroup(1, [new_left], boundaries.left.value, name=boundaries.left.name)\n",
    "    gmsh.model.addPhysicalGroup(1, inclusion_curves, boundaries.inclusion.value, name=boundaries.inclusion.name)\n",
    "    gmsh.model.addPhysicalGroup(2, [domain[1]], 666666, \"Elements\")\n",
    "    \n",
    "    gmsh.model.occ.synchronize()\n",
    "    gmsh.model.mesh.generate(dim=2)\n",
    "    gmsh.write(f\".meshes/ns_pipe_flow_{resolution}.msh\")\n",
    "    gmsh.finalize()\n",
    "\n",
    "pipemesh = uw.discretisation.Mesh(\n",
    "    f\".meshes/ns_pipe_flow_{resolution}.msh\",\n",
    "    markVertices=True,\n",
    "    useMultipleTags=True,\n",
    "    useRegions=True,\n",
    "    refinement=refinement,\n",
    "    refinement_callback=None,\n",
    "    return_coords_to_bounds= pipemesh_return_coords_to_bounds,\n",
    "    boundaries=boundaries,\n",
    "    qdegree=3,\n",
    ")\n",
    "\n",
    "pipemesh.dm.view()\n",
    "\n",
    "# Some useful coordinate stuff\n",
    "\n",
    "x = pipemesh.N.x\n",
    "y = pipemesh.N.y\n"
   ]
  },
  {
   "cell_type": "code",
   "execution_count": 6,
   "id": "c0d28fd1-ed08-4198-8b51-843f06c2ca4c",
   "metadata": {
    "lines_to_next_cell": 0
   },
   "outputs": [
    {
     "data": {
      "application/vnd.jupyter.widget-view+json": {
       "model_id": "4739c9673322497d88da1f6c6b194ae0",
       "version_major": 2,
       "version_minor": 0
      },
      "text/plain": [
       "EmbeddableWidget(value='<iframe srcdoc=\"<!DOCTYPE html>\\n<html>\\n  <head>\\n    <meta http-equiv=&quot;Content-…"
      ]
     },
     "metadata": {},
     "output_type": "display_data"
    }
   ],
   "source": [
    "# check the mesh if in a notebook / serial\n",
    "\n",
    "if uw.mpi.size == 1:\n",
    "\n",
    "    import pyvista as pv\n",
    "    import underworld3.visualisation as vis\n",
    "\n",
    "    pvmesh = vis.mesh_to_pv_mesh(pipemesh)\n",
    " \n",
    "    pl = pv.Plotter(window_size=(800, 250))\n",
    "\n",
    "    pl.add_mesh(\n",
    "        pvmesh,\n",
    "        cmap=\"coolwarm\",\n",
    "        edge_color=\"Grey\",\n",
    "        show_edges=True,\n",
    "        use_transparency=False,\n",
    "        opacity=1.0,\n",
    "    )\n",
    "\n",
    "    pl.camera.position = (2.0, 0.5, 3)\n",
    "    pl.camera.focal_point=(2.0,0.5,0.0)\n",
    "\n",
    "    pl.show(jupyter_backend='html')"
   ]
  },
  {
   "cell_type": "code",
   "execution_count": null,
   "id": "1e53d02c-ba91-401a-86fa-983d00775714",
   "metadata": {
    "lines_to_next_cell": 2
   },
   "outputs": [],
   "source": []
  },
  {
   "cell_type": "code",
   "execution_count": 7,
   "id": "8710aec1",
   "metadata": {},
   "outputs": [],
   "source": [
    "v_soln = uw.discretisation.MeshVariable(\"U\", pipemesh, pipemesh.dim, degree=2)\n",
    "p_soln = uw.discretisation.MeshVariable(\"P\", pipemesh, 1, degree=1, continuous=True)\n",
    "p_cont = uw.discretisation.MeshVariable(\"Pc\", pipemesh, 1, degree=2, continuous=True)\n",
    "vorticity = uw.discretisation.MeshVariable(\"omega\", pipemesh, 1, degree=1)"
   ]
  },
  {
   "cell_type": "code",
   "execution_count": null,
   "id": "9084f609-58d5-4d8d-b96b-ca974ca35596",
   "metadata": {},
   "outputs": [],
   "source": []
  },
  {
   "cell_type": "code",
   "execution_count": 8,
   "id": "bc125fe3",
   "metadata": {
    "lines_to_end_of_cell_marker": 2,
    "lines_to_next_cell": 0
   },
   "outputs": [],
   "source": [
    "passive_swarm = uw.swarm.Swarm(mesh=pipemesh)\n",
    "passive_swarm.populate(\n",
    "    fill_param=0,\n",
    ")\n",
    "\n",
    "# add new points at the inflow\n",
    "new_points = 5000\n",
    "new_coords = np.zeros((new_points,2))\n",
    "new_coords[:,0] = 0.1\n",
    "new_coords[:,1] = np.linspace(0, 1.0, new_points)\n",
    "passive_swarm.add_particles_with_coordinates(new_coords)    \n",
    "\n",
    "## Blast away all the original swarm particles\n",
    "\n",
    "with passive_swarm.access(passive_swarm.particle_coordinates):\n",
    "    XY = passive_swarm.particle_coordinates.data\n",
    "    XY[XY[:,0] > 0.12] = 5.0"
   ]
  },
  {
   "cell_type": "code",
   "execution_count": 9,
   "id": "0e7f60b3",
   "metadata": {},
   "outputs": [],
   "source": [
    "nodal_vorticity_from_v = uw.systems.Projection(pipemesh, vorticity)\n",
    "nodal_vorticity_from_v.uw_function = sympy.vector.curl(v_soln.fn).dot(pipemesh.N.k)\n",
    "nodal_vorticity_from_v.smoothing = 1.0e-3\n",
    "nodal_vorticity_from_v.petsc_options.delValue(\"ksp_monitor\")"
   ]
  },
  {
   "cell_type": "code",
   "execution_count": 10,
   "id": "42d69884",
   "metadata": {
    "lines_to_next_cell": 2
   },
   "outputs": [],
   "source": [
    "# Set solve options here (or remove default values\n",
    "# stokes.petsc_options.getAll()\n",
    "\n",
    "stokes = uw.systems.Stokes(\n",
    "    pipemesh,\n",
    "    velocityField=v_soln,\n",
    "    pressureField=p_soln,\n",
    "    verbose=False,\n",
    ")\n",
    "\n",
    "stokes.petsc_options[\"snes_monitor\"] = None\n",
    "stokes.petsc_options[\"ksp_monitor\"] = None\n",
    "stokes.petsc_options[\"snes_type\"] = \"newtonls\"\n",
    "stokes.petsc_options[\"ksp_type\"] = \"fgmres\"\n",
    "stokes.petsc_options.setValue(\"fieldsplit_velocity_pc_type\", \"mg\")\n",
    "stokes.petsc_options.setValue(\"fieldsplit_velocity_pc_mg_type\", \"kaskade\")\n",
    "stokes.petsc_options.setValue(\"fieldsplit_velocity_pc_mg_cycle_type\", \"w\")\n",
    "stokes.petsc_options[\"fieldsplit_velocity_mg_coarse_pc_type\"] = \"svd\"\n",
    "stokes.petsc_options[\"fieldsplit_velocity_ksp_type\"] = \"fcg\"\n",
    "stokes.petsc_options[\"fieldsplit_velocity_mg_levels_ksp_type\"] = \"chebyshev\"\n",
    "stokes.petsc_options[\"fieldsplit_velocity_mg_levels_ksp_max_it\"] = 2\n",
    "stokes.petsc_options[\"fieldsplit_velocity_mg_levels_ksp_converged_maxits\"] = None\n",
    "\n",
    "# # gasm is super-fast ... but mg seems to be bulletproof\n",
    "# # gamg is toughest wrt viscosity\n",
    "\n",
    "stokes.petsc_options.setValue(\"fieldsplit_pressure_pc_type\", \"gamg\")\n",
    "stokes.petsc_options.setValue(\"fieldsplit_pressure_pc_mg_type\", \"additive\")\n",
    "stokes.petsc_options.setValue(\"fieldsplit_pressure_pc_mg_cycle_type\", \"v\")\n",
    "\n",
    "# # # mg, multiplicative - very robust ... similar to gamg, additive\n",
    "\n",
    "# stokes.petsc_options.setValue(\"fieldsplit_pressure_pc_type\", \"mg\")\n",
    "# stokes.petsc_options.setValue(\"fieldsplit_pressure_pc_mg_type\", \"multiplicative\")\n",
    "# stokes.petsc_options.setValue(\"fieldsplit_pressure_pc_mg_cycle_type\", \"v\")\n",
    "\n",
    "stokes.tolerance = 0.00001\n",
    "\n",
    "\n",
    "stokes.constitutive_model = uw.constitutive_models.ViscousFlowModel\n",
    "\n",
    "# Constant visc\n",
    "\n",
    "stokes.penalty = 10\n",
    "stokes.bodyforce = sympy.Matrix([0, 0])\n",
    "\n",
    "\n",
    "# Velocity boundary conditions\n",
    "\n",
    "stokes.add_dirichlet_bc(\n",
    "    (0.0, 0.0),\n",
    "    \"inclusion\",\n",
    ")\n",
    "\n",
    "# Gamma = pipemesh.Gamma\n",
    "# GammaNorm = uw.function.expression(r\"|\\Gamma|\", sympy.sqrt(Gamma.dot(Gamma)), \"Scaling for surface normals\")\n",
    "# GammaN = Gamma / GammaNorm\n",
    "# stokes.add_natural_bc(100000 * v_soln.sym.dot(GammaN) * GammaN, \"inclusion\")\n",
    "\n",
    "stokes.add_dirichlet_bc((0.0, 0.0), \"top\")\n",
    "stokes.add_dirichlet_bc((0.0, 0.0), \"bottom\")\n",
    "stokes.add_dirichlet_bc((U0, 0.0), \"left\")"
   ]
  },
  {
   "cell_type": "code",
   "execution_count": 11,
   "id": "75af80d3-d009-4384-ad21-130943962e7f",
   "metadata": {},
   "outputs": [
    {
     "name": "stdout",
     "output_type": "stream",
     "text": [
      "  0 SNES Function norm 1.093517544304e+02\n",
      "    Residual norms for Solver_11_ solve.\n",
      "    0 KSP Residual norm 1.093517544304e+02\n",
      "    1 KSP Residual norm 8.294279451952e-05\n",
      "  1 SNES Function norm 8.294279453014e-05\n"
     ]
    }
   ],
   "source": [
    "stokes.solve(zero_init_guess=True)"
   ]
  },
  {
   "cell_type": "code",
   "execution_count": 12,
   "id": "45989b5a",
   "metadata": {},
   "outputs": [],
   "source": [
    "continuous_pressure_projection = uw.systems.Projection(pipemesh, p_cont)\n",
    "continuous_pressure_projection.uw_function = p_soln.sym[0]\n",
    "continuous_pressure_projection.solve()"
   ]
  },
  {
   "cell_type": "code",
   "execution_count": 13,
   "id": "44d277fd-c253-4580-b9c1-d5f0a57f9a93",
   "metadata": {
    "lines_to_next_cell": 0
   },
   "outputs": [],
   "source": [
    "## Write out this file and data \n",
    "import os, shutil\n",
    "\n",
    "os.makedirs(expt_name, exist_ok=True)\n",
    "shutil.copy(\"Ex_Explicit_Flow_Grains.py\", expt_name)\n",
    "\n",
    "\n",
    "pipemesh.write_timestep(\n",
    "    \"ExplicitGrains\",\n",
    "    meshUpdates=True,\n",
    "    meshVars=[p_soln, v_soln],\n",
    "    outputPath=expt_name,\n",
    "    index=0,\n",
    ")"
   ]
  },
  {
   "cell_type": "code",
   "execution_count": 30,
   "id": "a08cbe85-c572-41bf-84f9-eb5f1d841106",
   "metadata": {},
   "outputs": [],
   "source": [
    "I = uw.maths.Integral(mesh=pipemesh, fn=1.0)\n",
    "area = I.evaluate()\n",
    "porosity = area / 4 \n",
    "\n",
    "I.fn = v_soln.sym[0]\n",
    "ave_velocity = I.evaluate() / area"
   ]
  },
  {
   "cell_type": "code",
   "execution_count": 31,
   "id": "4db3f005-b6b4-47c7-86ee-d2f9c9bcbb5d",
   "metadata": {},
   "outputs": [
    {
     "data": {
      "text/plain": [
       "1.4382566112265567"
      ]
     },
     "execution_count": 31,
     "metadata": {},
     "output_type": "execute_result"
    }
   ],
   "source": [
    "ave_velocity"
   ]
  },
  {
   "cell_type": "code",
   "execution_count": 32,
   "id": "fbbb5776-2541-48fa-8af1-5c966c4ece80",
   "metadata": {
    "lines_to_next_cell": 2
   },
   "outputs": [
    {
     "data": {
      "text/plain": [
       "1.438257751425901"
      ]
     },
     "execution_count": 32,
     "metadata": {},
     "output_type": "execute_result"
    }
   ],
   "source": [
    "1 / porosity"
   ]
  },
  {
   "cell_type": "code",
   "execution_count": 14,
   "id": "0396d337-de94-43be-a92d-1557881b3922",
   "metadata": {},
   "outputs": [
    {
     "ename": "ZeroDivisionError",
     "evalue": "division by zero",
     "output_type": "error",
     "traceback": [
      "\u001b[0;31m---------------------------------------------------------------------------\u001b[0m",
      "\u001b[0;31mZeroDivisionError\u001b[0m                         Traceback (most recent call last)",
      "Cell \u001b[0;32mIn[14], line 1\u001b[0m\n\u001b[0;32m----> 1\u001b[0m \u001b[38;5;241;43m0\u001b[39;49m\u001b[38;5;241;43m/\u001b[39;49m\u001b[38;5;241;43m0\u001b[39;49m\n",
      "\u001b[0;31mZeroDivisionError\u001b[0m: division by zero"
     ]
    }
   ],
   "source": [
    "0/0"
   ]
  },
  {
   "cell_type": "code",
   "execution_count": null,
   "id": "b207678e-7404-4d11-a0bb-6905b6eb24b9",
   "metadata": {},
   "outputs": [],
   "source": [
    "time=0\n",
    "steps = 0\n",
    "num_finishing = []"
   ]
  },
  {
   "cell_type": "code",
   "execution_count": null,
   "id": "f86020ed-1a77-43e3-9e0e-d4f7f32d7c0b",
   "metadata": {},
   "outputs": [],
   "source": [
    "dt = 2 * stokes.estimate_dt()\n",
    "\n",
    "for step in range(0, int(2.5/dt)):\n",
    "    \n",
    "    passive_swarm.advection(v_soln.sym, dt)\n",
    "    print(f\"{steps:04d} - t = {time:0.4f} - particles {passive_swarm.dm.getLocalSize()}\")\n",
    "\n",
    "    with passive_swarm.access(passive_swarm.particle_coordinates):\n",
    "        p_no = passive_swarm.dm.getLocalSize()\n",
    "        XY = passive_swarm.particle_coordinates.data\n",
    "        XY[XY[:,0] > 0.95 * width] = width + 1\n",
    "        \n",
    "    p_no_1 = passive_swarm.dm.getLocalSize()\n",
    "    num_finishing.append(p_no - p_no_1)\n",
    "\n",
    "    if steps%50 == 0:\n",
    "        passive_swarm.write_timestep(\n",
    "            \"Explicit_Grains\",\n",
    "            \"passive_swarm\",\n",
    "            swarmVars=None,\n",
    "            outputPath=expt_name,\n",
    "            index=steps,\n",
    "            force_sequential=True,\n",
    "        )\n",
    "\n",
    "    \n",
    "    steps += 1\n",
    "    time += dt\n"
   ]
  },
  {
   "cell_type": "code",
   "execution_count": null,
   "id": "bf6ac664-2888-4c07-b9fd-bbd078826e4a",
   "metadata": {
    "scrolled": true
   },
   "outputs": [],
   "source": [
    "with open(\"Particle_numbers.txt\",  mode=\"w\") as fp:\n",
    "    for i, num in enumerate(num_finishing):\n",
    "        print(i, num, file=fp)"
   ]
  },
  {
   "cell_type": "code",
   "execution_count": 22,
   "id": "0c9ff4bd-44d0-4992-ab70-955a404ca050",
   "metadata": {},
   "outputs": [
    {
     "data": {
      "application/vnd.jupyter.widget-view+json": {
       "model_id": "735cf703e6714236b6d0ea28256b7395",
       "version_major": 2,
       "version_minor": 0
      },
      "text/plain": [
       "EmbeddableWidget(value='<iframe srcdoc=\"<!DOCTYPE html>\\n<html>\\n  <head>\\n    <meta http-equiv=&quot;Content-…"
      ]
     },
     "metadata": {},
     "output_type": "display_data"
    }
   ],
   "source": [
    "# check the mesh if in a notebook / serial\n",
    "\n",
    "if uw.mpi.size == 1:\n",
    "\n",
    "    import pyvista as pv\n",
    "    import underworld3.visualisation as vis\n",
    "\n",
    "    pvmesh = vis.mesh_to_pv_mesh(pipemesh)\n",
    "    pvmesh.point_data[\"V\"] = vis.vector_fn_to_pv_points(pvmesh, v_soln.sym)\n",
    "    pvmesh.point_data[\"Vmag\"] = vis.scalar_fn_to_pv_points(pvmesh, v_soln.sym.dot(v_soln.sym))\n",
    "    pvmesh.point_data[\"Omega\"] = vis.scalar_fn_to_pv_points(pvmesh, vorticity.sym)\n",
    "    pvmesh.point_data[\"P\"] = vis.scalar_fn_to_pv_points(pvmesh, p_soln.sym)\n",
    "    pvmesh.point_data[\"Pc\"] = vis.scalar_fn_to_pv_points(pvmesh, p_cont.sym)\n",
    "    \n",
    "    velocity_points = vis.meshVariable_to_pv_cloud(v_soln)\n",
    "    velocity_points.point_data[\"V\"] = vis.vector_fn_to_pv_points(velocity_points, v_soln.sym)\n",
    "\n",
    "    # point sources at cell centres\n",
    "    points = np.zeros((pipemesh._centroids.shape[0], 3))\n",
    "    points[:, 0] = pipemesh._centroids[:, 0]\n",
    "    points[:, 1] = pipemesh._centroids[:, 1]\n",
    "    point_cloud = pv.PolyData(points)\n",
    "\n",
    "    passive_swarm_points = uw.visualisation.swarm_to_pv_cloud(passive_swarm)\n",
    "\n",
    "    pvstream = pvmesh.streamlines_from_source(\n",
    "        point_cloud, vectors=\"V\", integration_direction=\"forward\", \n",
    "        surface_streamlines=True, max_steps=100\n",
    "    )\n",
    "\n",
    "    points = vis.swarm_to_pv_cloud(passive_swarm)\n",
    "    point_cloud = pv.PolyData(points)\n",
    "\n",
    "    pl = pv.Plotter(window_size=(1500, 750))\n",
    "\n",
    "    pl.add_arrows(velocity_points.points, \n",
    "                  velocity_points.point_data[\"V\"], \n",
    "                  mag=0.01 / U0, opacity=0.25, show_scalar_bar=False)\n",
    "\n",
    "\n",
    "    pl.add_mesh(\n",
    "        pvmesh,\n",
    "        cmap=\"coolwarm\",\n",
    "        edge_color=\"Grey\",\n",
    "        show_edges=True,\n",
    "        scalars=\"Pc\",\n",
    "        use_transparency=False,\n",
    "        opacity=1.0,\n",
    "        show_scalar_bar=False,\n",
    "    )\n",
    "    \n",
    "    pl.add_mesh(pvstream)\n",
    "\n",
    "    pl.add_points(\n",
    "        passive_swarm_points,\n",
    "        color=\"Black\",\n",
    "        render_points_as_spheres=True,\n",
    "        point_size=4,\n",
    "        opacity=1.0,\n",
    "        show_scalar_bar=False,\n",
    "    )\n",
    "    \n",
    "    pl.camera.position = (2.0, 0.5, 3)\n",
    "    pl.camera.focal_point=(2.0,0.5,0.0)\n",
    "\n",
    "    pl.show(jupyter_backend=\"html\")"
   ]
  },
  {
   "cell_type": "code",
   "execution_count": null,
   "id": "d8383049-10fb-44be-8a04-9933417459e0",
   "metadata": {},
   "outputs": [],
   "source": [
    "pl.screenshot(window_size=(2000,500), filename=f\"{expt_name}/ExplicitGrains.{step}.png\")\n",
    "pass"
   ]
  },
  {
   "cell_type": "code",
   "execution_count": null,
   "id": "05d17fa7",
   "metadata": {},
   "outputs": [],
   "source": []
  }
 ],
 "metadata": {
  "jupytext": {
   "formats": "py:light,ipynb"
  },
  "kernelspec": {
   "display_name": "Python 3 (ipykernel)",
   "language": "python",
   "name": "python3"
  },
  "language_info": {
   "codemirror_mode": {
    "name": "ipython",
    "version": 3
   },
   "file_extension": ".py",
   "mimetype": "text/x-python",
   "name": "python",
   "nbconvert_exporter": "python",
   "pygments_lexer": "ipython3",
   "version": "3.11.10"
  }
 },
 "nbformat": 4,
 "nbformat_minor": 5
}
