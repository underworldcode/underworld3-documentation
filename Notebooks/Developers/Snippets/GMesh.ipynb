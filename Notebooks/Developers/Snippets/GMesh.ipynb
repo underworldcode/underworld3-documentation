{
 "cells": [
  {
   "cell_type": "markdown",
   "id": "0b61b085",
   "metadata": {},
   "source": [
    "# GMesh / PyGMesh How-tos"
   ]
  },
  {
   "cell_type": "code",
   "execution_count": 2,
   "id": "8300c769",
   "metadata": {},
   "outputs": [],
   "source": [
    "import pygmsh"
   ]
  },
  {
   "cell_type": "markdown",
   "id": "cf6daba9",
   "metadata": {},
   "source": [
    "## Polygon"
   ]
  },
  {
   "cell_type": "code",
   "execution_count": 3,
   "id": "0d14e23a",
   "metadata": {},
   "outputs": [],
   "source": [
    "with pygmsh.occ.Geometry() as geom:\n",
    "    geom.add_polygon(\n",
    "        [\n",
    "            [0.0, 0.0],\n",
    "            [1.0, -0.2],\n",
    "            [1.1, 1.2],\n",
    "            [0.1, 0.7],\n",
    "        ],\n",
    "        mesh_size=0.1,\n",
    "    )\n",
    "    mesh = geom.generate_mesh()"
   ]
  },
  {
   "cell_type": "code",
   "execution_count": 4,
   "id": "00a8405c",
   "metadata": {},
   "outputs": [],
   "source": [
    "with open(\"output/polygon.vtk\", mode=\"wb\") as f:\n",
    "    mesh.write(f, file_format=\"vtk\")"
   ]
  },
  {
   "cell_type": "markdown",
   "id": "6815a830",
   "metadata": {},
   "source": [
    "## Disk\n",
    "\n",
    "Add a disk in the OpenCASCADE CAD representation, with center (xc, yc, zc) and radius rx along the x-axis and ry along the y-axis. If tag is positive, set the tag explicitly; otherwise a new tag is selected automatically. Return the tag of the disk."
   ]
  },
  {
   "cell_type": "code",
   "execution_count": 5,
   "id": "9d829d9e",
   "metadata": {},
   "outputs": [],
   "source": [
    "with pygmsh.occ.Geometry() as geom:\n",
    "    geom.add_disk((0.,0.), radius0=1.0, mesh_size=0.1)\n",
    "    mesh = geom.generate_mesh()"
   ]
  },
  {
   "cell_type": "code",
   "execution_count": 6,
   "id": "9bb04fd5",
   "metadata": {},
   "outputs": [],
   "source": [
    "with open(\"output/disk.vtk\", mode=\"wb\") as f:\n",
    "    mesh.write(f, file_format=\"vtk\")"
   ]
  },
  {
   "cell_type": "markdown",
   "id": "25383767",
   "metadata": {},
   "source": [
    "## Sphere"
   ]
  },
  {
   "cell_type": "code",
   "execution_count": 7,
   "id": "012a7f1f",
   "metadata": {},
   "outputs": [],
   "source": [
    "with pygmsh.occ.Geometry() as geom:\n",
    "    geom.add_ball(center=(0.,0.,0.), radius=1.0, mesh_size=0.1)\n",
    "    mesh = geom.generate_mesh()"
   ]
  },
  {
   "cell_type": "code",
   "execution_count": 8,
   "id": "d55eb4f1",
   "metadata": {},
   "outputs": [],
   "source": [
    "with open(\"output/sphere.vtk\", mode=\"wb\") as f:\n",
    "    mesh.write(f, file_format=\"vtk\")"
   ]
  },
  {
   "cell_type": "markdown",
   "id": "10cc5ded",
   "metadata": {},
   "source": [
    "## Hollow Sphere"
   ]
  },
  {
   "cell_type": "code",
   "execution_count": 9,
   "id": "ad8743a9",
   "metadata": {},
   "outputs": [],
   "source": [
    "with pygmsh.occ.Geometry() as geom:\n",
    "    ball_outer = geom.add_ball(center=(0.,0.,0.), radius=1.0)\n",
    "    ball_inner = geom.add_ball(center=(0.,0.,0.), radius=0.3)\n",
    "    geom.boolean_difference(ball_outer,ball_inner)\n",
    "    geom.characteristic_length_max = 0.1\n",
    "    mesh = geom.generate_mesh()"
   ]
  },
  {
   "cell_type": "code",
   "execution_count": 10,
   "id": "9ea7becc",
   "metadata": {},
   "outputs": [],
   "source": [
    "with open(\"output/hollow_sphere.vtk\", mode=\"wb\") as f:\n",
    "    mesh.write(f, file_format=\"vtk\")"
   ]
  },
  {
   "cell_type": "markdown",
   "id": "33d1a981",
   "metadata": {},
   "source": [
    "# Structured Regular Mesh"
   ]
  },
  {
   "cell_type": "code",
   "execution_count": 11,
   "id": "e4183db0",
   "metadata": {},
   "outputs": [],
   "source": [
    "with pygmsh.geo.Geometry() as geom:\n",
    "    p1 = geom.add_point((0.,0.,0.))\n",
    "    p2 = geom.add_point((2.,0.,0.))\n",
    "    p3 = geom.add_point((0.,2.,0.))\n",
    "    p4 = geom.add_point((2.,2.,0.))\n",
    "    l1 = geom.add_line(p1, p2)\n",
    "    l2 = geom.add_line(p2, p4)\n",
    "    l3 = geom.add_line(p4, p3)\n",
    "    l4 = geom.add_line(p3, p1)\n",
    "    cl = geom.add_curve_loop((l1, l2, l3, l4))\n",
    "    surface = geom.add_surface(cl)\n",
    "    geom.set_transfinite_surface(surface=surface, arrangement=\"Left\", corner_pts=[p1,p2,p3,p4])\n",
    "    geom.set_transfinite_curve(curve=l1, num_nodes=20, mesh_type=\"Progression\", coeff=1.0)\n",
    "    geom.set_transfinite_curve(curve=l2, num_nodes=20, mesh_type=\"Progression\", coeff=1.0)\n",
    "    geom.set_transfinite_curve(curve=l3, num_nodes=20, mesh_type=\"Progression\", coeff=1.0)\n",
    "    geom.set_transfinite_curve(curve=l4, num_nodes=20, mesh_type=\"Progression\", coeff=1.0)\n",
    "    geom.set_recombined_surfaces(surfaces=[surface])\n",
    "    mesh = geom.generate_mesh()"
   ]
  },
  {
   "cell_type": "code",
   "execution_count": 12,
   "id": "ee626f7e",
   "metadata": {},
   "outputs": [],
   "source": [
    "with open(\"output/regular.vtk\", mode=\"wb\") as f:\n",
    "    mesh.write(f, file_format=\"vtk\")"
   ]
  },
  {
   "cell_type": "markdown",
   "id": "3d40e6e0",
   "metadata": {},
   "source": [
    "## Structured Regular Mesh 2"
   ]
  },
  {
   "cell_type": "code",
   "execution_count": 13,
   "id": "3dc66cb7",
   "metadata": {},
   "outputs": [],
   "source": [
    "with pygmsh.geo.Geometry() as geom:\n",
    "    p1 = geom.add_point((0.,0.,0.))\n",
    "    p2 = geom.add_point((2.,0.,0.))\n",
    "    p3 = geom.add_point((0.,1.,0.))\n",
    "    p4 = geom.add_point((2.,1.,0.))\n",
    "    p5 = geom.add_point((0.,0.7,0.))\n",
    "    p6 = geom.add_point((2.,0.7,0.))\n",
    "    \n",
    "    l1 = geom.add_line(p1, p2)\n",
    "    l2 = geom.add_line(p2, p6)\n",
    "    l3 = geom.add_line(p6, p5)\n",
    "    l4 = geom.add_line(p5, p1)\n",
    "    \n",
    "    l5 = geom.add_line(p5, p6)\n",
    "    l6 = geom.add_line(p6, p4)\n",
    "    l7 = geom.add_line(p4, p3)\n",
    "    l8 = geom.add_line(p3, p5)\n",
    "    \n",
    "    cl1 = geom.add_curve_loop((l1, l2, l3, l4))\n",
    "    cl2 = geom.add_curve_loop((l5, l6, l7, l8))\n",
    "    \n",
    "    s1 = geom.add_surface(cl1)\n",
    "    s2 = geom.add_surface(cl2)\n",
    "    \n",
    "    geom.set_transfinite_surface(surface=s1, arrangement=\"Left\", corner_pts=[p1,p2,p5,p6])\n",
    "    geom.set_transfinite_surface(surface=s2, arrangement=\"Left\", corner_pts=[p5,p6,p3,p4])\n",
    "    geom.set_transfinite_curve(curve=l1, num_nodes=20, mesh_type=\"Progression\", coeff=1.0)\n",
    "    geom.set_transfinite_curve(curve=l2, num_nodes=5, mesh_type=\"Progression\", coeff=1.0)\n",
    "    geom.set_transfinite_curve(curve=l3, num_nodes=20, mesh_type=\"Progression\", coeff=1.0)\n",
    "    geom.set_transfinite_curve(curve=l4, num_nodes=5, mesh_type=\"Progression\", coeff=1.0)\n",
    "    geom.set_transfinite_curve(curve=l5, num_nodes=20, mesh_type=\"Progression\", coeff=1.0)\n",
    "    geom.set_transfinite_curve(curve=l6, num_nodes=10, mesh_type=\"Progression\", coeff=1.0)\n",
    "    geom.set_transfinite_curve(curve=l7, num_nodes=20, mesh_type=\"Progression\", coeff=1.0)\n",
    "    geom.set_transfinite_curve(curve=l8, num_nodes=10, mesh_type=\"Progression\", coeff=1.0)\n",
    "    geom.set_recombined_surfaces(surfaces=[s1, s2])\n",
    "    mesh = geom.generate_mesh()"
   ]
  },
  {
   "cell_type": "code",
   "execution_count": 14,
   "id": "e7740bb4",
   "metadata": {},
   "outputs": [],
   "source": [
    "with open(\"output/regular2.vtk\", mode=\"wb\") as f:\n",
    "    mesh.write(f, file_format=\"vtk\")"
   ]
  },
  {
   "cell_type": "markdown",
   "id": "bdf6e65d",
   "metadata": {},
   "source": [
    "## Structured Regular Mesh 3D (WIP, should use extruded surface) "
   ]
  },
  {
   "cell_type": "code",
   "execution_count": 15,
   "id": "17ed4dff",
   "metadata": {},
   "outputs": [],
   "source": [
    "# with pygmsh.geo.Geometry() as geom:\n",
    "#     p1 = geom.add_point((0.,0.,0.))\n",
    "#     p2 = geom.add_point((1.,0.,0.))\n",
    "#     p3 = geom.add_point((0.,1.,0.))\n",
    "#     p4 = geom.add_point((1.,1.,0.))\n",
    "#     p5 = geom.add_point((0.,0.,1.))\n",
    "#     p6 = geom.add_point((1.,0.,1.))\n",
    "#     p7 = geom.add_point((0.,1.,1.))\n",
    "#     p8 = geom.add_point((1.,1.,1.))    \n",
    "    \n",
    "#     l1 = geom.add_line(p1, p2)\n",
    "#     l2 = geom.add_line(p2, p4)\n",
    "#     l3 = geom.add_line(p4, p3)\n",
    "#     l4 = geom.add_line(p3, p1)\n",
    "    \n",
    "#     ## Front\n",
    "#     cl = geom.add_curve_loop((l1, l2, l3, l4))\n",
    "#     front = geom.add_surface(cl)\n",
    "    \n",
    "#     l1 = geom.add_line(p5, p6)\n",
    "#     l2 = geom.add_line(p6, p7)\n",
    "#     l3 = geom.add_line(p7, p8)\n",
    "#     l4 = geom.add_line(p8, p5)    \n",
    "    \n",
    "#     ## Back\n",
    "#     cl = geom.add_curve_loop((l1, l2, l3, l4))\n",
    "#     back = geom.add_surface(cl)   \n",
    "    \n",
    "#     l1 = geom.add_line(p1, p2)\n",
    "#     l2 = geom.add_line(p2, p6)\n",
    "#     l3 = geom.add_line(p6, p5)\n",
    "#     l4 = geom.add_line(p5, p1) \n",
    "\n",
    "#     ## Bottom\n",
    "#     cl = geom.add_curve_loop((l1, l2, l3, l4))\n",
    "#     bottom = geom.add_surface(cl)   \n",
    "    \n",
    "#     l1 = geom.add_line(p4, p3)\n",
    "#     l2 = geom.add_line(p3, p7)\n",
    "#     l3 = geom.add_line(p7, p8)\n",
    "#     l4 = geom.add_line(p8, p4) \n",
    "\n",
    "#     ## Top\n",
    "#     cl = geom.add_curve_loop((l1, l2, l3, l4))\n",
    "#     top = geom.add_surface(cl)\n",
    "    \n",
    "#     l1 = geom.add_line(p2, p6)\n",
    "#     l2 = geom.add_line(p6, p7)\n",
    "#     l3 = geom.add_line(p7, p3)\n",
    "#     l4 = geom.add_line(p3, p2) \n",
    "\n",
    "#     ## Right\n",
    "#     cl = geom.add_curve_loop((l1, l2, l3, l4))\n",
    "#     right = geom.add_surface(cl)\n",
    "    \n",
    "#     l1 = geom.add_line(p1, p5)\n",
    "#     l2 = geom.add_line(p5, p8)\n",
    "#     l3 = geom.add_line(p8, p4)\n",
    "#     l4 = geom.add_line(p4, p1) \n",
    "\n",
    "#     ## Left\n",
    "#     cl = geom.add_curve_loop((l1, l2, l3, l4))\n",
    "#     left = geom.add_surface(cl)\n",
    "    \n",
    "\n",
    "#     geom.set_transfinite_surface(surface=front, arrangement=\"Left\", corner_pts=[p1,p2,p3,p4])\n",
    "#     geom.set_transfinite_surface(surface=back, arrangement=\"Left\", corner_pts=[p5,p6,p7,p8])\n",
    "#     geom.set_transfinite_surface(surface=bottom, arrangement=\"Left\", corner_pts=[p1,p2,p6,p5])\n",
    "#     geom.set_transfinite_surface(surface=top, arrangement=\"Left\", corner_pts=[p4,p3,p7,p8])\n",
    "#     geom.set_transfinite_surface(surface=right, arrangement=\"Left\", corner_pts=[p2,p6,p7,p3])\n",
    "#     geom.set_transfinite_surface(surface=left, arrangement=\"Left\", corner_pts=[p5,p1,p4,p8])\n",
    "    \n",
    "#     geom.set_recombined_surfaces(surfaces=[front, back, bottom, top, right, left])\n",
    "    \n",
    "#     sloop = geom.add_surface_loop([front, left, bottom, back, right, top])\n",
    "#     volume = geom.add_volume(sloop)\n",
    "#     geom.set_transfinite_volume(volume, corner_pts=[p1, p2, p3, p4, p5, p6, p7, p8])\n",
    "\n",
    "#     mesh = geom.generate_mesh()"
   ]
  },
  {
   "cell_type": "code",
   "execution_count": 16,
   "id": "8730b858",
   "metadata": {},
   "outputs": [],
   "source": [
    "# with open(\"output/regular3d.vtk\", mode=\"wb\") as f:\n",
    "#     mesh.write(f, file_format=\"vtk\")"
   ]
  },
  {
   "cell_type": "markdown",
   "id": "727c9be2",
   "metadata": {},
   "source": [
    "# Labelling"
   ]
  },
  {
   "cell_type": "markdown",
   "id": "c68f6078",
   "metadata": {},
   "source": [
    "## Unstructured Mesh"
   ]
  },
  {
   "cell_type": "code",
   "execution_count": 52,
   "id": "06837980",
   "metadata": {},
   "outputs": [],
   "source": [
    "with pygmsh.geo.Geometry() as geom:\n",
    "    p1 = geom.add_point((0.,0.,0.))\n",
    "    p2 = geom.add_point((2.,0.,0.))\n",
    "    p3 = geom.add_point((0.,2.,0.))\n",
    "    p4 = geom.add_point((2.,2.,0.))\n",
    "    l1 = geom.add_line(p1, p2)\n",
    "    l2 = geom.add_line(p2, p4)\n",
    "    l3 = geom.add_line(p4, p3)\n",
    "    l4 = geom.add_line(p3, p1)\n",
    "    #geom.add_physical(l1, label=\"Bottom\")\n",
    "    cl = geom.add_curve_loop((l1, l2, l3, l4))\n",
    "    surface = geom.add_surface(cl)\n",
    "    mesh = geom.generate_mesh()"
   ]
  },
  {
   "cell_type": "code",
   "execution_count": 53,
   "id": "c023d626",
   "metadata": {},
   "outputs": [
    {
     "ename": "WriteError",
     "evalue": "Specify entity information (gmsh:dim_tags in point_data) to deal with more than one cell type. ",
     "output_type": "error",
     "traceback": [
      "\u001b[0;31m---------------------------------------------------------------------------\u001b[0m",
      "\u001b[0;31mWriteError\u001b[0m                                Traceback (most recent call last)",
      "\u001b[0;32m/tmp/ipykernel_20558/409550977.py\u001b[0m in \u001b[0;36m<module>\u001b[0;34m\u001b[0m\n\u001b[0;32m----> 1\u001b[0;31m \u001b[0mmesh\u001b[0m\u001b[0;34m.\u001b[0m\u001b[0mwrite\u001b[0m\u001b[0;34m(\u001b[0m\u001b[0;34m\"output/rectangle.msh\"\u001b[0m\u001b[0;34m)\u001b[0m\u001b[0;34m\u001b[0m\u001b[0;34m\u001b[0m\u001b[0m\n\u001b[0m",
      "\u001b[0;32m~/PROJECTS/Project_underworld3/uw3_venv/lib/python3.9/site-packages/meshio/_mesh.py\u001b[0m in \u001b[0;36mwrite\u001b[0;34m(self, path_or_buf, file_format, **kwargs)\u001b[0m\n\u001b[1;32m    217\u001b[0m         \u001b[0;32mfrom\u001b[0m \u001b[0;34m.\u001b[0m\u001b[0m_helpers\u001b[0m \u001b[0;32mimport\u001b[0m \u001b[0mwrite\u001b[0m\u001b[0;34m\u001b[0m\u001b[0;34m\u001b[0m\u001b[0m\n\u001b[1;32m    218\u001b[0m \u001b[0;34m\u001b[0m\u001b[0m\n\u001b[0;32m--> 219\u001b[0;31m         \u001b[0mwrite\u001b[0m\u001b[0;34m(\u001b[0m\u001b[0mpath_or_buf\u001b[0m\u001b[0;34m,\u001b[0m \u001b[0mself\u001b[0m\u001b[0;34m,\u001b[0m \u001b[0mfile_format\u001b[0m\u001b[0;34m,\u001b[0m \u001b[0;34m**\u001b[0m\u001b[0mkwargs\u001b[0m\u001b[0;34m)\u001b[0m\u001b[0;34m\u001b[0m\u001b[0;34m\u001b[0m\u001b[0m\n\u001b[0m\u001b[1;32m    220\u001b[0m \u001b[0;34m\u001b[0m\u001b[0m\n\u001b[1;32m    221\u001b[0m     \u001b[0;32mdef\u001b[0m \u001b[0mget_cells_type\u001b[0m\u001b[0;34m(\u001b[0m\u001b[0mself\u001b[0m\u001b[0;34m,\u001b[0m \u001b[0mcell_type\u001b[0m\u001b[0;34m:\u001b[0m \u001b[0mstr\u001b[0m\u001b[0;34m)\u001b[0m\u001b[0;34m:\u001b[0m\u001b[0;34m\u001b[0m\u001b[0;34m\u001b[0m\u001b[0m\n",
      "\u001b[0;32m~/PROJECTS/Project_underworld3/uw3_venv/lib/python3.9/site-packages/meshio/_helpers.py\u001b[0m in \u001b[0;36mwrite\u001b[0;34m(filename, mesh, file_format, **kwargs)\u001b[0m\n\u001b[1;32m    139\u001b[0m \u001b[0;34m\u001b[0m\u001b[0m\n\u001b[1;32m    140\u001b[0m     \u001b[0;31m# Write\u001b[0m\u001b[0;34m\u001b[0m\u001b[0;34m\u001b[0m\u001b[0m\n\u001b[0;32m--> 141\u001b[0;31m     \u001b[0;32mreturn\u001b[0m \u001b[0mwriter\u001b[0m\u001b[0;34m(\u001b[0m\u001b[0mfilename\u001b[0m\u001b[0;34m,\u001b[0m \u001b[0mmesh\u001b[0m\u001b[0;34m,\u001b[0m \u001b[0;34m**\u001b[0m\u001b[0mkwargs\u001b[0m\u001b[0;34m)\u001b[0m\u001b[0;34m\u001b[0m\u001b[0;34m\u001b[0m\u001b[0m\n\u001b[0m",
      "\u001b[0;32m~/PROJECTS/Project_underworld3/uw3_venv/lib/python3.9/site-packages/meshio/gmsh/main.py\u001b[0m in \u001b[0;36m<lambda>\u001b[0;34m(f, m, **kwargs)\u001b[0m\n\u001b[1;32m    109\u001b[0m     {\n\u001b[1;32m    110\u001b[0m         \u001b[0;34m\"gmsh22\"\u001b[0m\u001b[0;34m:\u001b[0m \u001b[0;32mlambda\u001b[0m \u001b[0mf\u001b[0m\u001b[0;34m,\u001b[0m \u001b[0mm\u001b[0m\u001b[0;34m,\u001b[0m \u001b[0;34m**\u001b[0m\u001b[0mkwargs\u001b[0m\u001b[0;34m:\u001b[0m \u001b[0mwrite\u001b[0m\u001b[0;34m(\u001b[0m\u001b[0mf\u001b[0m\u001b[0;34m,\u001b[0m \u001b[0mm\u001b[0m\u001b[0;34m,\u001b[0m \u001b[0;34m\"2.2\"\u001b[0m\u001b[0;34m,\u001b[0m \u001b[0;34m**\u001b[0m\u001b[0mkwargs\u001b[0m\u001b[0;34m)\u001b[0m\u001b[0;34m,\u001b[0m\u001b[0;34m\u001b[0m\u001b[0;34m\u001b[0m\u001b[0m\n\u001b[0;32m--> 111\u001b[0;31m         \u001b[0;34m\"gmsh\"\u001b[0m\u001b[0;34m:\u001b[0m \u001b[0;32mlambda\u001b[0m \u001b[0mf\u001b[0m\u001b[0;34m,\u001b[0m \u001b[0mm\u001b[0m\u001b[0;34m,\u001b[0m \u001b[0;34m**\u001b[0m\u001b[0mkwargs\u001b[0m\u001b[0;34m:\u001b[0m \u001b[0mwrite\u001b[0m\u001b[0;34m(\u001b[0m\u001b[0mf\u001b[0m\u001b[0;34m,\u001b[0m \u001b[0mm\u001b[0m\u001b[0;34m,\u001b[0m \u001b[0;34m\"4.1\"\u001b[0m\u001b[0;34m,\u001b[0m \u001b[0;34m**\u001b[0m\u001b[0mkwargs\u001b[0m\u001b[0;34m)\u001b[0m\u001b[0;34m,\u001b[0m\u001b[0;34m\u001b[0m\u001b[0;34m\u001b[0m\u001b[0m\n\u001b[0m\u001b[1;32m    112\u001b[0m     },\n\u001b[1;32m    113\u001b[0m )\n",
      "\u001b[0;32m~/PROJECTS/Project_underworld3/uw3_venv/lib/python3.9/site-packages/meshio/gmsh/main.py\u001b[0m in \u001b[0;36mwrite\u001b[0;34m(filename, mesh, fmt_version, binary, float_fmt)\u001b[0m\n\u001b[1;32m    100\u001b[0m             )\n\u001b[1;32m    101\u001b[0m \u001b[0;34m\u001b[0m\u001b[0m\n\u001b[0;32m--> 102\u001b[0;31m     \u001b[0mwriter\u001b[0m\u001b[0;34m.\u001b[0m\u001b[0mwrite\u001b[0m\u001b[0;34m(\u001b[0m\u001b[0mfilename\u001b[0m\u001b[0;34m,\u001b[0m \u001b[0mmesh\u001b[0m\u001b[0;34m,\u001b[0m \u001b[0mbinary\u001b[0m\u001b[0;34m=\u001b[0m\u001b[0mbinary\u001b[0m\u001b[0;34m,\u001b[0m \u001b[0mfloat_fmt\u001b[0m\u001b[0;34m=\u001b[0m\u001b[0mfloat_fmt\u001b[0m\u001b[0;34m)\u001b[0m\u001b[0;34m\u001b[0m\u001b[0;34m\u001b[0m\u001b[0m\n\u001b[0m\u001b[1;32m    103\u001b[0m \u001b[0;34m\u001b[0m\u001b[0m\n\u001b[1;32m    104\u001b[0m \u001b[0;34m\u001b[0m\u001b[0m\n",
      "\u001b[0;32m~/PROJECTS/Project_underworld3/uw3_venv/lib/python3.9/site-packages/meshio/gmsh/_gmsh41.py\u001b[0m in \u001b[0;36mwrite\u001b[0;34m(filename, mesh, float_fmt, binary)\u001b[0m\n\u001b[1;32m    356\u001b[0m \u001b[0;34m\u001b[0m\u001b[0m\n\u001b[1;32m    357\u001b[0m         \u001b[0m_write_entities\u001b[0m\u001b[0;34m(\u001b[0m\u001b[0mfh\u001b[0m\u001b[0;34m,\u001b[0m \u001b[0mcells\u001b[0m\u001b[0;34m,\u001b[0m \u001b[0mtag_data\u001b[0m\u001b[0;34m,\u001b[0m \u001b[0mmesh\u001b[0m\u001b[0;34m.\u001b[0m\u001b[0mcell_sets\u001b[0m\u001b[0;34m,\u001b[0m \u001b[0mmesh\u001b[0m\u001b[0;34m.\u001b[0m\u001b[0mpoint_data\u001b[0m\u001b[0;34m,\u001b[0m \u001b[0mbinary\u001b[0m\u001b[0;34m)\u001b[0m\u001b[0;34m\u001b[0m\u001b[0;34m\u001b[0m\u001b[0m\n\u001b[0;32m--> 358\u001b[0;31m         \u001b[0m_write_nodes\u001b[0m\u001b[0;34m(\u001b[0m\u001b[0mfh\u001b[0m\u001b[0;34m,\u001b[0m \u001b[0mmesh\u001b[0m\u001b[0;34m.\u001b[0m\u001b[0mpoints\u001b[0m\u001b[0;34m,\u001b[0m \u001b[0mmesh\u001b[0m\u001b[0;34m.\u001b[0m\u001b[0mcells\u001b[0m\u001b[0;34m,\u001b[0m \u001b[0mmesh\u001b[0m\u001b[0;34m.\u001b[0m\u001b[0mpoint_data\u001b[0m\u001b[0;34m,\u001b[0m \u001b[0mfloat_fmt\u001b[0m\u001b[0;34m,\u001b[0m \u001b[0mbinary\u001b[0m\u001b[0;34m)\u001b[0m\u001b[0;34m\u001b[0m\u001b[0;34m\u001b[0m\u001b[0m\n\u001b[0m\u001b[1;32m    359\u001b[0m         \u001b[0m_write_elements\u001b[0m\u001b[0;34m(\u001b[0m\u001b[0mfh\u001b[0m\u001b[0;34m,\u001b[0m \u001b[0mcells\u001b[0m\u001b[0;34m,\u001b[0m \u001b[0mtag_data\u001b[0m\u001b[0;34m,\u001b[0m \u001b[0mbinary\u001b[0m\u001b[0;34m)\u001b[0m\u001b[0;34m\u001b[0m\u001b[0;34m\u001b[0m\u001b[0m\n\u001b[1;32m    360\u001b[0m         \u001b[0;32mif\u001b[0m \u001b[0mmesh\u001b[0m\u001b[0;34m.\u001b[0m\u001b[0mgmsh_periodic\u001b[0m \u001b[0;32mis\u001b[0m \u001b[0;32mnot\u001b[0m \u001b[0;32mNone\u001b[0m\u001b[0;34m:\u001b[0m\u001b[0;34m\u001b[0m\u001b[0;34m\u001b[0m\u001b[0m\n",
      "\u001b[0;32m~/PROJECTS/Project_underworld3/uw3_venv/lib/python3.9/site-packages/meshio/gmsh/_gmsh41.py\u001b[0m in \u001b[0;36m_write_nodes\u001b[0;34m(fh, points, cells, point_data, float_fmt, binary)\u001b[0m\n\u001b[1;32m    605\u001b[0m         \u001b[0;31m# nodes. This only makes sense if the cells are of a single type\u001b[0m\u001b[0;34m\u001b[0m\u001b[0;34m\u001b[0m\u001b[0m\n\u001b[1;32m    606\u001b[0m         \u001b[0;32mif\u001b[0m \u001b[0mlen\u001b[0m\u001b[0;34m(\u001b[0m\u001b[0mcells\u001b[0m\u001b[0;34m)\u001b[0m \u001b[0;34m!=\u001b[0m \u001b[0;36m1\u001b[0m\u001b[0;34m:\u001b[0m\u001b[0;34m\u001b[0m\u001b[0;34m\u001b[0m\u001b[0m\n\u001b[0;32m--> 607\u001b[0;31m             raise WriteError(\n\u001b[0m\u001b[1;32m    608\u001b[0m                 \u001b[0;34m\"Specify entity information (gmsh:dim_tags in point_data) \"\u001b[0m\u001b[0;34m\u001b[0m\u001b[0;34m\u001b[0m\u001b[0m\n\u001b[1;32m    609\u001b[0m                 \u001b[0;34m+\u001b[0m \u001b[0;34m\"to deal with more than one cell type. \"\u001b[0m\u001b[0;34m\u001b[0m\u001b[0;34m\u001b[0m\u001b[0m\n",
      "\u001b[0;31mWriteError\u001b[0m: Specify entity information (gmsh:dim_tags in point_data) to deal with more than one cell type. "
     ]
    }
   ],
   "source": [
    "mesh.write(\"output/rectangle.msh\")"
   ]
  },
  {
   "cell_type": "code",
   "execution_count": 36,
   "id": "c26cf4dc",
   "metadata": {},
   "outputs": [],
   "source": [
    "mesh.write??"
   ]
  },
  {
   "cell_type": "code",
   "execution_count": 37,
   "id": "81737f2c",
   "metadata": {},
   "outputs": [],
   "source": [
    "import sys,petsc4py\n",
    "petsc4py.init(sys.argv)\n",
    "from petsc4py import PETSc\n",
    "import numpy as np"
   ]
  },
  {
   "cell_type": "code",
   "execution_count": 57,
   "id": "c4eef9f9",
   "metadata": {},
   "outputs": [],
   "source": [
    "import pygmsh\n",
    "\n",
    "import pygmsh\n",
    "\n",
    "with pygmsh.geo.Geometry() as geom:\n",
    "    geom.add_polygon(\n",
    "        [\n",
    "            [0.0, 0.0],\n",
    "            [1.0, -0.2],\n",
    "            [1.1, 1.2],\n",
    "            [0.1, 0.7],\n",
    "        ],\n",
    "        mesh_size=0.1,\n",
    "    )\n",
    "    mesh = geom.generate_mesh()\n",
    "\n",
    "# mesh.points, mesh.cells, ...\n",
    "# mesh.write(\"out.vtk\")"
   ]
  },
  {
   "cell_type": "code",
   "execution_count": 58,
   "id": "51e9b469",
   "metadata": {},
   "outputs": [
    {
     "ename": "WriteError",
     "evalue": "Specify entity information (gmsh:dim_tags in point_data) to deal with more than one cell type. ",
     "output_type": "error",
     "traceback": [
      "\u001b[0;31m---------------------------------------------------------------------------\u001b[0m",
      "\u001b[0;31mWriteError\u001b[0m                                Traceback (most recent call last)",
      "\u001b[0;32m/tmp/ipykernel_20558/239673612.py\u001b[0m in \u001b[0;36m<module>\u001b[0;34m\u001b[0m\n\u001b[0;32m----> 1\u001b[0;31m \u001b[0mmesh\u001b[0m\u001b[0;34m.\u001b[0m\u001b[0mwrite\u001b[0m\u001b[0;34m(\u001b[0m\u001b[0;34m\"test.msh\"\u001b[0m\u001b[0;34m)\u001b[0m\u001b[0;34m\u001b[0m\u001b[0;34m\u001b[0m\u001b[0m\n\u001b[0m",
      "\u001b[0;32m~/PROJECTS/Project_underworld3/uw3_venv/lib/python3.9/site-packages/meshio/_mesh.py\u001b[0m in \u001b[0;36mwrite\u001b[0;34m(self, path_or_buf, file_format, **kwargs)\u001b[0m\n\u001b[1;32m    217\u001b[0m         \u001b[0;32mfrom\u001b[0m \u001b[0;34m.\u001b[0m\u001b[0m_helpers\u001b[0m \u001b[0;32mimport\u001b[0m \u001b[0mwrite\u001b[0m\u001b[0;34m\u001b[0m\u001b[0;34m\u001b[0m\u001b[0m\n\u001b[1;32m    218\u001b[0m \u001b[0;34m\u001b[0m\u001b[0m\n\u001b[0;32m--> 219\u001b[0;31m         \u001b[0mwrite\u001b[0m\u001b[0;34m(\u001b[0m\u001b[0mpath_or_buf\u001b[0m\u001b[0;34m,\u001b[0m \u001b[0mself\u001b[0m\u001b[0;34m,\u001b[0m \u001b[0mfile_format\u001b[0m\u001b[0;34m,\u001b[0m \u001b[0;34m**\u001b[0m\u001b[0mkwargs\u001b[0m\u001b[0;34m)\u001b[0m\u001b[0;34m\u001b[0m\u001b[0;34m\u001b[0m\u001b[0m\n\u001b[0m\u001b[1;32m    220\u001b[0m \u001b[0;34m\u001b[0m\u001b[0m\n\u001b[1;32m    221\u001b[0m     \u001b[0;32mdef\u001b[0m \u001b[0mget_cells_type\u001b[0m\u001b[0;34m(\u001b[0m\u001b[0mself\u001b[0m\u001b[0;34m,\u001b[0m \u001b[0mcell_type\u001b[0m\u001b[0;34m:\u001b[0m \u001b[0mstr\u001b[0m\u001b[0;34m)\u001b[0m\u001b[0;34m:\u001b[0m\u001b[0;34m\u001b[0m\u001b[0;34m\u001b[0m\u001b[0m\n",
      "\u001b[0;32m~/PROJECTS/Project_underworld3/uw3_venv/lib/python3.9/site-packages/meshio/_helpers.py\u001b[0m in \u001b[0;36mwrite\u001b[0;34m(filename, mesh, file_format, **kwargs)\u001b[0m\n\u001b[1;32m    139\u001b[0m \u001b[0;34m\u001b[0m\u001b[0m\n\u001b[1;32m    140\u001b[0m     \u001b[0;31m# Write\u001b[0m\u001b[0;34m\u001b[0m\u001b[0;34m\u001b[0m\u001b[0m\n\u001b[0;32m--> 141\u001b[0;31m     \u001b[0;32mreturn\u001b[0m \u001b[0mwriter\u001b[0m\u001b[0;34m(\u001b[0m\u001b[0mfilename\u001b[0m\u001b[0;34m,\u001b[0m \u001b[0mmesh\u001b[0m\u001b[0;34m,\u001b[0m \u001b[0;34m**\u001b[0m\u001b[0mkwargs\u001b[0m\u001b[0;34m)\u001b[0m\u001b[0;34m\u001b[0m\u001b[0;34m\u001b[0m\u001b[0m\n\u001b[0m",
      "\u001b[0;32m~/PROJECTS/Project_underworld3/uw3_venv/lib/python3.9/site-packages/meshio/gmsh/main.py\u001b[0m in \u001b[0;36m<lambda>\u001b[0;34m(f, m, **kwargs)\u001b[0m\n\u001b[1;32m    109\u001b[0m     {\n\u001b[1;32m    110\u001b[0m         \u001b[0;34m\"gmsh22\"\u001b[0m\u001b[0;34m:\u001b[0m \u001b[0;32mlambda\u001b[0m \u001b[0mf\u001b[0m\u001b[0;34m,\u001b[0m \u001b[0mm\u001b[0m\u001b[0;34m,\u001b[0m \u001b[0;34m**\u001b[0m\u001b[0mkwargs\u001b[0m\u001b[0;34m:\u001b[0m \u001b[0mwrite\u001b[0m\u001b[0;34m(\u001b[0m\u001b[0mf\u001b[0m\u001b[0;34m,\u001b[0m \u001b[0mm\u001b[0m\u001b[0;34m,\u001b[0m \u001b[0;34m\"2.2\"\u001b[0m\u001b[0;34m,\u001b[0m \u001b[0;34m**\u001b[0m\u001b[0mkwargs\u001b[0m\u001b[0;34m)\u001b[0m\u001b[0;34m,\u001b[0m\u001b[0;34m\u001b[0m\u001b[0;34m\u001b[0m\u001b[0m\n\u001b[0;32m--> 111\u001b[0;31m         \u001b[0;34m\"gmsh\"\u001b[0m\u001b[0;34m:\u001b[0m \u001b[0;32mlambda\u001b[0m \u001b[0mf\u001b[0m\u001b[0;34m,\u001b[0m \u001b[0mm\u001b[0m\u001b[0;34m,\u001b[0m \u001b[0;34m**\u001b[0m\u001b[0mkwargs\u001b[0m\u001b[0;34m:\u001b[0m \u001b[0mwrite\u001b[0m\u001b[0;34m(\u001b[0m\u001b[0mf\u001b[0m\u001b[0;34m,\u001b[0m \u001b[0mm\u001b[0m\u001b[0;34m,\u001b[0m \u001b[0;34m\"4.1\"\u001b[0m\u001b[0;34m,\u001b[0m \u001b[0;34m**\u001b[0m\u001b[0mkwargs\u001b[0m\u001b[0;34m)\u001b[0m\u001b[0;34m,\u001b[0m\u001b[0;34m\u001b[0m\u001b[0;34m\u001b[0m\u001b[0m\n\u001b[0m\u001b[1;32m    112\u001b[0m     },\n\u001b[1;32m    113\u001b[0m )\n",
      "\u001b[0;32m~/PROJECTS/Project_underworld3/uw3_venv/lib/python3.9/site-packages/meshio/gmsh/main.py\u001b[0m in \u001b[0;36mwrite\u001b[0;34m(filename, mesh, fmt_version, binary, float_fmt)\u001b[0m\n\u001b[1;32m    100\u001b[0m             )\n\u001b[1;32m    101\u001b[0m \u001b[0;34m\u001b[0m\u001b[0m\n\u001b[0;32m--> 102\u001b[0;31m     \u001b[0mwriter\u001b[0m\u001b[0;34m.\u001b[0m\u001b[0mwrite\u001b[0m\u001b[0;34m(\u001b[0m\u001b[0mfilename\u001b[0m\u001b[0;34m,\u001b[0m \u001b[0mmesh\u001b[0m\u001b[0;34m,\u001b[0m \u001b[0mbinary\u001b[0m\u001b[0;34m=\u001b[0m\u001b[0mbinary\u001b[0m\u001b[0;34m,\u001b[0m \u001b[0mfloat_fmt\u001b[0m\u001b[0;34m=\u001b[0m\u001b[0mfloat_fmt\u001b[0m\u001b[0;34m)\u001b[0m\u001b[0;34m\u001b[0m\u001b[0;34m\u001b[0m\u001b[0m\n\u001b[0m\u001b[1;32m    103\u001b[0m \u001b[0;34m\u001b[0m\u001b[0m\n\u001b[1;32m    104\u001b[0m \u001b[0;34m\u001b[0m\u001b[0m\n",
      "\u001b[0;32m~/PROJECTS/Project_underworld3/uw3_venv/lib/python3.9/site-packages/meshio/gmsh/_gmsh41.py\u001b[0m in \u001b[0;36mwrite\u001b[0;34m(filename, mesh, float_fmt, binary)\u001b[0m\n\u001b[1;32m    356\u001b[0m \u001b[0;34m\u001b[0m\u001b[0m\n\u001b[1;32m    357\u001b[0m         \u001b[0m_write_entities\u001b[0m\u001b[0;34m(\u001b[0m\u001b[0mfh\u001b[0m\u001b[0;34m,\u001b[0m \u001b[0mcells\u001b[0m\u001b[0;34m,\u001b[0m \u001b[0mtag_data\u001b[0m\u001b[0;34m,\u001b[0m \u001b[0mmesh\u001b[0m\u001b[0;34m.\u001b[0m\u001b[0mcell_sets\u001b[0m\u001b[0;34m,\u001b[0m \u001b[0mmesh\u001b[0m\u001b[0;34m.\u001b[0m\u001b[0mpoint_data\u001b[0m\u001b[0;34m,\u001b[0m \u001b[0mbinary\u001b[0m\u001b[0;34m)\u001b[0m\u001b[0;34m\u001b[0m\u001b[0;34m\u001b[0m\u001b[0m\n\u001b[0;32m--> 358\u001b[0;31m         \u001b[0m_write_nodes\u001b[0m\u001b[0;34m(\u001b[0m\u001b[0mfh\u001b[0m\u001b[0;34m,\u001b[0m \u001b[0mmesh\u001b[0m\u001b[0;34m.\u001b[0m\u001b[0mpoints\u001b[0m\u001b[0;34m,\u001b[0m \u001b[0mmesh\u001b[0m\u001b[0;34m.\u001b[0m\u001b[0mcells\u001b[0m\u001b[0;34m,\u001b[0m \u001b[0mmesh\u001b[0m\u001b[0;34m.\u001b[0m\u001b[0mpoint_data\u001b[0m\u001b[0;34m,\u001b[0m \u001b[0mfloat_fmt\u001b[0m\u001b[0;34m,\u001b[0m \u001b[0mbinary\u001b[0m\u001b[0;34m)\u001b[0m\u001b[0;34m\u001b[0m\u001b[0;34m\u001b[0m\u001b[0m\n\u001b[0m\u001b[1;32m    359\u001b[0m         \u001b[0m_write_elements\u001b[0m\u001b[0;34m(\u001b[0m\u001b[0mfh\u001b[0m\u001b[0;34m,\u001b[0m \u001b[0mcells\u001b[0m\u001b[0;34m,\u001b[0m \u001b[0mtag_data\u001b[0m\u001b[0;34m,\u001b[0m \u001b[0mbinary\u001b[0m\u001b[0;34m)\u001b[0m\u001b[0;34m\u001b[0m\u001b[0;34m\u001b[0m\u001b[0m\n\u001b[1;32m    360\u001b[0m         \u001b[0;32mif\u001b[0m \u001b[0mmesh\u001b[0m\u001b[0;34m.\u001b[0m\u001b[0mgmsh_periodic\u001b[0m \u001b[0;32mis\u001b[0m \u001b[0;32mnot\u001b[0m \u001b[0;32mNone\u001b[0m\u001b[0;34m:\u001b[0m\u001b[0;34m\u001b[0m\u001b[0;34m\u001b[0m\u001b[0m\n",
      "\u001b[0;32m~/PROJECTS/Project_underworld3/uw3_venv/lib/python3.9/site-packages/meshio/gmsh/_gmsh41.py\u001b[0m in \u001b[0;36m_write_nodes\u001b[0;34m(fh, points, cells, point_data, float_fmt, binary)\u001b[0m\n\u001b[1;32m    605\u001b[0m         \u001b[0;31m# nodes. This only makes sense if the cells are of a single type\u001b[0m\u001b[0;34m\u001b[0m\u001b[0;34m\u001b[0m\u001b[0m\n\u001b[1;32m    606\u001b[0m         \u001b[0;32mif\u001b[0m \u001b[0mlen\u001b[0m\u001b[0;34m(\u001b[0m\u001b[0mcells\u001b[0m\u001b[0;34m)\u001b[0m \u001b[0;34m!=\u001b[0m \u001b[0;36m1\u001b[0m\u001b[0;34m:\u001b[0m\u001b[0;34m\u001b[0m\u001b[0;34m\u001b[0m\u001b[0m\n\u001b[0;32m--> 607\u001b[0;31m             raise WriteError(\n\u001b[0m\u001b[1;32m    608\u001b[0m                 \u001b[0;34m\"Specify entity information (gmsh:dim_tags in point_data) \"\u001b[0m\u001b[0;34m\u001b[0m\u001b[0;34m\u001b[0m\u001b[0m\n\u001b[1;32m    609\u001b[0m                 \u001b[0;34m+\u001b[0m \u001b[0;34m\"to deal with more than one cell type. \"\u001b[0m\u001b[0;34m\u001b[0m\u001b[0;34m\u001b[0m\u001b[0m\n",
      "\u001b[0;31mWriteError\u001b[0m: Specify entity information (gmsh:dim_tags in point_data) to deal with more than one cell type. "
     ]
    }
   ],
   "source": [
    "mesh.write(\"test.msh\")"
   ]
  },
  {
   "cell_type": "code",
   "execution_count": null,
   "id": "eaa40e1f",
   "metadata": {},
   "outputs": [],
   "source": []
  }
 ],
 "metadata": {
  "kernelspec": {
   "display_name": "Python 3 (ipykernel)",
   "language": "python",
   "name": "python3"
  },
  "language_info": {
   "codemirror_mode": {
    "name": "ipython",
    "version": 3
   },
   "file_extension": ".py",
   "mimetype": "text/x-python",
   "name": "python",
   "nbconvert_exporter": "python",
   "pygments_lexer": "ipython3",
   "version": "3.9.4"
  }
 },
 "nbformat": 4,
 "nbformat_minor": 5
}
