{
 "cells": [
  {
   "cell_type": "markdown",
   "id": "efbc22a8",
   "metadata": {},
   "source": [
    "# DMPlex from GMsh with labels"
   ]
  },
  {
   "cell_type": "code",
   "execution_count": 1,
   "id": "b0799cd2",
   "metadata": {},
   "outputs": [],
   "source": [
    "import warnings\n",
    "warnings.filterwarnings(\"ignore\")\n",
    "import gmsh\n",
    "gmsh.initialize()\n",
    "import numpy as np"
   ]
  },
  {
   "cell_type": "code",
   "execution_count": 2,
   "id": "1513830c",
   "metadata": {},
   "outputs": [],
   "source": [
    "# By default, if physical groups are defined, Gmsh will export in\n",
    "# the output mesh file only those elements that belong to at least one physical\n",
    "# group. To force Gmsh to save all elements, you can use\n",
    "gmsh.option.setNumber(\"Mesh.SaveAll\", 1)"
   ]
  },
  {
   "cell_type": "code",
   "execution_count": 3,
   "id": "071ab1d7",
   "metadata": {},
   "outputs": [],
   "source": [
    "gmsh.model.add(\"Test\")"
   ]
  },
  {
   "cell_type": "markdown",
   "id": "81a0f7d2",
   "metadata": {},
   "source": [
    "## Create a simple unstructured rectangular mesh"
   ]
  },
  {
   "cell_type": "code",
   "execution_count": 4,
   "id": "7f61a7b1",
   "metadata": {},
   "outputs": [],
   "source": [
    "gmsh.model.occ.add_rectangle(0, 0, 0, 1.0, 1.0)\n",
    "gmsh.model.occ.synchronize()"
   ]
  },
  {
   "cell_type": "code",
   "execution_count": 5,
   "id": "d56ab0f4",
   "metadata": {},
   "outputs": [],
   "source": [
    "# Get All boundaries\n",
    "walls = gmsh.model.getEntities(1)\n",
    "cl = gmsh.model.occ.add_curve_loop(list([wall[1] for wall in walls]))\n",
    "surface = gmsh.model.occ.add_plane_surface([cl])"
   ]
  },
  {
   "cell_type": "markdown",
   "id": "d57cc8af",
   "metadata": {},
   "source": [
    "## Label all walls"
   ]
  },
  {
   "cell_type": "code",
   "execution_count": 6,
   "id": "1f452764",
   "metadata": {},
   "outputs": [],
   "source": [
    "left_marker, right_marker, bottom_marker, top_marker = 1, 3, 5, 7\n",
    "\n",
    "for wall in walls:\n",
    "    com = gmsh.model.occ.getCenterOfMass(wall[0], wall[1])\n",
    "    \n",
    "    # Left Boundary\n",
    "    if np.allclose(com, [0., 0.5, 0.]):\n",
    "        name = \"Left\"\n",
    "        marker = left_marker\n",
    "        \n",
    "    # Right Boundary\n",
    "    elif np.allclose(com, [1.0, 0.5, 0.]):\n",
    "        name = \"Right\"\n",
    "        marker = right_marker\n",
    "        \n",
    "    # Bottom Boundary\n",
    "    elif np.allclose(com, [0.5, 0., 0.]):\n",
    "        name = \"Bottom\"\n",
    "        marker = bottom_marker\n",
    "       \n",
    "    # Top Boundary\n",
    "    elif np.allclose(com, [0.5, 1.0, 0.]):\n",
    "        name = \"Top\"\n",
    "        marker = top_marker\n",
    "        \n",
    "    gmsh.model.addPhysicalGroup(wall[0], [wall[1]], marker)\n",
    "    gmsh.model.setPhysicalName(wall[1], marker, name)\n"
   ]
  },
  {
   "cell_type": "code",
   "execution_count": 7,
   "id": "eb266384",
   "metadata": {},
   "outputs": [
    {
     "data": {
      "text/plain": [
       "[(1, 1), (1, 2), (1, 3), (1, 4)]"
      ]
     },
     "execution_count": 7,
     "metadata": {},
     "output_type": "execute_result"
    }
   ],
   "source": [
    "walls"
   ]
  },
  {
   "cell_type": "code",
   "execution_count": 8,
   "id": "15dea5af",
   "metadata": {},
   "outputs": [
    {
     "name": "stdout",
     "output_type": "stream",
     "text": [
      "Info    : Meshing 1D...\n",
      "Info    : [  0%] Meshing curve 1 (Line)\n",
      "Info    : [ 30%] Meshing curve 2 (Line)\n",
      "Info    : [ 50%] Meshing curve 3 (Line)\n",
      "Info    : [ 80%] Meshing curve 4 (Line)\n",
      "Info    : Done meshing 1D (Wall 0.000308415s, CPU 0.000648s)\n",
      "Info    : Meshing 2D...\n",
      "Info    : [  0%] Meshing surface 1 (Plane, Frontal-Delaunay)\n",
      "Info    : [ 50%] Meshing surface 2 (Plane, Frontal-Delaunay)\n",
      "Info    : Done meshing 2D (Wall 0.0111985s, CPU 0.011812s)\n",
      "Info    : 164 nodes 360 elements\n"
     ]
    }
   ],
   "source": [
    "gmsh.model.occ.synchronize()\n",
    "gmsh.model.mesh.generate(2)"
   ]
  },
  {
   "cell_type": "code",
   "execution_count": 9,
   "id": "1eec7952",
   "metadata": {},
   "outputs": [
    {
     "name": "stdout",
     "output_type": "stream",
     "text": [
      "Info    : Writing 'mesh_test.msh'...\n",
      "Info    : Done writing 'mesh_test.msh'\n"
     ]
    }
   ],
   "source": [
    "gmsh.write(\"mesh_test.msh\")"
   ]
  },
  {
   "cell_type": "code",
   "execution_count": 10,
   "id": "2e2aeb97",
   "metadata": {},
   "outputs": [],
   "source": [
    "#gmsh.fltk.run()"
   ]
  },
  {
   "cell_type": "code",
   "execution_count": 11,
   "id": "2c571806",
   "metadata": {},
   "outputs": [],
   "source": [
    "gmsh.finalize()"
   ]
  },
  {
   "cell_type": "markdown",
   "id": "d03ba9b8",
   "metadata": {},
   "source": [
    "# Import Mesh into PETSc using DMPlex"
   ]
  },
  {
   "cell_type": "code",
   "execution_count": 12,
   "id": "0ef41e09",
   "metadata": {},
   "outputs": [],
   "source": [
    "import sys,petsc4py\n",
    "petsc4py.init(sys.argv)\n",
    "from petsc4py import PETSc\n",
    "import numpy as np"
   ]
  },
  {
   "cell_type": "code",
   "execution_count": 13,
   "id": "2c408271",
   "metadata": {},
   "outputs": [],
   "source": [
    "options = PETSc.Options()"
   ]
  },
  {
   "cell_type": "code",
   "execution_count": 14,
   "id": "94f559e1",
   "metadata": {},
   "outputs": [],
   "source": [
    "options[\"dm_plex_separate_marker\"] = None"
   ]
  },
  {
   "cell_type": "code",
   "execution_count": 15,
   "id": "63d94a0b",
   "metadata": {},
   "outputs": [],
   "source": [
    "plex = PETSc.DMPlex().createFromFile(\"mesh_test.msh\")"
   ]
  },
  {
   "cell_type": "code",
   "execution_count": 16,
   "id": "ea1f2be2",
   "metadata": {},
   "outputs": [
    {
     "name": "stdout",
     "output_type": "stream",
     "text": [
      "DM Object: DM_0x558ecba4a580_0 1 MPI processes\n",
      "  type: plex\n",
      "DM_0x558ecba4a580_0 in 2 dimensions:\n",
      "  0-cells: 164\n",
      "  1-cells: 486\n",
      "  2-cells: 324\n",
      "Labels:\n",
      "  celltype: 3 strata with value/size (0 (164), 3 (324), 1 (486))\n",
      "  depth: 3 strata with value/size (0 (164), 1 (486), 2 (324))\n",
      "  Face Sets: 4 strata with value/size (5 (8), 3 (8), 7 (8), 1 (8))\n"
     ]
    }
   ],
   "source": [
    "plex.view()"
   ]
  },
  {
   "cell_type": "code",
   "execution_count": 17,
   "id": "f0831020",
   "metadata": {},
   "outputs": [],
   "source": [
    "markers_dict = {\"Bottom\": bottom_marker,\n",
    "                \"Right\": right_marker,\n",
    "                \"Top\": top_marker,\n",
    "                \"Left\": left_marker}"
   ]
  },
  {
   "cell_type": "code",
   "execution_count": 18,
   "id": "c19393f6",
   "metadata": {},
   "outputs": [],
   "source": [
    "for key, value in markers_dict.items():\n",
    "    indexSet = plex.getStratumIS(\"Face Sets\", value)\n",
    "    plex.createLabel(key)\n",
    "    label = plex.getLabel(key)\n",
    "    if indexSet:\n",
    "        label.insertIS(indexSet, value)\n",
    "    indexSet.destroy()"
   ]
  },
  {
   "cell_type": "code",
   "execution_count": 20,
   "id": "4107cdda",
   "metadata": {},
   "outputs": [
    {
     "name": "stdout",
     "output_type": "stream",
     "text": [
      "DM Object: DM_0x558ecba4a580_0 1 MPI processes\n",
      "  type: plex\n",
      "DM_0x558ecba4a580_0 in 2 dimensions:\n",
      "  0-cells: 164\n",
      "  1-cells: 486\n",
      "  2-cells: 324\n",
      "Labels:\n",
      "  celltype: 3 strata with value/size (0 (164), 3 (324), 1 (486))\n",
      "  depth: 3 strata with value/size (0 (164), 1 (486), 2 (324))\n",
      "  Face Sets: 4 strata with value/size (5 (8), 3 (8), 7 (8), 1 (8))\n",
      "  Bottom: 1 strata with value/size (5 (8))\n",
      "  Right: 1 strata with value/size (3 (8))\n",
      "  Top: 1 strata with value/size (7 (8))\n",
      "  Left: 1 strata with value/size (1 (8))\n"
     ]
    }
   ],
   "source": [
    "plex.view()"
   ]
  },
  {
   "cell_type": "code",
   "execution_count": null,
   "id": "2a7caeb5",
   "metadata": {},
   "outputs": [],
   "source": []
  }
 ],
 "metadata": {
  "kernelspec": {
   "display_name": "uw3",
   "language": "python",
   "name": "uw3"
  },
  "language_info": {
   "codemirror_mode": {
    "name": "ipython",
    "version": 3
   },
   "file_extension": ".py",
   "mimetype": "text/x-python",
   "name": "python",
   "nbconvert_exporter": "python",
   "pygments_lexer": "ipython3",
   "version": "3.9.7"
  }
 },
 "nbformat": 4,
 "nbformat_minor": 5
}
