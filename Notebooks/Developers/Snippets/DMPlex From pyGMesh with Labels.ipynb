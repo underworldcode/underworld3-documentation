{
 "cells": [
  {
   "cell_type": "markdown",
   "id": "efbc22a8",
   "metadata": {},
   "source": [
    "# DMPlex from pyGMsh with labels"
   ]
  },
  {
   "cell_type": "code",
   "execution_count": 1,
   "id": "b0799cd2",
   "metadata": {},
   "outputs": [],
   "source": [
    "import warnings\n",
    "warnings.filterwarnings(\"ignore\")\n",
    "import pygmsh\n",
    "import numpy as np"
   ]
  },
  {
   "cell_type": "code",
   "execution_count": 2,
   "id": "4f850d93",
   "metadata": {},
   "outputs": [],
   "source": [
    "resolution=0.1"
   ]
  },
  {
   "cell_type": "markdown",
   "id": "65568229",
   "metadata": {},
   "source": [
    "## Create a simple unstructured rectangular mesh"
   ]
  },
  {
   "cell_type": "code",
   "execution_count": 3,
   "id": "0024cd3f",
   "metadata": {},
   "outputs": [],
   "source": [
    "L = 1.0\n",
    "H = 1.0"
   ]
  },
  {
   "cell_type": "code",
   "execution_count": 4,
   "id": "1b5a82a8",
   "metadata": {},
   "outputs": [],
   "source": [
    "geom = pygmsh.geo.Geometry()"
   ]
  },
  {
   "cell_type": "code",
   "execution_count": 5,
   "id": "52d57ad7",
   "metadata": {},
   "outputs": [],
   "source": [
    "# Fetch model we would like to add data to\n",
    "model = geom.__enter__()"
   ]
  },
  {
   "cell_type": "code",
   "execution_count": 6,
   "id": "fff63cca",
   "metadata": {},
   "outputs": [],
   "source": [
    "points = [geom.add_point((0.,0.,0.), mesh_size=resolution),\n",
    "          geom.add_point((L,0.,0.), mesh_size=resolution),\n",
    "          geom.add_point((L,H,0.), mesh_size=resolution),\n",
    "          geom.add_point((0,H,0.), mesh_size=resolution)]"
   ]
  },
  {
   "cell_type": "markdown",
   "id": "da15878f",
   "metadata": {},
   "source": [
    "Add lines between all points creating the rectangle"
   ]
  },
  {
   "cell_type": "code",
   "execution_count": 7,
   "id": "c40bb6ab",
   "metadata": {},
   "outputs": [],
   "source": [
    "lines = [geom.add_line(points[i], points[i+1]) for i in range(-1, len(points)-1)]"
   ]
  },
  {
   "cell_type": "markdown",
   "id": "84a7acac",
   "metadata": {},
   "source": [
    "Create a line loop and plane surface for meshing"
   ]
  },
  {
   "cell_type": "code",
   "execution_count": 8,
   "id": "ffad7742",
   "metadata": {},
   "outputs": [],
   "source": [
    "loop = geom.add_curve_loop(lines)\n",
    "surface = geom.add_plane_surface(loop)"
   ]
  },
  {
   "cell_type": "code",
   "execution_count": 9,
   "id": "21d7e99d",
   "metadata": {},
   "outputs": [],
   "source": [
    "geom.synchronize()"
   ]
  },
  {
   "cell_type": "code",
   "execution_count": 10,
   "id": "6a762bc9",
   "metadata": {},
   "outputs": [],
   "source": [
    "left, bottom, right, top = lines"
   ]
  },
  {
   "cell_type": "code",
   "execution_count": 11,
   "id": "854dcf8d",
   "metadata": {},
   "outputs": [],
   "source": [
    "left_marker = left.dim_tag[1]\n",
    "right_marker = right.dim_tag[1]\n",
    "top_marker = top.dim_tag[1]\n",
    "bottom_marker = bottom.dim_tag[1]"
   ]
  },
  {
   "cell_type": "code",
   "execution_count": 12,
   "id": "cac3f72d",
   "metadata": {},
   "outputs": [],
   "source": [
    "geom.add_physical([left], \"Left\")\n",
    "geom.add_physical([right], \"Right\")\n",
    "geom.add_physical([top], \"Top\")\n",
    "geom.add_physical([bottom], \"Bottom\")"
   ]
  },
  {
   "cell_type": "code",
   "execution_count": 13,
   "id": "c90bd874",
   "metadata": {},
   "outputs": [],
   "source": [
    "mesh = geom.generate_mesh(dim=2)"
   ]
  },
  {
   "cell_type": "code",
   "execution_count": 14,
   "id": "4bac7409",
   "metadata": {},
   "outputs": [],
   "source": [
    "import gmsh\n",
    "gmsh.option.set_number(\"Mesh.SaveAll\", 1)\n",
    "gmsh.write(\"mesh_test.msh\")\n",
    "gmsh.clear()\n",
    "geom.__exit__()"
   ]
  },
  {
   "cell_type": "markdown",
   "id": "d03ba9b8",
   "metadata": {},
   "source": [
    "# Import Mesh into PETSc using DMPlex"
   ]
  },
  {
   "cell_type": "code",
   "execution_count": 15,
   "id": "0ef41e09",
   "metadata": {},
   "outputs": [],
   "source": [
    "import sys,petsc4py\n",
    "petsc4py.init(sys.argv)\n",
    "from petsc4py import PETSc\n",
    "import numpy as np"
   ]
  },
  {
   "cell_type": "code",
   "execution_count": 16,
   "id": "2c408271",
   "metadata": {},
   "outputs": [],
   "source": [
    "options = PETSc.Options()"
   ]
  },
  {
   "cell_type": "code",
   "execution_count": 17,
   "id": "94f559e1",
   "metadata": {},
   "outputs": [],
   "source": [
    "options[\"dm_plex_separate_marker\"] = None"
   ]
  },
  {
   "cell_type": "code",
   "execution_count": 18,
   "id": "63d94a0b",
   "metadata": {},
   "outputs": [],
   "source": [
    "plex = PETSc.DMPlex().createFromFile(\"mesh_test.msh\")"
   ]
  },
  {
   "cell_type": "code",
   "execution_count": 19,
   "id": "ea1f2be2",
   "metadata": {},
   "outputs": [
    {
     "name": "stdout",
     "output_type": "stream",
     "text": [
      "DM Object: DM_0x556bacfaed20_0 1 MPI processes\n",
      "  type: plex\n",
      "DM_0x556bacfaed20_0 in 2 dimensions:\n",
      "  0-cells: 142\n",
      "  1-cells: 383\n",
      "  2-cells: 242\n",
      "Labels:\n",
      "  celltype: 3 strata with value/size (0 (142), 3 (242), 1 (383))\n",
      "  depth: 3 strata with value/size (0 (142), 1 (383), 2 (242))\n",
      "  Face Sets: 4 strata with value/size (1 (10), 4 (10), 2 (10), 3 (10))\n"
     ]
    }
   ],
   "source": [
    "plex.view()"
   ]
  },
  {
   "cell_type": "code",
   "execution_count": 20,
   "id": "f0831020",
   "metadata": {},
   "outputs": [],
   "source": [
    "markers_dict = {\"Bottom\": bottom_marker,\n",
    "                \"Right\": right_marker,\n",
    "                \"Top\": top_marker,\n",
    "                \"Left\": left_marker}"
   ]
  },
  {
   "cell_type": "code",
   "execution_count": 21,
   "id": "80466780",
   "metadata": {},
   "outputs": [
    {
     "data": {
      "text/plain": [
       "{'Bottom': 2, 'Right': 3, 'Top': 4, 'Left': 1}"
      ]
     },
     "execution_count": 21,
     "metadata": {},
     "output_type": "execute_result"
    }
   ],
   "source": [
    "markers_dict"
   ]
  },
  {
   "cell_type": "code",
   "execution_count": 22,
   "id": "c19393f6",
   "metadata": {},
   "outputs": [],
   "source": [
    "for key, value in markers_dict.items():\n",
    "    indexSet = plex.getStratumIS(\"Face Sets\", value)\n",
    "    plex.createLabel(key)\n",
    "    label = plex.getLabel(key)\n",
    "    if indexSet:\n",
    "        label.insertIS(indexSet, value)\n",
    "    indexSet.destroy()"
   ]
  },
  {
   "cell_type": "code",
   "execution_count": 23,
   "id": "4107cdda",
   "metadata": {},
   "outputs": [
    {
     "name": "stdout",
     "output_type": "stream",
     "text": [
      "DM Object: DM_0x556bacfaed20_0 1 MPI processes\n",
      "  type: plex\n",
      "DM_0x556bacfaed20_0 in 2 dimensions:\n",
      "  0-cells: 142\n",
      "  1-cells: 383\n",
      "  2-cells: 242\n",
      "Labels:\n",
      "  celltype: 3 strata with value/size (0 (142), 3 (242), 1 (383))\n",
      "  depth: 3 strata with value/size (0 (142), 1 (383), 2 (242))\n",
      "  Face Sets: 4 strata with value/size (1 (10), 4 (10), 2 (10), 3 (10))\n",
      "  Bottom: 1 strata with value/size (2 (10))\n",
      "  Right: 1 strata with value/size (3 (10))\n",
      "  Top: 1 strata with value/size (4 (10))\n",
      "  Left: 1 strata with value/size (1 (10))\n"
     ]
    }
   ],
   "source": [
    "plex.view()"
   ]
  }
 ],
 "metadata": {
  "kernelspec": {
   "display_name": "uw3",
   "language": "python",
   "name": "uw3"
  },
  "language_info": {
   "codemirror_mode": {
    "name": "ipython",
    "version": 3
   },
   "file_extension": ".py",
   "mimetype": "text/x-python",
   "name": "python",
   "nbconvert_exporter": "python",
   "pygments_lexer": "ipython3",
   "version": "3.9.7"
  }
 },
 "nbformat": 4,
 "nbformat_minor": 5
}
