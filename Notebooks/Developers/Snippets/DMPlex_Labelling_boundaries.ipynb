{
 "cells": [
  {
   "cell_type": "code",
   "execution_count": 1,
   "id": "a54f18fd",
   "metadata": {},
   "outputs": [],
   "source": [
    "import sys,petsc4py\n",
    "petsc4py.init(sys.argv)\n",
    "from petsc4py import PETSc\n",
    "import numpy as np"
   ]
  },
  {
   "cell_type": "code",
   "execution_count": 2,
   "id": "c8c6a7e2",
   "metadata": {},
   "outputs": [],
   "source": [
    "options = PETSc.Options()"
   ]
  },
  {
   "cell_type": "code",
   "execution_count": 3,
   "id": "c180cca4",
   "metadata": {},
   "outputs": [],
   "source": [
    "options[\"dm_plex_separate_marker\"] = None"
   ]
  },
  {
   "cell_type": "code",
   "execution_count": 4,
   "id": "7ca3d059",
   "metadata": {},
   "outputs": [],
   "source": [
    "plex = PETSc.DMPlex().createBoxMesh(faces=(1,1), simplex=False)"
   ]
  },
  {
   "cell_type": "code",
   "execution_count": 5,
   "id": "e779065e",
   "metadata": {},
   "outputs": [],
   "source": [
    "plex.setName(\"Mesh\")"
   ]
  },
  {
   "cell_type": "code",
   "execution_count": 6,
   "id": "5e082793",
   "metadata": {},
   "outputs": [
    {
     "name": "stdout",
     "output_type": "stream",
     "text": [
      "DM Object: Mesh 1 MPI processes\n",
      "  type: plex\n",
      "Mesh in 2 dimensions:\n",
      "  0-cells: 4\n",
      "  1-cells: 4\n",
      "  2-cells: 1\n",
      "Labels:\n",
      "  marker: 4 strata with value/size (4 (3), 2 (3), 1 (3), 3 (3))\n",
      "  Face Sets: 4 strata with value/size (4 (1), 2 (1), 1 (1), 3 (1))\n",
      "  depth: 3 strata with value/size (0 (4), 1 (4), 2 (1))\n",
      "  celltype: 3 strata with value/size (4 (1), 0 (4), 1 (4))\n"
     ]
    }
   ],
   "source": [
    "plex.view()"
   ]
  },
  {
   "cell_type": "code",
   "execution_count": 7,
   "id": "9d0c12f8",
   "metadata": {},
   "outputs": [],
   "source": [
    "markers_dict = {\"Bottom\": 1,\n",
    "                \"Right\": 2,\n",
    "                \"Top\": 3,\n",
    "                \"Left\": 4}"
   ]
  },
  {
   "cell_type": "code",
   "execution_count": 8,
   "id": "0bbbfe0e",
   "metadata": {},
   "outputs": [],
   "source": [
    "for key, value in markers_dict.items():\n",
    "    indexSet = plex.getStratumIS(\"marker\", 1)\n",
    "    plex.createLabel(key)\n",
    "    label = plex.getLabel(key)\n",
    "    if indexSet:\n",
    "        label.insertIS(indexSet, value)\n",
    "    indexSet.destroy()"
   ]
  },
  {
   "cell_type": "code",
   "execution_count": 9,
   "id": "a3a4b9d4",
   "metadata": {},
   "outputs": [
    {
     "name": "stdout",
     "output_type": "stream",
     "text": [
      "DM Object: Mesh 1 MPI processes\n",
      "  type: plex\n",
      "Mesh in 2 dimensions:\n",
      "  0-cells: 4\n",
      "  1-cells: 4\n",
      "  2-cells: 1\n",
      "Labels:\n",
      "  marker: 4 strata with value/size (4 (3), 2 (3), 1 (3), 3 (3))\n",
      "  Face Sets: 4 strata with value/size (4 (1), 2 (1), 1 (1), 3 (1))\n",
      "  depth: 3 strata with value/size (0 (4), 1 (4), 2 (1))\n",
      "  celltype: 3 strata with value/size (4 (1), 0 (4), 1 (4))\n",
      "  Bottom: 1 strata with value/size (1 (3))\n",
      "  Right: 1 strata with value/size (2 (3))\n",
      "  Top: 1 strata with value/size (3 (3))\n",
      "  Left: 1 strata with value/size (4 (3))\n"
     ]
    }
   ],
   "source": [
    "plex.view()"
   ]
  }
 ],
 "metadata": {
  "kernelspec": {
   "display_name": "uw3",
   "language": "python",
   "name": "uw3"
  },
  "language_info": {
   "codemirror_mode": {
    "name": "ipython",
    "version": 3
   },
   "file_extension": ".py",
   "mimetype": "text/x-python",
   "name": "python",
   "nbconvert_exporter": "python",
   "pygments_lexer": "ipython3",
   "version": "3.9.7"
  }
 },
 "nbformat": 4,
 "nbformat_minor": 5
}
