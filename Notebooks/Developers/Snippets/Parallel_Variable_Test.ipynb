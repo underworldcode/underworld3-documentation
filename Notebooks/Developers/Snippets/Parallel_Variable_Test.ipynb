{
 "cells": [
  {
   "cell_type": "code",
   "execution_count": 1,
   "id": "f09fa5cf-e19a-4dd6-ac43-c3338f87e8f9",
   "metadata": {},
   "outputs": [],
   "source": [
    "#|  echo: false  # Hide in html version\n",
    "\n",
    "# This is required to fix pyvista \n",
    "# (visualisation) crashes in interactive notebooks (including on binder)\n"
   ]
  },
  {
   "cell_type": "code",
   "execution_count": 2,
   "id": "262f021f-bef3-4e3d-95cb-a419e775a827",
   "metadata": {},
   "outputs": [
    {
     "name": "stderr",
     "output_type": "stream",
     "text": [
      "[Lyrebird.local:66941] shmem: mmap: an error occurred while determining whether or not /var/folders/tx/95gr762j29z4tt5d1dnqlgth0000gn/T//ompi.Lyrebird.501/jf.0/2581594112/sm_segment.Lyrebird.501.99e00000.0 could be created.\n"
     ]
    }
   ],
   "source": [
    "import underworld3 as uw\n",
    "import numpy as np\n",
    "import sympy"
   ]
  },
  {
   "cell_type": "code",
   "execution_count": 3,
   "id": "bfe885fb-b8bb-4434-a684-2f3108d9df83",
   "metadata": {},
   "outputs": [
    {
     "name": "stdout",
     "output_type": "stream",
     "text": [
      "0 - define continuous variables\n",
      "0 - define 2nd variable\n",
      "0 - build projections\n",
      "0 - build projections ... done\n",
      "0  [ 0.5  0.  -0.5  0.   1.   0. ]\n",
      "0  [0. 0. 0. 0. 0. 0.]\n"
     ]
    }
   ],
   "source": [
    "mesh1 = uw.meshing.Annulus(radiusInner=0.5, radiusOuter=1.0, cellSize=0.1)\n",
    "x, y = mesh1.X\n",
    "\n",
    "# Continuous function\n",
    "print(f\"{uw.mpi.rank} - define continuous variables\", flush=True)\n",
    "s_fn = sympy.cos(5.0 * sympy.pi * x) * sympy.cos(5.0 * sympy.pi * y)\n",
    "s_soln = uw.discretisation.MeshVariable(\"S\", mesh1, 1, degree=1)\n",
    "\n",
    "# second mesh variable\n",
    "print(f\"{uw.mpi.rank} - define 2nd variable\", flush=True)\n",
    "s_values = uw.discretisation.MeshVariable(\"S2\", mesh1, 2, degree=1, continuous=True)\n",
    "\n",
    "# Projection operation\n",
    "print(f\"{uw.mpi.rank} - build projections\", flush=True)\n",
    "scalar_projection = uw.systems.Projection(mesh1, s_soln, verbose=False)\n",
    "print(f\"{uw.mpi.rank} - build projections ... done\", flush=True)\n",
    "\n",
    "scalar_projection.uw_function = s_values.sym[0]\n",
    "scalar_projection.smoothing = 1.0e-6\n",
    "\n",
    "\n",
    "# S2 coordinates\n",
    "with mesh1.access():\n",
    "    print(f\"{uw.mpi.rank} \", s_values.coords[0:3].reshape(-1), flush=True)\n",
    "\n",
    "# Values on S2\n",
    "# print(f\"{uw.mpi.rank} - set values\", flush=True)\n",
    "with mesh1.access(s_values):\n",
    "    print(f\"{uw.mpi.rank} \", s_values.data[0:3].reshape(-1), flush=True)\n",
    "    # s_values.data[:, :] = 1.0 # uw.function.evalf(sympy.sympify(1), s_values.coords)"
   ]
  },
  {
   "cell_type": "code",
   "execution_count": 4,
   "id": "9f9856bb-f972-4e00-a723-e42dab0bfaf8",
   "metadata": {
    "lines_to_end_of_cell_marker": 2
   },
   "outputs": [],
   "source": [
    "# Try to grab the information directly from the mesh dm\n",
    "\n",
    "mesh1.update_lvec()\n",
    "\n",
    "names, isets, dms = mesh1.dm.createFieldDecomposition()\n",
    "\n",
    "fields = {}\n",
    "for i, field_name in enumerate(names):\n",
    "    fields[field_name] = (isets[i], dms[i])"
   ]
  },
  {
   "cell_type": "code",
   "execution_count": 5,
   "id": "50cb6921-4700-4502-9bd1-fdd080c1dcbb",
   "metadata": {},
   "outputs": [],
   "source": [
    "mesh1.update_lvec()\n",
    "gvec = mesh1.dm.getGlobalVec()"
   ]
  },
  {
   "cell_type": "code",
   "execution_count": 6,
   "id": "5fc500a4-5f8c-4aa2-8437-99da89edd861",
   "metadata": {
    "scrolled": true
   },
   "outputs": [],
   "source": [
    "# fields[\"S2\"][0].view()"
   ]
  },
  {
   "cell_type": "code",
   "execution_count": 7,
   "id": "2de137bd-73a4-40dc-b417-2dba365976b7",
   "metadata": {},
   "outputs": [],
   "source": [
    "indexset, subdm = mesh1.dm.createSubDM(s_values.field_id)"
   ]
  },
  {
   "cell_type": "code",
   "execution_count": 13,
   "id": "b65de652-a286-45e6-a740-61730eb86752",
   "metadata": {},
   "outputs": [],
   "source": []
  },
  {
   "cell_type": "code",
   "execution_count": 8,
   "id": "7baf9465-731d-4874-93b5-48fb5752e0b5",
   "metadata": {
    "lines_to_next_cell": 0
   },
   "outputs": [
    {
     "name": "stdout",
     "output_type": "stream",
     "text": [
      "0: (2940,), (2940,)\n"
     ]
    }
   ],
   "source": [
    "mesh1.update_lvec()\n",
    "print(f\"{uw.mpi.rank}: {gvec.array.shape}, {mesh1.lvec.array.shape}\")\n",
    "\n",
    "mesh1.dm.localToGlobal(mesh1.lvec, gvec, addv=False)\n",
    "mesh1.dm.globalToLocal(gvec, mesh1.lvec, addv=False)\n",
    "\n",
    "# Get subdm / subvector\n",
    "\n",
    "indexset, subdm = mesh1.dm.createSubDM(s_values.field_id)\n",
    "\n",
    "slvec_S2 = subdm.getLocalVec()\n",
    "sgvec_S2 = subdm.getGlobalVec()\n",
    "slvec_S2.set(2.0)\n",
    "\n",
    "subdm.localToGlobal(slvec_S2, sgvec_S2)\n",
    "subdm.globalToLocal(sgvec_S2, slvec_S2)\n",
    "\n",
    "subvec_S2 = gvec.getSubVector(indexset)\n",
    "sgvec_S2.copy(subvec_S2)\n",
    "gvec.restoreSubVector(indexset, subvec_S2)\n",
    "\n",
    "mesh1.dm.globalToLocal(gvec, mesh1.lvec, addv=False)\n",
    "mesh1.dm.localToGlobal(mesh1.lvec, gvec, addv=False)\n",
    "\n",
    "subdm.destroy()\n",
    "indexset.destroy()\n",
    "\n",
    "mesh1.dm.restoreGlobalVec(gvec)\n"
   ]
  },
  {
   "cell_type": "code",
   "execution_count": null,
   "id": "4a0f4f19-78f8-4afb-8820-3191be642161",
   "metadata": {},
   "outputs": [],
   "source": []
  },
  {
   "cell_type": "code",
   "execution_count": 11,
   "id": "08feb3ce-019e-4863-a609-384fa78578a2",
   "metadata": {
    "lines_to_next_cell": 2
   },
   "outputs": [
    {
     "data": {
      "text/plain": [
       "True"
      ]
     },
     "execution_count": 11,
     "metadata": {},
     "output_type": "execute_result"
    }
   ],
   "source": []
  },
  {
   "cell_type": "code",
   "execution_count": 12,
   "id": "b88e9249-3af4-4048-ac20-e8e8c42e67fa",
   "metadata": {
    "lines_to_next_cell": 0
   },
   "outputs": [
    {
     "name": "stdout",
     "output_type": "stream",
     "text": [
      "0 - solve projection\n",
      "Finalised\n"
     ]
    }
   ],
   "source": [
    "scalar_projection.solve()\n",
    "\n",
    "print(f\"{uw.mpi.rank} - solve projection\", flush=True)\n",
    "# mesh1.dm.view()\n",
    "\n",
    "\n",
    "print(f\"Finalised\")"
   ]
  },
  {
   "cell_type": "code",
   "execution_count": null,
   "id": "ce4c60e9-99d5-4b56-8f4a-0ab182ad250a",
   "metadata": {},
   "outputs": [],
   "source": []
  },
  {
   "cell_type": "code",
   "execution_count": null,
   "id": "ca794beb-6895-4740-a0de-d87d88cc0cc3",
   "metadata": {
    "lines_to_next_cell": 2
   },
   "outputs": [],
   "source": []
  }
 ],
 "metadata": {
  "jupytext": {
   "formats": "ipynb,py:light"
  },
  "kernelspec": {
   "display_name": "Python 3 (ipykernel)",
   "language": "python",
   "name": "python3"
  },
  "language_info": {
   "codemirror_mode": {
    "name": "ipython",
    "version": 3
   },
   "file_extension": ".py",
   "mimetype": "text/x-python",
   "name": "python",
   "nbconvert_exporter": "python",
   "pygments_lexer": "ipython3",
   "version": "3.11.7"
  }
 },
 "nbformat": 4,
 "nbformat_minor": 5
}
