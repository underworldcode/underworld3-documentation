{
 "cells": [
  {
   "cell_type": "code",
   "execution_count": 2,
   "id": "ceea28f9-a1c8-44e8-8595-e3df54d406d7",
   "metadata": {},
   "outputs": [],
   "source": [
    "from enum import Enum\n",
    "\n",
    "class boundary(Enum):\n",
    "    a = 1\n",
    "    b = 2\n",
    "    c = 3"
   ]
  },
  {
   "cell_type": "code",
   "execution_count": 17,
   "id": "bcbd6328-5859-4e38-9ade-062df066363a",
   "metadata": {},
   "outputs": [],
   "source": [
    "def extend_flag(inherited,_type):\n",
    "   def wrapper(final):\n",
    "     joined = {}\n",
    "     inherited.append(final)\n",
    "     for i in inherited:\n",
    "        for j in i:\n",
    "           joined[j.name] = j.value\n",
    "     return _type(final.__name__, joined)\n",
    "   return wrapper\n",
    "\n",
    "def extend_enum(inherited):\n",
    "   def wrapper(final):\n",
    "     joined = {}\n",
    "     inherited.append(final)\n",
    "     for i in inherited:\n",
    "        for j in i:\n",
    "           joined[j.name] = j.value\n",
    "     return Enum(final.__name__, joined)\n",
    "   return wrapper\n"
   ]
  },
  {
   "cell_type": "code",
   "execution_count": 16,
   "id": "38f8aea3-9ed2-407e-808b-c469b921f66f",
   "metadata": {},
   "outputs": [
    {
     "name": "stdout",
     "output_type": "stream",
     "text": [
      "[<E.a: 'one'>, <E.b: 'two'>, <E.c: 'three'>, <E.d: 'four'>, <E.h: 'five'>]\n",
      "[]\n"
     ]
    }
   ],
   "source": [
    "from enum import Enum, IntFlag\n",
    "\n",
    "class A(Enum):\n",
    "   a = \"one\"\n",
    "   b = \"two\"\n",
    "\n",
    "class B(Enum):\n",
    "   c = \"three\"\n",
    "   d = \"four\"\n",
    "\n",
    "class C(IntFlag):\n",
    "   e = 0x05\n",
    "   f = 0x0A4\n",
    "   g = 0x0457C\n",
    "   \n",
    "class D(IntFlag):\n",
    "   h = 0x07\n",
    "   i = 0x0B12\n",
    "   j = 0x04C\n",
    "\n",
    "@extend_flag([A,B], Enum)\n",
    "class E(Enum):\n",
    "   h = \"five\"\n",
    "\n",
    "@extend_flag([C,D], IntFlag)\n",
    "class F(IntFlag):\n",
    "   k = 0x09\n",
    "   l = 0x0B2\n",
    "if __name__ == '__main__':\n",
    "   print(list(E))\n",
    "   print(list(F))"
   ]
  },
  {
   "cell_type": "code",
   "execution_count": 18,
   "id": "673d9a91-b5b5-4b77-8080-60b2df593424",
   "metadata": {},
   "outputs": [],
   "source": [
    "@extend_enum([boundary])\n",
    "class boundary2(Enum):\n",
    "    Fake_boundary = 6"
   ]
  },
  {
   "cell_type": "code",
   "execution_count": 20,
   "id": "bd7feaf6-7240-4a80-9206-cb12ed831a6e",
   "metadata": {},
   "outputs": [
    {
     "data": {
      "text/plain": [
       "<boundary2.Fake_boundary: 666>"
      ]
     },
     "execution_count": 20,
     "metadata": {},
     "output_type": "execute_result"
    }
   ],
   "source": [
    "boundary2.Fake_boundary"
   ]
  },
  {
   "cell_type": "code",
   "execution_count": 24,
   "id": "b7c17a59-3018-4c67-8529-aff96ed9fb42",
   "metadata": {},
   "outputs": [],
   "source": [
    "@extend_enum([boundary2])\n",
    "class boundary3(Enum):\n",
    "    Fake_boundary = 667"
   ]
  },
  {
   "cell_type": "code",
   "execution_count": 25,
   "id": "afb3c399-db16-4082-aed9-288ef11904e7",
   "metadata": {},
   "outputs": [
    {
     "data": {
      "text/plain": [
       "<boundary3.Fake_boundary: 667>"
      ]
     },
     "execution_count": 25,
     "metadata": {},
     "output_type": "execute_result"
    }
   ],
   "source": [
    "boundary3.Fake_boundary"
   ]
  },
  {
   "cell_type": "code",
   "execution_count": null,
   "id": "629c23f5-1481-443e-b372-15eea0a7c2a2",
   "metadata": {},
   "outputs": [],
   "source": []
  }
 ],
 "metadata": {
  "kernelspec": {
   "display_name": "Python 3 (ipykernel)",
   "language": "python",
   "name": "python3"
  },
  "language_info": {
   "codemirror_mode": {
    "name": "ipython",
    "version": 3
   },
   "file_extension": ".py",
   "mimetype": "text/x-python",
   "name": "python",
   "nbconvert_exporter": "python",
   "pygments_lexer": "ipython3",
   "version": "3.11.10"
  }
 },
 "nbformat": 4,
 "nbformat_minor": 5
}
