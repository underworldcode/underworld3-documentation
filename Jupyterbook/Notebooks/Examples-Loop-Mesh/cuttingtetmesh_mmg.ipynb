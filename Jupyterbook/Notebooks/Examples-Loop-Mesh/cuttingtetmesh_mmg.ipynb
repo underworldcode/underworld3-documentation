{
 "cells": [
  {
   "cell_type": "code",
   "execution_count": 1,
   "metadata": {},
   "outputs": [],
   "source": [
    "import numpy as np\n",
    "from LoopStructural import GeologicalModel\n",
    "import pandas as pd\n",
    "from LoopStructural.visualisation import Loop3DView\n",
    "# import loopstructuralmeshing\n",
    "from loopstructuralmeshing import meshbuilder"
   ]
  },
  {
   "cell_type": "code",
   "execution_count": 2,
   "metadata": {},
   "outputs": [],
   "source": [
    "data = pd.DataFrame(\n",
    "    [\n",
    "        [100, 100, 150, 0.17, 0, 0.98, 0, \"strati\"],\n",
    "        [100, 100, 170, 0, 0, 0.86, 0, \"strati3\"],\n",
    "        [100, 100, 100, 0, 0, 1, 0, \"strati2\"],\n",
    "        [100, 100, 50, 0, 0, 1, 0, \"nconf\"],\n",
    "        [100, 100, 50, 0, 0, 1, 0, \"strati4\"],\n",
    "        [700, 100, 190, 1, 0, 0, np.nan, \"fault\"],\n",
    "    ],\n",
    "    columns=[\"X\", \"Y\", \"Z\", \"nx\", \"ny\", \"nz\", \"val\", \"feature_name\"],\n",
    ")"
   ]
  },
  {
   "cell_type": "code",
   "execution_count": 3,
   "metadata": {},
   "outputs": [
    {
     "name": "stderr",
     "output_type": "stream",
     "text": [
      "WARNING: 2024-06-26 21:17:33,374: _fault_builder.py:208 -- There is no slip vector data for the fault, using vertical slip vector\n",
      "                          projected onto fault surface estimating from fault normal\n"
     ]
    },
    {
     "data": {
      "text/plain": [
       "-----------------------------------------------------\n",
       "strati 1 \n",
       "-----------------------------------------------------\n",
       "\t0 regions\n",
       "\t0 faults.\n",
       "\tFault enabled True"
      ]
     },
     "execution_count": 3,
     "metadata": {},
     "output_type": "execute_result"
    }
   ],
   "source": [
    "model = GeologicalModel(np.zeros(3), np.array([1000, 1000, 200]))\n",
    "model.data = data\n",
    "model.create_and_add_fault(\n",
    "    \"fault\", 50, minor_axis=700, major_axis=3000, intermediate_axis=300, fault_center = [700, 500, 0],\n",
    ")\n",
    "\n",
    "model.create_and_add_foliation(\"strati\", buffer=0.0)\n"
   ]
  },
  {
   "cell_type": "code",
   "execution_count": 4,
   "metadata": {
    "scrolled": true
   },
   "outputs": [],
   "source": [
    "# tetmesh = loopstructuralmeshing.MeshFactory.create_mesh(model.bounding_box,n_elements=1e4)\n",
    "tetmesh = meshbuilder.MeshFactory.create_mesh(model.bounding_box,n_elements=1e4)"
   ]
  },
  {
   "cell_type": "code",
   "execution_count": 5,
   "metadata": {},
   "outputs": [],
   "source": [
    "# tetmesh.nodes/=1000"
   ]
  },
  {
   "cell_type": "code",
   "execution_count": 6,
   "metadata": {},
   "outputs": [],
   "source": [
    "class TetMesh:\n",
    "    def __init__(self, nodes, elements):\n",
    "        self.nodes = nodes\n",
    "        self.elements = elements\n",
    "        self.point_data = {}\n",
    "        self.element_data = {}\n",
    "        self.material = np.zeros(self.elements.shape[0])\n",
    "    def barycentre(self):\n",
    "        return np.mean(self.nodes[self.elements],axis=1)\n",
    "    def vtk(self):\n",
    "        return create_pyvista_mesh(self.nodes,self.elements)\n",
    "    def optimize(self):\n",
    "        import meshio\n",
    "        import pygmsh\n",
    "        mesh = meshio.Mesh(points=self.nodes, cells=[(\"tetra\", self.elements)])\n",
    "        opt_mesh = pygmsh.optimize(mesh)\n",
    "        self.nodes = opt_mesh.points\n",
    "        self.elements = opt_mesh.cells[0].data\n",
    "    def save(self, filename):\n",
    "        import meshio\n",
    "        meshio.write_points_cells(\n",
    "            filename,\n",
    "            self.nodes,\n",
    "            {\"tetra\": self.elements},\n",
    "            point_data=self.point_data,\n",
    "            # cell_data=self.element_data,\n",
    "        )"
   ]
  },
  {
   "cell_type": "code",
   "execution_count": 7,
   "metadata": {},
   "outputs": [],
   "source": [
    "newmesh = TetMesh(tetmesh.nodes/100,tetmesh.elements)"
   ]
  },
  {
   "cell_type": "code",
   "execution_count": 8,
   "metadata": {},
   "outputs": [],
   "source": [
    "from pyvista import CellType\n",
    "\n",
    "def create_pyvista_mesh(nodes,elements):\n",
    "    celltypes = np.full(elements.shape[0], fill_value=CellType.TETRA, dtype=np.uint8)\n",
    "    pvtetmesh = pv.UnstructuredGrid(np.hstack([np.ones((elements.shape[0],1))+3,elements]).astype(int),celltypes,nodes)\n",
    "\n",
    "    return pvtetmesh"
   ]
  },
  {
   "cell_type": "code",
   "execution_count": 9,
   "metadata": {},
   "outputs": [],
   "source": [
    "def dotmeshtotetmesh(filename):\n",
    "\n",
    "    import meshio\n",
    "    optimesh = meshio.read(filename)\n",
    "    return TetMesh(optimesh.points,optimesh.cells[0].data)\n",
    "def savesol(filename,mesh,feature):\n",
    "    vals = feature.evaluate_value(feature.model.scale(mesh.nodes)*100)\n",
    "    with open(filename,'w') as file:\n",
    "\n",
    "        file.write(f\"\"\"MeshVersionFormatted 1\n",
    "\n",
    "    Dimension 3\n",
    "\n",
    "    SolAtVertices\n",
    "    {len(mesh.nodes)}\n",
    "    1 1\n",
    "\n",
    "    \"\"\")\n",
    "        np.savetxt(file,vals)\n",
    "        file.write(f\"\"\"\n",
    "\n",
    "    End\n",
    "            \"\"\")    \n",
    "\n",
    "def writedotmesh(filename,mesh):\n",
    "    with open(filename,'w') as file:\n",
    "        file.write(f\"\"\"MeshVersionFormatted 2\n",
    "\n",
    "MeshVersionFormatted 2\n",
    "Dimension 3\n",
    "\n",
    "Vertices\n",
    "{len(mesh.nodes)}\n",
    "\"\"\")\n",
    "\n",
    "        np.savetxt(file,mesh.nodes)\n",
    "        file.write(f\"\"\"/n\n",
    "Tetrahedra\n",
    "{len(mesh.elements)}\n",
    "\"\"\")\n",
    "        np.savetxt(file,np.hstack([mesh.elements.astype(int),mesh.material.astype(int)]))\n",
    "        file.write(f\"\"\"/n\"\"\")"
   ]
  },
  {
   "cell_type": "code",
   "execution_count": 10,
   "metadata": {},
   "outputs": [],
   "source": [
    "def writemultimaterials2(filename):\n",
    "    with open(filename,'w') as file:\n",
    "        file.write(f\"\"\"LSReferences\n",
    "3\n",
    "\n",
    "4 nosplit\n",
    "5 1 2\n",
    "6 3 7\n",
    "\"\"\")\n",
    "def writemultimaterials1(filename):\n",
    "    with open(filename,'w') as file:\n",
    "        file.write(f\"\"\"LSReferences\n",
    "2\n",
    "\n",
    "2 4 5\n",
    "3 6 7 \n",
    "\"\"\")  "
   ]
  },
  {
   "cell_type": "code",
   "execution_count": 11,
   "metadata": {},
   "outputs": [
    {
     "data": {
      "text/plain": [
       "10.0"
      ]
     },
     "execution_count": 11,
     "metadata": {},
     "output_type": "execute_result"
    }
   ],
   "source": [
    "newmesh.nodes.max()"
   ]
  },
  {
   "cell_type": "code",
   "execution_count": 12,
   "metadata": {},
   "outputs": [
    {
     "name": "stdout",
     "output_type": "stream",
     "text": [
      "  -- MMG3D, Release 5.7.0 (Dec. 13, 2022) \n",
      "     Copyright (c) Bdx INP/CNRS/Inria/UPMC, 2004-\n",
      "     Jun 26 2024 16:20:47\n",
      "\n",
      "  -- INPUT DATA\n",
      "  %% tetmesh1e2.mesh OPENED\n",
      "  %% tetmesh1e2_solution.sol OPENED\n",
      "  -- DATA READING COMPLETED.     0.071s\n",
      "\n",
      "  -- MMG3DLS: INPUT DATA\n",
      "  -- INPUT DATA COMPLETED.     0.000s\n",
      "\n",
      "  -- PHASE 1 : ISOSURFACE DISCRETIZATION\n",
      "\n",
      "  -- MESH QUALITY  22350\n",
      "     BEST   0.996462  AVRG.   0.690485  WRST.   0.122418 (13922)\n",
      "  -- PHASE 1 COMPLETED.     0.062s\n",
      "\n",
      "  -- PHASE 2 : ANALYSIS\n",
      "  -- PHASE 2 COMPLETED.     0.038s\n",
      "\n",
      "  -- PHASE 3 : MESH IMPROVEMENT\n",
      "  *** Manifold implicit surface.\n",
      "                            2974 splitted,       83 collapsed,    12221 swapped, 5 iter.\n",
      "\n",
      "  -- GRADATION : 1.300000 (2.300000)\n",
      "                             368 splitted,     9146 collapsed,      806 swapped, 6 iter.\n",
      "  *** Manifold implicit surface.\n",
      "  -- PHASE 3 COMPLETED.     0.676s\n",
      "\n",
      "  -- MESH QUALITY  79\n",
      "     BEST   0.901454  AVRG.   0.494348  WRST.   0.188392 (40)\n",
      "\n",
      "  -- MESH PACKED UP\n",
      "     NUMBER OF VERTICES         31   CORNERS       12\n",
      "     NUMBER OF TETRAHEDRA       79\n",
      "     NUMBER OF EDGES            29   RIDGES        21\n",
      "     NUMBER OF TRIANGLES        46\n",
      "\n",
      "   MMG3DLS: ELAPSED TIME  0.789s\n",
      "\n",
      "  &&&&&&&&&&&&&&&&&&&&&&&&&&&&&&&&&&&&&&&&&&&&&&&&&&&&&&&&&&&&\n",
      "   END OF MODULE MMG3D\n",
      "  &&&&&&&&&&&&&&&&&&&&&&&&&&&&&&&&&&&&&&&&&&&&&&&&&&&&&&&&&&&&\n",
      "\n",
      "\n",
      "  -- WRITING DATA FILE meshout.mesh\n",
      "  %% meshout.mesh OPENED\n",
      "  %% meshout.sol OPENED\n",
      "  -- WRITING COMPLETED\n",
      "\n",
      "   ELAPSED TIME  0.871s\n"
     ]
    },
    {
     "data": {
      "text/html": [
       "<pre style=\"white-space:pre;overflow-x:auto;line-height:normal;font-family:Menlo,'DejaVu Sans Mono',consolas,'Courier New',monospace\"><span style=\"color: #808000; text-decoration-color: #808000; font-weight: bold\">Warning:</span><span style=\"color: #808000; text-decoration-color: #808000\"> Meshio doesn't know keyword RequiredVertices. Skipping.</span>\n",
       "</pre>\n"
      ],
      "text/plain": [
       "\u001b[1;33mWarning:\u001b[0m\u001b[33m Meshio doesn't know keyword RequiredVertices. Skipping.\u001b[0m\n"
      ]
     },
     "metadata": {},
     "output_type": "display_data"
    },
    {
     "data": {
      "text/html": [
       "<pre style=\"white-space:pre;overflow-x:auto;line-height:normal;font-family:Menlo,'DejaVu Sans Mono',consolas,'Courier New',monospace\"><span style=\"color: #808000; text-decoration-color: #808000; font-weight: bold\">Warning:</span><span style=\"color: #808000; text-decoration-color: #808000\"> Meshio doesn't know keyword Tangents. Skipping.</span>\n",
       "</pre>\n"
      ],
      "text/plain": [
       "\u001b[1;33mWarning:\u001b[0m\u001b[33m Meshio doesn't know keyword Tangents. Skipping.\u001b[0m\n"
      ]
     },
     "metadata": {},
     "output_type": "display_data"
    },
    {
     "data": {
      "text/html": [
       "<pre style=\"white-space:pre;overflow-x:auto;line-height:normal;font-family:Menlo,'DejaVu Sans Mono',consolas,'Courier New',monospace\"><span style=\"color: #808000; text-decoration-color: #808000; font-weight: bold\">Warning:</span><span style=\"color: #808000; text-decoration-color: #808000\"> Meshio doesn't know keyword TangentAtVertices. Skipping.</span>\n",
       "</pre>\n"
      ],
      "text/plain": [
       "\u001b[1;33mWarning:\u001b[0m\u001b[33m Meshio doesn't know keyword TangentAtVertices. Skipping.\u001b[0m\n"
      ]
     },
     "metadata": {},
     "output_type": "display_data"
    },
    {
     "data": {
      "text/html": [
       "<pre style=\"white-space:pre;overflow-x:auto;line-height:normal;font-family:Menlo,'DejaVu Sans Mono',consolas,'Courier New',monospace\"><span style=\"color: #808000; text-decoration-color: #808000; font-weight: bold\">Warning:</span><span style=\"color: #808000; text-decoration-color: #808000\"> Meshio doesn't know keyword Ridges. Skipping.</span>\n",
       "</pre>\n"
      ],
      "text/plain": [
       "\u001b[1;33mWarning:\u001b[0m\u001b[33m Meshio doesn't know keyword Ridges. Skipping.\u001b[0m\n"
      ]
     },
     "metadata": {},
     "output_type": "display_data"
    },
    {
     "name": "stdout",
     "output_type": "stream",
     "text": [
      "  -- MMG3D, Release 5.7.0 (Dec. 13, 2022) \n",
      "     Copyright (c) Bdx INP/CNRS/Inria/UPMC, 2004-\n",
      "     Jun 26 2024 16:20:47\n",
      "\n",
      "  -- INPUT DATA\n",
      "  %% meshout.mesh OPENED\n",
      "  %% tetmesh1e2_solution.sol OPENED\n",
      "\n",
      "  %% meshout.mmg3d OPENED\n",
      "  -- DATA READING COMPLETED.     0.028s\n",
      "\n",
      "  -- MMG3DLS: INPUT DATA\n",
      "  -- INPUT DATA COMPLETED.     0.000s\n",
      "\n",
      "  -- PHASE 1 : ISOSURFACE DISCRETIZATION\n",
      "\n",
      "  -- MESH QUALITY  79\n",
      "     BEST   0.901454  AVRG.   0.494348  WRST.   0.188392 (79)\n",
      "  -- PHASE 1 COMPLETED.     0.028s\n",
      "\n",
      "  -- PHASE 2 : ANALYSIS\n",
      "  -- PHASE 2 COMPLETED.     0.022s\n",
      "\n",
      "  -- PHASE 3 : MESH IMPROVEMENT\n",
      "  *** Manifold implicit surface.\n",
      "                            1082 splitted,        0 collapsed,     2523 swapped, 6 iter.\n",
      "\n",
      "  -- GRADATION : 1.300000 (2.300000)\n",
      "                             172 splitted,      271 collapsed,      719 swapped, 6 iter.\n",
      "         2072 splitted,     1232 collapsed,     4942 swapped,     9514 moved, 6 iter. \n",
      "  *** Manifold implicit surface.\n",
      "  -- PHASE 3 COMPLETED.     0.401s\n",
      "\n",
      "  -- MESH QUALITY  8449\n",
      "     BEST   0.994479  AVRG.   0.726171  WRST.   0.029839 (508)\n",
      "\n",
      "  -- MESH PACKED UP\n",
      "     NUMBER OF VERTICES       1882   CORNERS       16\n",
      "     NUMBER OF TETRAHEDRA     8449\n",
      "     NUMBER OF EDGES           211   RIDGES       140\n",
      "     NUMBER OF TRIANGLES      1793\n",
      "\n",
      "   MMG3DLS: ELAPSED TIME  0.459s\n",
      "\n",
      "  &&&&&&&&&&&&&&&&&&&&&&&&&&&&&&&&&&&&&&&&&&&&&&&&&&&&&&&&&&&&\n",
      "   END OF MODULE MMG3D\n",
      "  &&&&&&&&&&&&&&&&&&&&&&&&&&&&&&&&&&&&&&&&&&&&&&&&&&&&&&&&&&&&\n",
      "\n",
      "\n",
      "  -- WRITING DATA FILE meshout.mesh\n",
      "  %% meshout.mesh OPENED\n",
      "  %% meshout.sol OPENED\n",
      "  -- WRITING COMPLETED\n",
      "\n",
      "   ELAPSED TIME  0.502s\n"
     ]
    },
    {
     "data": {
      "text/plain": [
       "CompletedProcess(args=['mmg3d_O3', 'meshout.mesh', '-ls', '0.01', '-sol', 'tetmesh1e2_solution.sol', '-out', 'meshout.mesh', '-hmax', '.7'], returncode=0)"
      ]
     },
     "execution_count": 12,
     "metadata": {},
     "output_type": "execute_result"
    }
   ],
   "source": [
    "import subprocess\n",
    "import shutil\n",
    "meshname = 'tetmesh1e2.mesh'\n",
    "solname = 'tetmesh1e2_solution.sol'\n",
    "\n",
    "savesol(solname,newmesh,model['fault'])\n",
    "# add fault to mesh\n",
    "isovalue = -0.01\n",
    "newmesh.save(meshname)\n",
    "subprocess.run(['mmg3d_O3', meshname,'-ls',str(isovalue),  '-sol', solname, '-out', 'meshout.mesh'])\n",
    "mesh = dotmeshtotetmesh('meshout.mesh')\n",
    "savesol(solname,mesh,model['fault'])\n",
    "isovalue = .01\n",
    "meshname='meshout.mesh'\n",
    "writemultimaterials1('meshout.mmg3d')\n",
    "subprocess.run(['mmg3d_O3',  meshname,'-ls',str(isovalue), '-sol', solname, '-out', 'meshout.mesh','-hmax','.7'])\n",
    "\n",
    "# newmesh.save(meshname)\n",
    "# mesh = dotmeshtotetmesh('meshout.mesh')\n",
    "# import meshio\n",
    "# meshio.read('meshout.mesh').write('meshout.vtk')\n",
    "# mesh.save('optimized_mesh.vtk')\n",
    "\n"
   ]
  },
  {
   "cell_type": "code",
   "execution_count": 13,
   "metadata": {},
   "outputs": [
    {
     "data": {
      "text/html": [
       "<pre style=\"white-space:pre;overflow-x:auto;line-height:normal;font-family:Menlo,'DejaVu Sans Mono',consolas,'Courier New',monospace\"><span style=\"color: #808000; text-decoration-color: #808000; font-weight: bold\">Warning:</span><span style=\"color: #808000; text-decoration-color: #808000\"> Meshio doesn't know keyword RequiredVertices. Skipping.</span>\n",
       "</pre>\n"
      ],
      "text/plain": [
       "\u001b[1;33mWarning:\u001b[0m\u001b[33m Meshio doesn't know keyword RequiredVertices. Skipping.\u001b[0m\n"
      ]
     },
     "metadata": {},
     "output_type": "display_data"
    },
    {
     "data": {
      "text/html": [
       "<pre style=\"white-space:pre;overflow-x:auto;line-height:normal;font-family:Menlo,'DejaVu Sans Mono',consolas,'Courier New',monospace\"><span style=\"color: #808000; text-decoration-color: #808000; font-weight: bold\">Warning:</span><span style=\"color: #808000; text-decoration-color: #808000\"> Meshio doesn't know keyword Tangents. Skipping.</span>\n",
       "</pre>\n"
      ],
      "text/plain": [
       "\u001b[1;33mWarning:\u001b[0m\u001b[33m Meshio doesn't know keyword Tangents. Skipping.\u001b[0m\n"
      ]
     },
     "metadata": {},
     "output_type": "display_data"
    },
    {
     "data": {
      "text/html": [
       "<pre style=\"white-space:pre;overflow-x:auto;line-height:normal;font-family:Menlo,'DejaVu Sans Mono',consolas,'Courier New',monospace\"><span style=\"color: #808000; text-decoration-color: #808000; font-weight: bold\">Warning:</span><span style=\"color: #808000; text-decoration-color: #808000\"> Meshio doesn't know keyword TangentAtVertices. Skipping.</span>\n",
       "</pre>\n"
      ],
      "text/plain": [
       "\u001b[1;33mWarning:\u001b[0m\u001b[33m Meshio doesn't know keyword TangentAtVertices. Skipping.\u001b[0m\n"
      ]
     },
     "metadata": {},
     "output_type": "display_data"
    },
    {
     "data": {
      "text/html": [
       "<pre style=\"white-space:pre;overflow-x:auto;line-height:normal;font-family:Menlo,'DejaVu Sans Mono',consolas,'Courier New',monospace\"><span style=\"color: #808000; text-decoration-color: #808000; font-weight: bold\">Warning:</span><span style=\"color: #808000; text-decoration-color: #808000\"> Meshio doesn't know keyword Ridges. Skipping.</span>\n",
       "</pre>\n"
      ],
      "text/plain": [
       "\u001b[1;33mWarning:\u001b[0m\u001b[33m Meshio doesn't know keyword Ridges. Skipping.\u001b[0m\n"
      ]
     },
     "metadata": {},
     "output_type": "display_data"
    },
    {
     "name": "stdout",
     "output_type": "stream",
     "text": [
      "  -- MMG3D, Release 5.7.0 (Dec. 13, 2022) \n",
      "     Copyright (c) Bdx INP/CNRS/Inria/UPMC, 2004-\n",
      "     Jun 26 2024 16:20:47\n",
      "\n",
      "  -- INPUT DATA\n",
      "  %% meshout.mesh OPENED\n",
      "  %% tetmesh1e2_solution.sol OPENED\n",
      "\n",
      "  %% meshout.mmg3d OPENED\n",
      "  -- DATA READING COMPLETED.     0.049s\n",
      "\n",
      "  -- MMG3DLS: INPUT DATA\n",
      "  -- INPUT DATA COMPLETED.     0.000s\n",
      "\n",
      "  -- PHASE 1 : ISOSURFACE DISCRETIZATION\n",
      "\n",
      "  -- MESH QUALITY  8449\n",
      "     BEST   0.994479  AVRG.   0.726171  WRST.   0.029839 (808)\n",
      "  -- PHASE 1 COMPLETED.     0.052s\n",
      "\n",
      "  -- PHASE 2 : ANALYSIS\n",
      "  -- PHASE 2 COMPLETED.     0.041s\n",
      "\n",
      "  -- PHASE 3 : MESH IMPROVEMENT\n",
      "  *** Manifold implicit surface.\n",
      "                            3726 splitted,       39 collapsed,    14410 swapped, 5 iter.\n",
      "\n",
      "  -- GRADATION : 1.300000 (2.300000)\n",
      "                            1243 splitted,     4215 collapsed,     3348 swapped, 6 iter.\n",
      "         4013 splitted,     3245 collapsed,     9998 swapped,    24262 moved, 6 iter. \n",
      "  *** Manifold implicit surface.\n",
      "  -- PHASE 3 COMPLETED.     1.441s\n",
      "\n",
      "  -- MESH QUALITY  24629\n",
      "     BEST   0.997001  AVRG.   0.712247  WRST.   0.041440 (11808)\n",
      "\n",
      "  -- MESH PACKED UP\n",
      "     NUMBER OF VERTICES       4785   CORNERS       25\n",
      "     NUMBER OF TETRAHEDRA    24629\n",
      "     NUMBER OF EDGES           361   RIDGES       132\n",
      "     NUMBER OF TRIANGLES      3701\n",
      "\n",
      "   MMG3DLS: ELAPSED TIME  1.547s\n",
      "\n",
      "  &&&&&&&&&&&&&&&&&&&&&&&&&&&&&&&&&&&&&&&&&&&&&&&&&&&&&&&&&&&&\n",
      "   END OF MODULE MMG3D\n",
      "  &&&&&&&&&&&&&&&&&&&&&&&&&&&&&&&&&&&&&&&&&&&&&&&&&&&&&&&&&&&&\n",
      "\n",
      "\n",
      "  -- WRITING DATA FILE meshout.mesh\n",
      "  %% meshout.mesh OPENED\n",
      "  %% meshout.sol OPENED\n",
      "  -- WRITING COMPLETED\n",
      "\n",
      "   ELAPSED TIME  1.615s\n"
     ]
    },
    {
     "data": {
      "text/plain": [
       "CompletedProcess(args=['mmg3d_O3', 'meshout.mesh', '-ls', '0', '-sol', 'tetmesh1e2_solution.sol', '-out', 'meshout.mesh'], returncode=0)"
      ]
     },
     "execution_count": 13,
     "metadata": {},
     "output_type": "execute_result"
    }
   ],
   "source": [
    "mesh = dotmeshtotetmesh('meshout.mesh')\n",
    "savesol(solname,mesh,model['strati'])\n",
    "isovalue =0\n",
    "meshname='meshout.mesh'\n",
    "writemultimaterials2('meshout.mmg3d')\n",
    "subprocess.run(['mmg3d_O3',  meshname,'-ls',str(isovalue), '-sol', solname, '-out', 'meshout.mesh'])"
   ]
  },
  {
   "cell_type": "code",
   "execution_count": 14,
   "metadata": {},
   "outputs": [
    {
     "data": {
      "text/html": [
       "<pre style=\"white-space:pre;overflow-x:auto;line-height:normal;font-family:Menlo,'DejaVu Sans Mono',consolas,'Courier New',monospace\"><span style=\"color: #808000; text-decoration-color: #808000; font-weight: bold\">Warning:</span><span style=\"color: #808000; text-decoration-color: #808000\"> Meshio doesn't know keyword RequiredVertices. Skipping.</span>\n",
       "</pre>\n"
      ],
      "text/plain": [
       "\u001b[1;33mWarning:\u001b[0m\u001b[33m Meshio doesn't know keyword RequiredVertices. Skipping.\u001b[0m\n"
      ]
     },
     "metadata": {},
     "output_type": "display_data"
    },
    {
     "data": {
      "text/html": [
       "<pre style=\"white-space:pre;overflow-x:auto;line-height:normal;font-family:Menlo,'DejaVu Sans Mono',consolas,'Courier New',monospace\"><span style=\"color: #808000; text-decoration-color: #808000; font-weight: bold\">Warning:</span><span style=\"color: #808000; text-decoration-color: #808000\"> Meshio doesn't know keyword Tangents. Skipping.</span>\n",
       "</pre>\n"
      ],
      "text/plain": [
       "\u001b[1;33mWarning:\u001b[0m\u001b[33m Meshio doesn't know keyword Tangents. Skipping.\u001b[0m\n"
      ]
     },
     "metadata": {},
     "output_type": "display_data"
    },
    {
     "data": {
      "text/html": [
       "<pre style=\"white-space:pre;overflow-x:auto;line-height:normal;font-family:Menlo,'DejaVu Sans Mono',consolas,'Courier New',monospace\"><span style=\"color: #808000; text-decoration-color: #808000; font-weight: bold\">Warning:</span><span style=\"color: #808000; text-decoration-color: #808000\"> Meshio doesn't know keyword TangentAtVertices. Skipping.</span>\n",
       "</pre>\n"
      ],
      "text/plain": [
       "\u001b[1;33mWarning:\u001b[0m\u001b[33m Meshio doesn't know keyword TangentAtVertices. Skipping.\u001b[0m\n"
      ]
     },
     "metadata": {},
     "output_type": "display_data"
    },
    {
     "data": {
      "text/html": [
       "<pre style=\"white-space:pre;overflow-x:auto;line-height:normal;font-family:Menlo,'DejaVu Sans Mono',consolas,'Courier New',monospace\"><span style=\"color: #808000; text-decoration-color: #808000; font-weight: bold\">Warning:</span><span style=\"color: #808000; text-decoration-color: #808000\"> Meshio doesn't know keyword Ridges. Skipping.</span>\n",
       "</pre>\n"
      ],
      "text/plain": [
       "\u001b[1;33mWarning:\u001b[0m\u001b[33m Meshio doesn't know keyword Ridges. Skipping.\u001b[0m\n"
      ]
     },
     "metadata": {},
     "output_type": "display_data"
    }
   ],
   "source": [
    "mesh = dotmeshtotetmesh('meshout.mesh')"
   ]
  },
  {
   "cell_type": "code",
   "execution_count": 15,
   "metadata": {},
   "outputs": [
    {
     "data": {
      "text/html": [
       "<pre style=\"white-space:pre;overflow-x:auto;line-height:normal;font-family:Menlo,'DejaVu Sans Mono',consolas,'Courier New',monospace\"><span style=\"color: #808000; text-decoration-color: #808000; font-weight: bold\">Warning:</span><span style=\"color: #808000; text-decoration-color: #808000\"> Meshio doesn't know keyword RequiredVertices. Skipping.</span>\n",
       "</pre>\n"
      ],
      "text/plain": [
       "\u001b[1;33mWarning:\u001b[0m\u001b[33m Meshio doesn't know keyword RequiredVertices. Skipping.\u001b[0m\n"
      ]
     },
     "metadata": {},
     "output_type": "display_data"
    },
    {
     "data": {
      "text/html": [
       "<pre style=\"white-space:pre;overflow-x:auto;line-height:normal;font-family:Menlo,'DejaVu Sans Mono',consolas,'Courier New',monospace\"><span style=\"color: #808000; text-decoration-color: #808000; font-weight: bold\">Warning:</span><span style=\"color: #808000; text-decoration-color: #808000\"> Meshio doesn't know keyword Tangents. Skipping.</span>\n",
       "</pre>\n"
      ],
      "text/plain": [
       "\u001b[1;33mWarning:\u001b[0m\u001b[33m Meshio doesn't know keyword Tangents. Skipping.\u001b[0m\n"
      ]
     },
     "metadata": {},
     "output_type": "display_data"
    },
    {
     "data": {
      "text/html": [
       "<pre style=\"white-space:pre;overflow-x:auto;line-height:normal;font-family:Menlo,'DejaVu Sans Mono',consolas,'Courier New',monospace\"><span style=\"color: #808000; text-decoration-color: #808000; font-weight: bold\">Warning:</span><span style=\"color: #808000; text-decoration-color: #808000\"> Meshio doesn't know keyword TangentAtVertices. Skipping.</span>\n",
       "</pre>\n"
      ],
      "text/plain": [
       "\u001b[1;33mWarning:\u001b[0m\u001b[33m Meshio doesn't know keyword TangentAtVertices. Skipping.\u001b[0m\n"
      ]
     },
     "metadata": {},
     "output_type": "display_data"
    },
    {
     "data": {
      "text/html": [
       "<pre style=\"white-space:pre;overflow-x:auto;line-height:normal;font-family:Menlo,'DejaVu Sans Mono',consolas,'Courier New',monospace\"><span style=\"color: #808000; text-decoration-color: #808000; font-weight: bold\">Warning:</span><span style=\"color: #808000; text-decoration-color: #808000\"> Meshio doesn't know keyword Ridges. Skipping.</span>\n",
       "</pre>\n"
      ],
      "text/plain": [
       "\u001b[1;33mWarning:\u001b[0m\u001b[33m Meshio doesn't know keyword Ridges. Skipping.\u001b[0m\n"
      ]
     },
     "metadata": {},
     "output_type": "display_data"
    }
   ],
   "source": [
    "import meshio\n",
    "\n",
    "mesh_mesh = meshio.read('meshout.mesh')\n",
    "mesh_mesh.write('meshout.vtk')"
   ]
  },
  {
   "cell_type": "code",
   "execution_count": 16,
   "metadata": {},
   "outputs": [
    {
     "data": {
      "text/plain": [
       "<meshio mesh object>\n",
       "  Number of points: 4785\n",
       "  Number of cells:\n",
       "    tetra: 24629\n",
       "    triangle: 3701\n",
       "    line: 361\n",
       "  Point data: medit:ref\n",
       "  Cell data: medit:ref"
      ]
     },
     "execution_count": 16,
     "metadata": {},
     "output_type": "execute_result"
    }
   ],
   "source": [
    "mesh_mesh"
   ]
  },
  {
   "cell_type": "code",
   "execution_count": 55,
   "metadata": {},
   "outputs": [
    {
     "data": {
      "text/plain": [
       "[<meshio CellBlock, type: tetra, num cells: 24629, tags: []>,\n",
       " <meshio CellBlock, type: triangle, num cells: 3701, tags: []>,\n",
       " <meshio CellBlock, type: line, num cells: 361, tags: []>]"
      ]
     },
     "execution_count": 55,
     "metadata": {},
     "output_type": "execute_result"
    }
   ],
   "source": [
    "mesh_mesh.cells"
   ]
  },
  {
   "cell_type": "code",
   "execution_count": 58,
   "metadata": {},
   "outputs": [
    {
     "data": {
      "text/plain": [
       "{'medit:ref': [array([4, 2, 3, ..., 7, 7, 7]),\n",
       "  array([ 2,  1,  1, ...,  1,  1, 10]),\n",
       "  array([10, 10, 10, 10,  0, 10, 10,  0, 10, 10, 10,  0,  0, 10, 10,  0, 10,\n",
       "          0, 10, 10, 10, 10, 10, 10, 10, 10,  0, 10, 10,  0, 10,  0, 10, 10,\n",
       "         10, 10, 10, 10, 10, 10,  0, 10,  0,  0, 10,  0, 10, 10, 10,  0,  0,\n",
       "         10, 10,  0, 10, 10, 10,  0,  0, 10, 10,  0, 10, 10,  0,  0, 10,  0,\n",
       "          0,  0, 10, 10,  0, 10, 10, 10, 10, 10,  0, 10, 10,  0,  0,  0,  0,\n",
       "          0,  0, 10, 10, 10, 10, 10, 10, 10,  0, 10, 10, 10, 10, 10, 10,  0,\n",
       "         10,  0,  0, 10, 10, 10, 10, 10, 10, 10, 10, 10,  0,  0,  0, 10, 10,\n",
       "          0, 10, 10,  0, 10,  0, 10, 10,  0,  0,  0,  0, 10, 10, 10, 10, 10,\n",
       "          0, 10, 10, 10,  0, 10,  0, 10, 10, 10, 10,  0, 10, 10, 10,  0, 10,\n",
       "         10,  0, 10, 10, 10, 10, 10, 10, 10,  0, 10,  0, 10, 10, 10, 10, 10,\n",
       "         10,  0, 10, 10, 10, 10,  0,  0,  0, 10,  0, 10,  0,  0,  0,  0,  0,\n",
       "         10, 10, 10, 10, 10,  0, 10, 10,  0, 10,  0, 10,  0,  0,  0,  0,  0,\n",
       "          0, 10, 10,  0,  0, 10, 10, 10, 10,  0,  0,  0, 10, 10, 10, 10, 10,\n",
       "         10, 10,  0,  0, 10,  0,  0, 10, 10, 10, 10, 10,  0, 10,  0,  0,  0,\n",
       "          0, 10, 10,  0, 10,  0, 10,  0, 10,  0, 10, 10,  0,  0, 10, 10, 10,\n",
       "         10,  0, 10,  0, 10,  0, 10,  0, 10, 10, 10,  0,  0, 10, 10,  0, 10,\n",
       "          0, 10,  0, 10, 10,  0, 10, 10, 10, 10, 10, 10, 10,  0, 10, 10,  0,\n",
       "         10,  0,  0,  0, 10,  0, 10, 10,  0,  0, 10, 10, 10, 10, 10, 10, 10,\n",
       "         10, 10, 10, 10, 10, 10,  0,  0,  0,  0,  0, 10,  0,  0, 10, 10, 10,\n",
       "          0,  0, 10,  0,  0, 10, 10, 10,  0,  0, 10,  0, 10,  0, 10, 10, 10,\n",
       "         10, 10, 10, 10, 10, 10,  0, 10, 10, 10,  0, 10,  0, 10, 10,  0, 10,\n",
       "         10, 10,  0,  0])]}"
      ]
     },
     "execution_count": 58,
     "metadata": {},
     "output_type": "execute_result"
    }
   ],
   "source": [
    "mesh_mesh.cell_data"
   ]
  },
  {
   "cell_type": "code",
   "execution_count": 45,
   "metadata": {},
   "outputs": [
    {
     "name": "stdout",
     "output_type": "stream",
     "text": [
      "tetra:\n",
      "(24629,)\n",
      "[1 2 3 4 7]\n"
     ]
    }
   ],
   "source": [
    "print('tetra:')\n",
    "print(mesh_mesh.cell_data.get('medit:ref')[0].shape)\n",
    "print(np.unique(mesh_mesh.cell_data.get('medit:ref')[0]))"
   ]
  },
  {
   "cell_type": "code",
   "execution_count": 46,
   "metadata": {},
   "outputs": [
    {
     "name": "stdout",
     "output_type": "stream",
     "text": [
      "triangle:\n",
      "(3701,)\n",
      "[ 1  2  4 10]\n"
     ]
    }
   ],
   "source": [
    "print('triangle:')\n",
    "print(mesh_mesh.cell_data.get('medit:ref')[1].shape)\n",
    "print(np.unique(mesh_mesh.cell_data.get('medit:ref')[1]))"
   ]
  },
  {
   "cell_type": "code",
   "execution_count": 47,
   "metadata": {},
   "outputs": [
    {
     "name": "stdout",
     "output_type": "stream",
     "text": [
      "line:\n",
      "(361,)\n",
      "[ 0 10]\n"
     ]
    }
   ],
   "source": [
    "print('line:')\n",
    "print(mesh_mesh.cell_data.get('medit:ref')[2].shape)\n",
    "print(np.unique(mesh_mesh.cell_data.get('medit:ref')[2]))"
   ]
  },
  {
   "cell_type": "code",
   "execution_count": 57,
   "metadata": {},
   "outputs": [
    {
     "data": {
      "text/plain": [
       "[<meshio CellBlock, type: tetra, num cells: 24629, tags: []>,\n",
       " <meshio CellBlock, type: triangle, num cells: 3701, tags: []>,\n",
       " <meshio CellBlock, type: line, num cells: 361, tags: []>]"
      ]
     },
     "execution_count": 57,
     "metadata": {},
     "output_type": "execute_result"
    }
   ],
   "source": [
    "mesh_mesh.cells"
   ]
  },
  {
   "cell_type": "code",
   "execution_count": 22,
   "metadata": {},
   "outputs": [],
   "source": [
    "mesh.nodes*=100"
   ]
  },
  {
   "cell_type": "code",
   "execution_count": 23,
   "metadata": {},
   "outputs": [
    {
     "data": {
      "text/plain": [
       "(24629, 4)"
      ]
     },
     "execution_count": 23,
     "metadata": {},
     "output_type": "execute_result"
    }
   ],
   "source": [
    "mesh.elements.shape"
   ]
  },
  {
   "cell_type": "code",
   "execution_count": 24,
   "metadata": {},
   "outputs": [],
   "source": [
    "# mesh = TetMesh(tetmesh.nodes,tetmesh.elements)"
   ]
  },
  {
   "cell_type": "code",
   "execution_count": 25,
   "metadata": {},
   "outputs": [],
   "source": [
    "lower = np.isclose(mesh.nodes[:,2], model.bounding_box.origin[2],atol=1e-3)\n",
    "upper = np.isclose(mesh.nodes[:,2], model.bounding_box.origin[2] + model.bounding_box.maximum[2],atol=1e-3)\n",
    "left = np.isclose(mesh.nodes[:,0], model.bounding_box.origin[0],atol=1e-3)\n",
    "right = np.isclose(mesh.nodes[:,0], model.bounding_box.origin[0] + model.bounding_box.maximum[0],atol=1e-3)\n",
    "front = np.isclose(mesh.nodes[:,1], model.bounding_box.origin[1],atol=1e-3)\n",
    "back = np.isclose(mesh.nodes[:,1], model.bounding_box.origin[1] + model.bounding_box.maximum[1],atol=1e-3)\n",
    "mesh.point_data['Lower'] = lower.astype(int)\n",
    "mesh.point_data['Upper'] = upper.astype(int)\n",
    "mesh.point_data['Left'] = left.astype(int)\n",
    "mesh.point_data['Right'] = right.astype(int)\n",
    "mesh.point_data['Front'] = front.astype(int)\n",
    "mesh.point_data['Back'] = back.astype(int)"
   ]
  },
  {
   "cell_type": "code",
   "execution_count": 41,
   "metadata": {},
   "outputs": [
    {
     "data": {
      "text/plain": [
       "(4785,)"
      ]
     },
     "execution_count": 41,
     "metadata": {},
     "output_type": "execute_result"
    }
   ],
   "source": [
    "mesh.point_data['Back'].shape"
   ]
  },
  {
   "cell_type": "code",
   "execution_count": 26,
   "metadata": {},
   "outputs": [],
   "source": [
    "mesh.save('mesh_after_mmg.exo')"
   ]
  },
  {
   "cell_type": "code",
   "execution_count": 59,
   "metadata": {},
   "outputs": [],
   "source": [
    "mesh_exo = meshio.read('mesh_after_mmg.exo')"
   ]
  },
  {
   "cell_type": "code",
   "execution_count": 64,
   "metadata": {},
   "outputs": [
    {
     "data": {
      "text/plain": [
       "<meshio mesh object>\n",
       "  Number of points: 4785\n",
       "  Number of cells:\n",
       "    tetra: 24629\n",
       "  Point data: Lower, Upper, Left, Right, Front, Back"
      ]
     },
     "execution_count": 64,
     "metadata": {},
     "output_type": "execute_result"
    }
   ],
   "source": [
    "mesh_exo"
   ]
  },
  {
   "cell_type": "code",
   "execution_count": 73,
   "metadata": {},
   "outputs": [
    {
     "data": {
      "text/plain": [
       "{}"
      ]
     },
     "execution_count": 73,
     "metadata": {},
     "output_type": "execute_result"
    }
   ],
   "source": [
    "mesh_mesh.point_sets"
   ]
  },
  {
   "cell_type": "code",
   "execution_count": 114,
   "metadata": {},
   "outputs": [],
   "source": [
    "import datetime\n",
    "\n",
    "numpy_to_exodus_dtype = {\n",
    "    \"float32\": \"f4\",\n",
    "    \"float64\": \"f8\",\n",
    "    \"int8\": \"i1\",\n",
    "    \"int16\": \"i2\",\n",
    "    \"int32\": \"i4\",\n",
    "    \"int64\": \"i8\",\n",
    "    \"uint8\": \"u1\",\n",
    "    \"uint16\": \"u2\",\n",
    "    \"uint32\": \"u4\",\n",
    "    \"uint64\": \"u8\",\n",
    "}\n",
    "\n",
    "exodus_to_meshio_type = {\n",
    "    \"SPHERE\": \"vertex\",\n",
    "    # curves\n",
    "    \"BEAM\": \"line\",\n",
    "    \"BEAM2\": \"line\",\n",
    "    \"BEAM3\": \"line3\",\n",
    "    \"BAR2\": \"line\",\n",
    "    # surfaces\n",
    "    \"SHELL\": \"quad\",\n",
    "    \"SHELL4\": \"quad\",\n",
    "    \"SHELL8\": \"quad8\",\n",
    "    \"SHELL9\": \"quad9\",\n",
    "    \"QUAD\": \"quad\",\n",
    "    \"QUAD4\": \"quad\",\n",
    "    \"QUAD5\": \"quad5\",\n",
    "    \"QUAD8\": \"quad8\",\n",
    "    \"QUAD9\": \"quad9\",\n",
    "    #\n",
    "    \"TRI\": \"triangle\",\n",
    "    \"TRIANGLE\": \"triangle\",\n",
    "    \"TRI3\": \"triangle\",\n",
    "    \"TRI6\": \"triangle6\",\n",
    "    \"TRI7\": \"triangle7\",\n",
    "    # 'TRISHELL': 'triangle',\n",
    "    # 'TRISHELL3': 'triangle',\n",
    "    # 'TRISHELL6': 'triangle6',\n",
    "    # 'TRISHELL7': 'triangle',\n",
    "    #\n",
    "    # volumes\n",
    "    \"HEX\": \"hexahedron\",\n",
    "    \"HEXAHEDRON\": \"hexahedron\",\n",
    "    \"HEX8\": \"hexahedron\",\n",
    "    \"HEX9\": \"hexahedron9\",\n",
    "    \"HEX20\": \"hexahedron20\",\n",
    "    \"HEX27\": \"hexahedron27\",\n",
    "    #\n",
    "    \"TETRA\": \"tetra\",\n",
    "    \"TETRA4\": \"tetra4\",\n",
    "    \"TET4\": \"tetra4\",\n",
    "    \"TETRA8\": \"tetra8\",\n",
    "    \"TETRA10\": \"tetra10\",\n",
    "    \"TETRA14\": \"tetra14\",\n",
    "    #\n",
    "    \"PYRAMID\": \"pyramid\",\n",
    "    \"WEDGE\": \"wedge\",\n",
    "}\n",
    "meshio_to_exodus_type = {v: k for k, v in exodus_to_meshio_type.items()}\n",
    "\n"
   ]
  },
  {
   "cell_type": "code",
   "execution_count": 208,
   "metadata": {},
   "outputs": [
    {
     "data": {
      "text/plain": [
       "'TETRA'"
      ]
     },
     "execution_count": 208,
     "metadata": {},
     "output_type": "execute_result"
    }
   ],
   "source": [
    "meshio_to_exodus_type['tetra']"
   ]
  },
  {
   "cell_type": "code",
   "execution_count": 134,
   "metadata": {},
   "outputs": [
    {
     "data": {
      "text/plain": [
       "28691"
      ]
     },
     "execution_count": 134,
     "metadata": {},
     "output_type": "execute_result"
    }
   ],
   "source": [
    "sum(c.data.shape[0] for c in mesh_mesh.cells)"
   ]
  },
  {
   "cell_type": "code",
   "execution_count": 180,
   "metadata": {},
   "outputs": [
    {
     "data": {
      "text/plain": [
       "<meshio mesh object>\n",
       "  Number of points: 4785\n",
       "  Number of cells:\n",
       "    tetra: 24629\n",
       "    triangle: 3701\n",
       "    line: 361\n",
       "  Point data: medit:ref\n",
       "  Cell data: medit:ref"
      ]
     },
     "execution_count": 180,
     "metadata": {},
     "output_type": "execute_result"
    }
   ],
   "source": [
    "mesh_mesh"
   ]
  },
  {
   "cell_type": "code",
   "execution_count": 157,
   "metadata": {},
   "outputs": [
    {
     "name": "stdout",
     "output_type": "stream",
     "text": [
      "[1 2 3 4 7]\n"
     ]
    }
   ],
   "source": [
    "element_labels = mesh_mesh.cell_data.get('medit:ref')[0]\n",
    "labels_arr = np.unique(element_labels)\n",
    "print(labels_arr)"
   ]
  },
  {
   "cell_type": "code",
   "execution_count": 158,
   "metadata": {},
   "outputs": [
    {
     "data": {
      "text/plain": [
       "array([4, 2, 3, ..., 7, 7, 7])"
      ]
     },
     "execution_count": 158,
     "metadata": {},
     "output_type": "execute_result"
    }
   ],
   "source": [
    "element_labels"
   ]
  },
  {
   "cell_type": "code",
   "execution_count": 172,
   "metadata": {},
   "outputs": [
    {
     "data": {
      "text/plain": [
       "array([   0,    1,    2, ..., 4782, 4783, 4784])"
      ]
     },
     "execution_count": 172,
     "metadata": {},
     "output_type": "execute_result"
    }
   ],
   "source": [
    "np.unique(mesh_mesh.cells[0].data)"
   ]
  },
  {
   "cell_type": "code",
   "execution_count": 173,
   "metadata": {},
   "outputs": [
    {
     "data": {
      "text/plain": [
       "array([[0.00000000e+00, 1.83670992e-40, 0.00000000e+00],\n",
       "       [1.00000000e+01, 1.83670992e-40, 0.00000000e+00],\n",
       "       [1.00000000e+01, 1.00000000e+01, 0.00000000e+00],\n",
       "       ...,\n",
       "       [9.61159065e+00, 3.50132875e+00, 7.77172206e-02],\n",
       "       [4.88537713e+00, 3.82409942e+00, 7.06161947e-01],\n",
       "       [4.55325423e+00, 5.78395575e+00, 1.00533470e+00]])"
      ]
     },
     "execution_count": 173,
     "metadata": {},
     "output_type": "execute_result"
    }
   ],
   "source": [
    "mesh_mesh.points"
   ]
  },
  {
   "cell_type": "code",
   "execution_count": 178,
   "metadata": {},
   "outputs": [],
   "source": [
    "for label in labels_arr:\n",
    "    label_elements = mesh_mesh.cells[0].data[np.where(element_labels == label)]\n",
    "    # print(label_elements)\n",
    "    # print(np.unique(label_elements))\n",
    "    label_points = mesh_mesh.points[np.unique(label_elements)]\n",
    "    # print(label_points)"
   ]
  },
  {
   "cell_type": "code",
   "execution_count": 182,
   "metadata": {},
   "outputs": [
    {
     "data": {
      "text/plain": [
       "'int64'"
      ]
     },
     "execution_count": 182,
     "metadata": {},
     "output_type": "execute_result"
    }
   ],
   "source": [
    "label_elements.dtype.name"
   ]
  },
  {
   "cell_type": "code",
   "execution_count": 187,
   "metadata": {},
   "outputs": [
    {
     "data": {
      "text/plain": [
       "array([[0.00000000e+00, 0.00000000e+00, 6.05691557e+00, ...,\n",
       "        5.48351920e+00, 5.58662579e+00, 3.61614427e+00],\n",
       "       [1.83670992e-40, 1.00000000e+01, 3.21370049e+00, ...,\n",
       "        7.76620721e+00, 7.91199474e-02, 5.19246108e+00],\n",
       "       [2.00000000e+00, 2.00000000e+00, 2.00000000e+00, ...,\n",
       "        1.23381121e+00, 1.01880308e+00, 1.39751723e+00]])"
      ]
     },
     "execution_count": 187,
     "metadata": {},
     "output_type": "execute_result"
    }
   ],
   "source": [
    "label_points.T"
   ]
  },
  {
   "cell_type": "code",
   "execution_count": 188,
   "metadata": {},
   "outputs": [
    {
     "data": {
      "text/plain": [
       "1818"
      ]
     },
     "execution_count": 188,
     "metadata": {},
     "output_type": "execute_result"
    }
   ],
   "source": [
    "label_points.shape[0]"
   ]
  },
  {
   "cell_type": "code",
   "execution_count": 197,
   "metadata": {},
   "outputs": [
    {
     "data": {
      "text/plain": [
       "(24629, 4)"
      ]
     },
     "execution_count": 197,
     "metadata": {},
     "output_type": "execute_result"
    }
   ],
   "source": [
    "mesh_mesh.cells[0].data.shape"
   ]
  },
  {
   "cell_type": "code",
   "execution_count": 217,
   "metadata": {},
   "outputs": [
    {
     "name": "stdout",
     "output_type": "stream",
     "text": [
      "1\n"
     ]
    }
   ],
   "source": [
    "for label in [labels_arr[0]]:\n",
    "    print(label)"
   ]
  },
  {
   "cell_type": "code",
   "execution_count": 239,
   "metadata": {},
   "outputs": [],
   "source": [
    "def convert_mesh2exo(filename, mesh):\n",
    "    import netCDF4\n",
    "\n",
    "    with netCDF4.Dataset(filename, \"w\") as rootgrp:\n",
    "        # set global data\n",
    "        now = datetime.datetime.now().isoformat()\n",
    "        rootgrp.title = f\"Created by .mesh file, {now}\"\n",
    "        rootgrp.version = np.float32(5.1)\n",
    "        rootgrp.api_version = np.float32(5.1)\n",
    "        rootgrp.floating_point_word_size = 8\n",
    "        rootgrp.createDimension(\"len_string\", 33)\n",
    "        rootgrp.createDimension(\"len_line\", 81)\n",
    "        \n",
    "\n",
    "        # finding unique labels in tetra\n",
    "        element_labels = mesh.cell_data.get('medit:ref')[0]\n",
    "        labels_arr = np.unique(element_labels)\n",
    "\n",
    "        rootgrp.createDimension(\"num_nodes\", len(mesh.points))\n",
    "        \n",
    "        # separate each label elements and points into blocks\n",
    "        for i, label in enumerate(labels_arr):\n",
    "            label_elements = mesh_mesh.cells[0].data[np.where(element_labels == label)]\n",
    "            label_points = mesh_mesh.points[np.unique(label_elements)]\n",
    "            \n",
    "            rootgrp.createDimension(f\"num_el_blk{i}\", label_elements.shape[0])\n",
    "            rootgrp.createDimension(f\"num_nodes{i}\", label_points.shape[0])\n",
    "            rootgrp.createDimension(f\"num_dim{i}\", label_points.shape[1])\n",
    "            rootgrp.createDimension(f\"time_step{i}\", None)\n",
    "    \n",
    "    \n",
    "            # dummy time step\n",
    "            data = rootgrp.createVariable(f\"time_whole{i}\", \"f4\", (f\"time_step{i}\",))\n",
    "            data[:] = 0.0\n",
    "    \n",
    "            # points\n",
    "            coor_names = rootgrp.createVariable(f\"coor_names{i}\", \"S1\", (f\"num_dim{i}\", \"len_string\"))\n",
    "            coor_names.set_auto_mask(False)\n",
    "            coor_names[0, 0] = b\"X\"\n",
    "            coor_names[1, 0] = b\"Y\"\n",
    "            if mesh.points.shape[1] == 3:\n",
    "                coor_names[2, 0] = b\"Z\"\n",
    "            data = rootgrp.createVariable(f\"coord{i}\", numpy_to_exodus_dtype[label_points.dtype.name], (f\"num_dim{i}\", f\"num_nodes{i}\"),)\n",
    "            data[:] = label_points.T\n",
    "\n",
    "            # cells\n",
    "            # ParaView needs eb_prop1 -- some ID. The values don't seem to matter as\n",
    "            # long as they are different for the for different blocks.\n",
    "            data = rootgrp.createVariable(f\"eb_prop{i}\", \"i4\", f\"num_el_blk{i}\")\n",
    "            data[:] = i\n",
    "            for k, cell_block in enumerate([label_elements]):\n",
    "                dim1 = f\"num_el_in_blk{i}{k + 1}\"\n",
    "                dim2 = f\"num_nod_per_el{i}{k + 1}\"\n",
    "                rootgrp.createDimension(dim1, cell_block.shape[0])\n",
    "                rootgrp.createDimension(dim2, cell_block.shape[1])\n",
    "                dtype = numpy_to_exodus_dtype[cell_block.dtype.name]\n",
    "                data = rootgrp.createVariable(f\"connect{i}{k + 1}\", dtype, (dim1, dim2))\n",
    "                data.elem_type = meshio_to_exodus_type['tetra']\n",
    "                # Exodus is 1-based\n",
    "                data[:] = cell_block + 1\n",
    "\n",
    "import os \n",
    "os.remove('ex_mesh2exo.exo')\n",
    "convert_mesh2exo('ex_mesh2exo.exo', mesh_mesh)"
   ]
  },
  {
   "cell_type": "code",
   "execution_count": 214,
   "metadata": {},
   "outputs": [],
   "source": [
    "def write(filename, mesh):\n",
    "    import netCDF4\n",
    "\n",
    "    with netCDF4.Dataset(filename, \"w\") as rootgrp:\n",
    "        # set global data\n",
    "        now = datetime.datetime.now().isoformat()\n",
    "        rootgrp.title = f\"Created by meshio v5.3.5, {now}\"\n",
    "        rootgrp.version = np.float32(5.1)\n",
    "        rootgrp.api_version = np.float32(5.1)\n",
    "        rootgrp.floating_point_word_size = 8\n",
    "\n",
    "        # set dimensions\n",
    "        total_num_elems = sum(c.data.shape[0] for c in [mesh.cells[0]])\n",
    "        rootgrp.createDimension(\"num_nodes\", len(mesh.points))\n",
    "        rootgrp.createDimension(\"num_dim\", mesh.points.shape[1])\n",
    "        rootgrp.createDimension(\"num_elem\", total_num_elems)\n",
    "        rootgrp.createDimension(\"num_el_blk\", len([mesh.cells[0]]))\n",
    "        rootgrp.createDimension(\"num_node_sets\", len(mesh.point_sets))\n",
    "        rootgrp.createDimension(\"len_string\", 33)\n",
    "        rootgrp.createDimension(\"len_line\", 81)\n",
    "        rootgrp.createDimension(\"four\", 4)\n",
    "        rootgrp.createDimension(\"time_step\", None)\n",
    "\n",
    "        # dummy time step\n",
    "        data = rootgrp.createVariable(\"time_whole\", \"f4\", (\"time_step\",))\n",
    "        data[:] = 0.0\n",
    "\n",
    "        # points\n",
    "        coor_names = rootgrp.createVariable(\n",
    "            \"coor_names\", \"S1\", (\"num_dim\", \"len_string\")\n",
    "        )\n",
    "        coor_names.set_auto_mask(False)\n",
    "        coor_names[0, 0] = b\"X\"\n",
    "        coor_names[1, 0] = b\"Y\"\n",
    "        if mesh.points.shape[1] == 3:\n",
    "            coor_names[2, 0] = b\"Z\"\n",
    "        data = rootgrp.createVariable(\n",
    "            \"coord\",\n",
    "            numpy_to_exodus_dtype[mesh.points.dtype.name],\n",
    "            (\"num_dim\", \"num_nodes\"),\n",
    "        )\n",
    "        data[:] = mesh.points.T\n",
    "\n",
    "        # cells\n",
    "        # ParaView needs eb_prop1 -- some ID. The values don't seem to matter as\n",
    "        # long as they are different for the for different blocks.\n",
    "        data = rootgrp.createVariable(\"eb_prop1\", \"i4\", \"num_el_blk\")\n",
    "        for k in range(len([mesh.cells[0]])):\n",
    "            data[k] = k\n",
    "        for k, cell_block in enumerate([mesh.cells[0]]):\n",
    "            dim1 = f\"num_el_in_blk{k + 1}\"\n",
    "            dim2 = f\"num_nod_per_el{k + 1}\"\n",
    "            rootgrp.createDimension(dim1, cell_block.data.shape[0])\n",
    "            rootgrp.createDimension(dim2, cell_block.data.shape[1])\n",
    "            dtype = numpy_to_exodus_dtype[cell_block.data.dtype.name]\n",
    "            data = rootgrp.createVariable(f\"connect{k + 1}\", dtype, (dim1, dim2))\n",
    "            data.elem_type = meshio_to_exodus_type[cell_block.type]\n",
    "            # Exodus is 1-based\n",
    "            data[:] = cell_block.data + 1\n",
    "\n",
    "        # # point data\n",
    "        # # The variable `name_nod_var` holds the names and indices of the node variables, the\n",
    "        # # variables `vals_nod_var{1,2,...}` hold the actual data.\n",
    "        # num_nod_var = len(mesh.point_data)\n",
    "        # if num_nod_var > 0:\n",
    "        #     rootgrp.createDimension(\"num_nod_var\", num_nod_var)\n",
    "        #     # set names\n",
    "        #     point_data_names = rootgrp.createVariable(\n",
    "        #         \"name_nod_var\", \"S1\", (\"num_nod_var\", \"len_string\")\n",
    "        #     )\n",
    "        #     point_data_names.set_auto_mask(False)\n",
    "        #     for k, name in enumerate(mesh.point_data.keys()):\n",
    "        #         for i, letter in enumerate(name):\n",
    "        #             point_data_names[k, i] = letter.encode()\n",
    "\n",
    "        #     # Set data. ParaView might have some problems here, see\n",
    "        #     # <https://gitlab.kitware.com/paraview/paraview/-/issues/18403>.\n",
    "        #     for k, (name, data) in enumerate(mesh.point_data.items()):\n",
    "        #         for i, s in enumerate(data.shape):\n",
    "        #             rootgrp.createDimension(f\"dim_nod_var{k}{i}\", s)\n",
    "        #         dims = [\"time_step\"] + [\n",
    "        #             f\"dim_nod_var{k}{i}\" for i in range(len(data.shape))\n",
    "        #         ]\n",
    "        #         node_data = rootgrp.createVariable(\n",
    "        #             f\"vals_nod_var{k + 1}\",\n",
    "        #             numpy_to_exodus_dtype[data.dtype.name],\n",
    "        #             tuple(dims),\n",
    "        #             fill_value=False,\n",
    "        #         )\n",
    "        #         node_data[0] = data\n",
    "\n",
    "        # # node sets\n",
    "        # num_point_sets = len(mesh.point_sets)\n",
    "        # if num_point_sets > 0:\n",
    "        #     data = rootgrp.createVariable(\"ns_prop1\", \"i4\", \"num_node_sets\")\n",
    "        #     data_names = rootgrp.createVariable(\n",
    "        #         \"ns_names\", \"S1\", (\"num_node_sets\", \"len_string\")\n",
    "        #     )\n",
    "        #     for k, name in enumerate(mesh.point_sets.keys()):\n",
    "        #         data[k] = k\n",
    "        #         for i, letter in enumerate(name):\n",
    "        #             data_names[k, i] = letter.encode()\n",
    "        #     for k, (key, values) in enumerate(mesh.point_sets.items()):\n",
    "        #         dim1 = f\"num_nod_ns{k + 1}\"\n",
    "        #         rootgrp.createDimension(dim1, values.shape[0])\n",
    "        #         dtype = numpy_to_exodus_dtype[values.dtype.name]\n",
    "        #         data = rootgrp.createVariable(f\"node_ns{k + 1}\", dtype, (dim1,))\n",
    "        #         # Exodus is 1-based\n",
    "        #         data[:] = values + 1\n",
    "\n",
    "import os \n",
    "os.remove('aaaaa_test_tg.exo')\n",
    "write('aaaaa_test_tg.exo', mesh_mesh)"
   ]
  },
  {
   "cell_type": "code",
   "execution_count": 242,
   "metadata": {},
   "outputs": [],
   "source": [
    "import netCDF4\n",
    "import numpy as np\n",
    "\n",
    "# Define the Exodus II file name\n",
    "exodus_filename = 'mesh_with_two_blocks.exo'\n",
    "\n",
    "# Create a new NetCDF file\n",
    "rootgrp = netCDF4.Dataset(exodus_filename, mode='w', format='NETCDF4')\n",
    "\n",
    "# Define dimensions\n",
    "num_dim = 2\n",
    "num_nodes = 6\n",
    "num_elem_blk = 2\n",
    "num_nodes_per_elem = 4\n",
    "num_elem1 = 1\n",
    "num_elem2 = 1\n",
    "\n",
    "rootgrp.createDimension('num_dim', num_dim)\n",
    "rootgrp.createDimension('num_nodes', num_nodes)\n",
    "rootgrp.createDimension('num_elem_blk', num_elem_blk)\n",
    "rootgrp.createDimension('num_elem_in_blk1', num_elem1)\n",
    "rootgrp.createDimension('num_elem_in_blk2', num_elem2)\n",
    "rootgrp.createDimension('num_nod_per_el1', num_nodes_per_elem)\n",
    "rootgrp.createDimension('num_nod_per_el2', num_nodes_per_elem)\n",
    "rootgrp.createDimension('len_string', 33)\n",
    "rootgrp.createDimension('len_line', 81)\n",
    "\n",
    "# Define variables for coordinates\n",
    "coords = rootgrp.createVariable('coord', 'f4', ('num_dim', 'num_nodes'))\n",
    "coord_names = rootgrp.createVariable('coor_names', 'S1', ('num_dim', 'len_string'))\n",
    "\n",
    "# Define variables for element connectivity\n",
    "connect1 = rootgrp.createVariable('connect1', 'i4', ('num_elem_in_blk1', 'num_nod_per_el1'))\n",
    "connect2 = rootgrp.createVariable('connect2', 'i4', ('num_elem_in_blk2', 'num_nod_per_el2'))\n",
    "\n",
    "# Define variables for element block properties\n",
    "eb_prop1 = rootgrp.createVariable('eb_prop1', 'i4', 'num_elem_blk')\n",
    "\n",
    "# Define element variable names\n",
    "elem_var_names = rootgrp.createVariable('name_elem_var', 'S1', ('num_elem_blk', 'len_string'))\n",
    "elem_var1 = rootgrp.createVariable('vals_elem_var1', 'f4', ('num_elem_in_blk1',))\n",
    "elem_var2 = rootgrp.createVariable('vals_elem_var2', 'f4', ('num_elem_in_blk2',))\n",
    "\n",
    "# Assign coordinate data\n",
    "coords[0, :] = [0.0, 1.0, 1.0, 0.0, 2.0, 2.0]  # x-coordinates\n",
    "coords[1, :] = [0.0, 0.0, 1.0, 1.0, 0.0, 1.0]  # y-coordinates\n",
    "\n",
    "# Assign coordinate names\n",
    "coord_names[0, :4] = netCDF4.stringtochar(np.array(['x   '], 'S1'))\n",
    "coord_names[1, :4] = netCDF4.stringtochar(np.array(['y   '], 'S1'))\n",
    "\n",
    "# Assign connectivity data\n",
    "connect1[0, :] = [1, 2, 3, 4]  # First quadrilateral element\n",
    "connect2[0, :] = [2, 5, 6, 3]  # Second quadrilateral element\n",
    "\n",
    "# Assign element block properties\n",
    "eb_prop1[:] = [1, 2]  # Unique IDs for element blocks\n",
    "\n",
    "# Assign element variable names\n",
    "elem_var_names[0, :11] = netCDF4.stringtochar(np.array(['temperature'], 'S1'))\n",
    "elem_var_names[1, :11] = netCDF4.stringtochar(np.array(['temperature'], 'S1'))\n",
    "\n",
    "# Assign element variable values (example: temperature values for elements)\n",
    "elem_var1[:] = [100.0]  # Temperature for elements in block 1\n",
    "elem_var2[:] = [200.0]  # Temperature for elements in block 2\n",
    "\n",
    "# Add global attributes\n",
    "rootgrp.title = 'Mesh with Two Blocks Example'\n",
    "rootgrp.api_version = np.float32(5.10)\n",
    "rootgrp.floating_point_word_size = np.int32(8)\n",
    "rootgrp.file_size = 1\n",
    "\n",
    "# Ensure unique block names\n",
    "elem_block_names = rootgrp.createVariable('eb_names', 'S1', ('num_elem_blk', 'len_string'))\n",
    "unique_block_name1 = 'block_1'\n",
    "unique_block_name2 = 'block_2'\n",
    "elem_block_names[0, :len(unique_block_name1)] = netCDF4.stringtochar(np.array(list(unique_block_name1), 'S1'))\n",
    "elem_block_names[1, :len(unique_block_name2)] = netCDF4.stringtochar(np.array(list(unique_block_name2), 'S1'))\n",
    "\n",
    "# Close the file\n",
    "rootgrp.close()\n"
   ]
  },
  {
   "cell_type": "code",
   "execution_count": 244,
   "metadata": {},
   "outputs": [],
   "source": [
    "import netCDF4\n",
    "import numpy as np\n",
    "\n",
    "# Define the Exodus II file name\n",
    "exodus_filename = 'mesh_with_two_blocks2.exo'\n",
    "\n",
    "# Create a new NetCDF file\n",
    "rootgrp = netCDF4.Dataset(exodus_filename, mode='w', format='NETCDF4')\n",
    "\n",
    "# Define dimensions\n",
    "num_dim = 2\n",
    "num_nodes = 6\n",
    "num_elem_blk = 2\n",
    "num_nodes_per_elem = 4\n",
    "num_elem1 = 1\n",
    "num_elem2 = 1\n",
    "\n",
    "rootgrp.createDimension('num_dim', num_dim)\n",
    "rootgrp.createDimension('num_nodes', num_nodes)\n",
    "rootgrp.createDimension('num_elem_blk', num_elem_blk)\n",
    "rootgrp.createDimension('num_el_in_blk1', num_elem1)\n",
    "rootgrp.createDimension('num_el_in_blk2', num_elem2)\n",
    "rootgrp.createDimension('num_nod_per_el1', num_nodes_per_elem)\n",
    "rootgrp.createDimension('num_nod_per_el2', num_nodes_per_elem)\n",
    "rootgrp.createDimension('len_string', 33)\n",
    "rootgrp.createDimension('len_line', 81)\n",
    "rootgrp.createDimension('four', 4)\n",
    "\n",
    "# Define variables for coordinates\n",
    "coords = rootgrp.createVariable('coord', 'f4', ('num_dim', 'num_nodes'))\n",
    "coord_names = rootgrp.createVariable('coor_names', 'S1', ('num_dim', 'len_string'))\n",
    "\n",
    "# Define variables for element connectivity\n",
    "connect1 = rootgrp.createVariable('connect1', 'i4', ('num_el_in_blk1', 'num_nod_per_el1'))\n",
    "connect2 = rootgrp.createVariable('connect2', 'i4', ('num_el_in_blk2', 'num_nod_per_el2'))\n",
    "\n",
    "# Define variables for element block properties\n",
    "eb_prop1 = rootgrp.createVariable('eb_prop1', 'i4', 'num_elem_blk')\n",
    "\n",
    "# Define element variable names\n",
    "elem_var_names = rootgrp.createVariable('name_elem_var', 'S1', ('num_elem_blk', 'len_string'))\n",
    "elem_var1 = rootgrp.createVariable('vals_elem_var1', 'f4', ('num_el_in_blk1',))\n",
    "elem_var2 = rootgrp.createVariable('vals_elem_var2', 'f4', ('num_el_in_blk2',))\n",
    "\n",
    "# Assign coordinate data\n",
    "coords[0, :] = [0.0, 1.0, 1.0, 0.0, 2.0, 2.0]  # x-coordinates\n",
    "coords[1, :] = [0.0, 0.0, 1.0, 1.0, 0.0, 1.0]  # y-coordinates\n",
    "\n",
    "# Assign coordinate names\n",
    "coord_names[0, :4] = netCDF4.stringtochar(np.array(list('x'), 'S1'))\n",
    "coord_names[1, :4] = netCDF4.stringtochar(np.array(list('y'), 'S1'))\n",
    "\n",
    "# Assign connectivity data\n",
    "connect1[0, :] = [1, 2, 3, 4]  # First quadrilateral element\n",
    "connect2[0, :] = [2, 5, 6, 3]  # Second quadrilateral element\n",
    "\n",
    "# Assign element block properties\n",
    "eb_prop1[:] = [1, 2]  # Unique IDs for element blocks\n",
    "\n",
    "# Assign element variable names\n",
    "elem_var_names[0, :11] = netCDF4.stringtochar(np.array(list('temperature'), 'S1'))\n",
    "elem_var_names[1, :11] = netCDF4.stringtochar(np.array(list('temperature'), 'S1'))\n",
    "\n",
    "# Assign element variable values (example: temperature values for elements)\n",
    "elem_var1[:] = [100.0]  # Temperature for elements in block 1\n",
    "elem_var2[:] = [200.0]  # Temperature for elements in block 2\n",
    "\n",
    "# Add global attributes\n",
    "rootgrp.title = 'Mesh with Two Blocks Example'\n",
    "rootgrp.api_version = np.float32(5.10)\n",
    "rootgrp.version = np.float32(5.10)\n",
    "rootgrp.floating_point_word_size = np.int32(8)\n",
    "rootgrp.file_size = 1\n",
    "\n",
    "# Ensure unique block names\n",
    "elem_block_names = rootgrp.createVariable('eb_names', 'S1', ('num_elem_blk', 'len_string'))\n",
    "unique_block_name1 = 'block_1'\n",
    "unique_block_name2 = 'block_2'\n",
    "elem_block_names[0, :len(unique_block_name1)] = netCDF4.stringtochar(np.array(list(unique_block_name1), 'S1'))\n",
    "elem_block_names[1, :len(unique_block_name2)] = netCDF4.stringtochar(np.array(list(unique_block_name2), 'S1'))\n",
    "\n",
    "# Close the file\n",
    "rootgrp.close()\n"
   ]
  },
  {
   "cell_type": "code",
   "execution_count": null,
   "metadata": {},
   "outputs": [],
   "source": []
  }
 ],
 "metadata": {
  "kernelspec": {
   "display_name": "Python 3 (ipykernel)",
   "language": "python",
   "name": "python3"
  },
  "language_info": {
   "codemirror_mode": {
    "name": "ipython",
    "version": 3
   },
   "file_extension": ".py",
   "mimetype": "text/x-python",
   "name": "python",
   "nbconvert_exporter": "python",
   "pygments_lexer": "ipython3",
   "version": "3.11.9"
  }
 },
 "nbformat": 4,
 "nbformat_minor": 4
}
